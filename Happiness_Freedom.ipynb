{
 "cells": [
  {
   "cell_type": "markdown",
   "metadata": {},
   "source": [
    "# Happiness and Freedom\n",
    "\n",
    "**A brief review of the World Happiness Report and Human Freedom Index in terms of how presence of freedom affects happiness.**  \n",
    "\n",
    "Analysis derived from data using the most recent World Happiness Report ([link](http://worldhappiness.report/)) and Human Freedom Index ([link](https://www.cato.org/human-freedom-index-new)).\n",
    "\n",
    "\"The secret to happiness is freedom... and the secret to freedom is courage.\" - Thucydides ([wikipedia](https://en.wikipedia.org/wiki/Thucydides))\n",
    "\n",
    "It's obvious that freedoms and individual liberties contribute positive and strongly toward an individual's general sense of happiness.  We will examine how strong this correlation is and extend the examination to the top level categories of freedom as described by the HFI (Human Freedom Index) and the WHR (World Happiness Report)  The aim is to create an overview of the two datasets, their relationship, and find strongly correlated categories from the two datasets.  Additionally, we want to see how geographic isolation and political restriction of movement affect happiness scores.\n",
    "\n",
    "#### General Observations\n",
    "\n",
    "* Freedom is positively correlated with happiness.  (A gut check)\n",
    "* How do the top and bottom 10 countries compare in happiness to freedom?\n",
    "\n",
    "#### Human Freedom Index Overview\n",
    "\n",
    "* How do the two main categories of freedom (personal and economic) affect happiness and how does it differ in that effect?\n",
    "* Examining the subcategories of personal freedom (top level).\n",
    "* Examining the subcategories of economic freedom (top level).\n",
    "\n",
    "#### World Happiness Report Overview\n",
    "\n",
    "* How is each category related to overall happiness and rank?\n",
    "* How does each correlate to the strongest freedom category?\n",
    "\n",
    "#### Happiness in relation to individual freedom of movement\n",
    "\n",
    "* How does freedom of movement affect happiness?  Individuals that can move freely should be more happy than those under more restrictions.\n",
    "* How does gender affect freedom of movement?  Does gender play a role in in freedom of movement.  How does this affect happiness?\n",
    "\n",
    "#### Happiness and relative geographic isolation\n",
    "\n",
    "* How does geographic isolation relate to happiness?  Are people in landlocked countries less happy than those in coastal countries?\n",
    "* How does geographic isolation relate to freedom of movement?  Are people in landlocked countries or coastal countries more free to move around?\n",
    "\n",
    "**To run this project, it is recommend to use Restart & Run All from the Kernel dropdown menu**"
   ]
  },
  {
   "cell_type": "code",
   "execution_count": 4,
   "metadata": {},
   "outputs": [],
   "source": [
    "# imports\n",
    "import sqlite3\n",
    "import sqlalchemy as sa\n",
    "import matplotlib\n",
    "import matplotlib.pyplot as plt\n",
    "import seaborn as sns\n",
    "import numpy as np\n",
    "import pandas as pd\n",
    "import scipy\n",
    "from scipy.stats import linregress\n",
    "\n",
    "# create sqlite database and path\n",
    "from sqlalchemy import create_engine\n",
    "engine = create_engine('sqlite:///Happiness_Freedom.db')\n",
    "\n",
    "# set seaborn default theme\n",
    "sns.set_palette(\"muted\")\n",
    "\n",
    "# multiple outputs from single cell\n",
    "from IPython.core.interactiveshell import InteractiveShell\n",
    "InteractiveShell.ast_node_interactivity = \"all\""
   ]
  },
  {
   "cell_type": "code",
   "execution_count": 5,
   "metadata": {
    "scrolled": false
   },
   "outputs": [],
   "source": [
    "# create dataframes for each report from csv\n",
    "\n",
    "# Human Freedom Index \n",
    "hfi_file = pd.read_csv(\"hfi_cc_2018.csv\")\n",
    "hfi = pd.DataFrame(hfi_file)\n",
    "\n",
    "# World Happiness Report\n",
    "whr_file = pd.read_csv(\"whr_2017.csv\")\n",
    "whr = pd.DataFrame(whr_file)\n",
    "\n",
    "# create database and tables from dataframe\n",
    "hfi.to_sql(\"Human Freedom Index\", con=engine, if_exists=\"replace\")\n",
    "whr.to_sql(\"World Happiness Report\", con=engine, if_exists=\"replace\")"
   ]
  },
  {
   "cell_type": "markdown",
   "metadata": {},
   "source": [
    "### General Observations"
   ]
  },
  {
   "cell_type": "markdown",
   "metadata": {},
   "source": [
    "#### Happiness is directly correlated with freedom\n",
    "\n",
    "Let's start with a quick sanity check and make sure the happiness and freedom have a strong positive relationship."
   ]
  },
  {
   "cell_type": "code",
   "execution_count": 7,
   "metadata": {},
   "outputs": [
    {
     "data": {
      "text/plain": [
       "<matplotlib.axes._subplots.AxesSubplot at 0x28ad87b67f0>"
      ]
     },
     "execution_count": 7,
     "metadata": {},
     "output_type": "execute_result"
    },
    {
     "data": {
      "text/plain": [
       "Text(0.5,1,'Correlation of Happiness and Freedom')"
      ]
     },
     "execution_count": 7,
     "metadata": {},
     "output_type": "execute_result"
    },
    {
     "data": {
      "text/plain": [
       "<matplotlib.legend.Legend at 0x28ad9cd85c0>"
      ]
     },
     "execution_count": 7,
     "metadata": {},
     "output_type": "execute_result"
    },
    {
     "name": "stdout",
     "output_type": "stream",
     "text": [
      "Freedom and Happiness\n"
     ]
    },
    {
     "data": {
      "text/plain": [
       "LinregressResult(slope=0.6867913461953111, intercept=0.6236133610477834, rvalue=0.6330361581269445, pvalue=1.7569182578216024e-16, stderr=0.07282491965464152)"
      ]
     },
     "execution_count": 7,
     "metadata": {},
     "output_type": "execute_result"
    },
    {
     "data": {
      "image/png": "[encoded data removed]",
      "text/plain": [
       "<Figure size 1080x360 with 1 Axes>"
      ]
     },
     "metadata": {
      "needs_background": "light"
     },
     "output_type": "display_data"
    }
   ],
   "source": [
    "# get overall freedom score by country from Human Freedom Index\n",
    "hf_score_by_country_data = \"\"\"\n",
    "    SELECT \n",
    "        countries AS Country, \n",
    "        hf_score AS Freedom \n",
    "    FROM 'Human Freedom Index'\n",
    "\"\"\"\n",
    "\n",
    "hf_score_by_country_raw = pd.read_sql(hf_score_by_country_data, con=engine)\n",
    "hf_score_by_country = hf_score_by_country_raw.dropna()\n",
    "\n",
    "# get overall happiness score by country from World Happiness Report\n",
    "whr_data = \"\"\"\n",
    "    SELECT \n",
    "        Country, \n",
    "        [Happiness.Score] AS 'Happiness' \n",
    "    FROM 'World Happiness Report' \n",
    "    GROUP BY Country \n",
    "    ORDER BY 'Happiness' DESC\n",
    "\"\"\"\n",
    "\n",
    "whr_raw = pd.read_sql(whr_data, con=engine)\n",
    "whr = whr_raw.dropna()\n",
    "\n",
    "# combine the two dataframes and group by country\n",
    "reports_combined = pd.concat([hf_score_by_country, whr], sort=False)\n",
    "reports_grouped = reports_combined.groupby(\"Country\")[\"Freedom\", \"Happiness\"].mean()\n",
    "hf_wh_scores = reports_grouped.dropna()\n",
    "hf_wh_scores.columns = [\"Freedom\", \"Happiness\"]\n",
    "hf_wh_scores.index.name = \"Country\"\n",
    "\n",
    "# Scatter/regression plot of happiness vs freedom\n",
    "fig, ax = plt.subplots(figsize=(15, 5))\n",
    "sns.regplot(x=\"Freedom\", y=\"Happiness\", data=hf_wh_scores)\n",
    "points = plt.scatter(hf_wh_scores[\"Freedom\"], hf_wh_scores[\"Happiness\"], label=\"Combined Score\")\n",
    "ax.set_title(\"Correlation of Happiness and Freedom\")\n",
    "ax.legend();\n",
    "\n",
    "print(\"Freedom and Happiness\")\n",
    "x = hf_wh_scores[\"Freedom\"]\n",
    "y = hf_wh_scores[\"Happiness\"]\n",
    "linregress(x,y)"
   ]
  },
  {
   "cell_type": "markdown",
   "metadata": {},
   "source": [
    "As expected, reported happiness and freedom have a moderate positive correlation in a linear fashion.\n",
    "\n",
    "Slope = 0.69  \n",
    "Correlation Coefficient = 0.63"
   ]
  },
  {
   "cell_type": "markdown",
   "metadata": {},
   "source": [
    "#### How the top and bottom 10 countries compare in happiness to freedom\n",
    "\n",
    "Let's look at how the top 10 and bottom 10 countries compare in level of happiness.\n",
    "\n",
    "So that we can consider both the overall happiness and freedom scores for each country, we will create a Happiness/Freedom Index by averaging the 2 scores for each country."
   ]
  },
  {
   "cell_type": "code",
   "execution_count": 8,
   "metadata": {},
   "outputs": [
    {
     "data": {
      "text/plain": [
       "Text(0.5,1,'Top 10 HFI Countries')"
      ]
     },
     "execution_count": 8,
     "metadata": {},
     "output_type": "execute_result"
    },
    {
     "data": {
      "text/plain": [
       "[Text(0,0,'Norway'),\n",
       " Text(0,0,'Denmark'),\n",
       " Text(0,0,'Iceland'),\n",
       " Text(0,0,'Switzerland'),\n",
       " Text(0,0,'Finland'),\n",
       " Text(0,0,'Netherlands'),\n",
       " Text(0,0,'Canada'),\n",
       " Text(0,0,'New Zealand'),\n",
       " Text(0,0,'Australia')]"
      ]
     },
     "execution_count": 8,
     "metadata": {},
     "output_type": "execute_result"
    },
    {
     "data": {
      "text/plain": [
       "Text(0,0.5,'HFI Score')"
      ]
     },
     "execution_count": 8,
     "metadata": {},
     "output_type": "execute_result"
    },
    {
     "data": {
      "text/plain": [
       "(0, 10)"
      ]
     },
     "execution_count": 8,
     "metadata": {},
     "output_type": "execute_result"
    },
    {
     "data": {
      "text/plain": [
       "Text(0.5,1,'Bottom 10 HFI Countries')"
      ]
     },
     "execution_count": 8,
     "metadata": {},
     "output_type": "execute_result"
    },
    {
     "data": {
      "text/plain": [
       "[Text(0,0,'Madagascar'),\n",
       " Text(0,0,'Haiti'),\n",
       " Text(0,0,'Liberia'),\n",
       " Text(0,0,'Guinea'),\n",
       " Text(0,0,'Togo'),\n",
       " Text(0,0,'Rwanda'),\n",
       " Text(0,0,'Syria'),\n",
       " Text(0,0,'Tanzania'),\n",
       " Text(0,0,'Burundi')]"
      ]
     },
     "execution_count": 8,
     "metadata": {},
     "output_type": "execute_result"
    },
    {
     "data": {
      "text/plain": [
       "Text(0,0.5,'HFI Score')"
      ]
     },
     "execution_count": 8,
     "metadata": {},
     "output_type": "execute_result"
    },
    {
     "data": {
      "text/plain": [
       "(0, 10)"
      ]
     },
     "execution_count": 8,
     "metadata": {},
     "output_type": "execute_result"
    },
    {
     "data": {
      "image/png": "[encoded data removed]",
      "text/plain": [
       "<Figure size 1440x360 with 2 Axes>"
      ]
     },
     "metadata": {
      "needs_background": "light"
     },
     "output_type": "display_data"
    }
   ],
   "source": [
    "# reset index adn sort by happiness score\n",
    "hf_wh_scores_reset = hf_wh_scores.reset_index()\n",
    "hf_wh_scores_by_country_raw = hf_wh_scores_reset.sort_values(by=['Happiness'], ascending=False)\n",
    "hf_wh_scores_by_country_raw[\"Combined Score\"] = hf_wh_scores_by_country_raw.mean(axis=1)\n",
    "\n",
    "# get top 10 and bottom 10 rows and round score\n",
    "hf_wh_scores_by_country_top = hf_wh_scores_by_country_raw[:9].round(2)\n",
    "hf_wh_scores_by_country_bottom = hf_wh_scores_by_country_raw[-9:].round(2)\n",
    "\n",
    "# plot bar graph for each category\n",
    "fig, (ax1, ax2) = plt.subplots(1, 2, figsize=(20, 5))\n",
    "ax1 = sns.barplot(x=\"Country\", y=\"Combined Score\", data=hf_wh_scores_by_country_top, ax=ax1)\n",
    "ax2 = sns.barplot(x=\"Country\", y=\"Combined Score\", data=hf_wh_scores_by_country_bottom, ax=ax2)\n",
    "ax1.set_title(\"Top 10 HFI Countries\")\n",
    "ax1.set_xticklabels(hf_wh_scores_by_country_top[\"Country\"])\n",
    "ax1.set_ylabel(\"HFI Score\")\n",
    "ax1.set_ylim(0,10)\n",
    "ax2.set_title(\"Bottom 10 HFI Countries\")\n",
    "ax2.set_xticklabels(hf_wh_scores_by_country_bottom[\"Country\"])\n",
    "ax2.set_ylabel(\"HFI Score\")\n",
    "ax2.set_ylim(0,10)"
   ]
  },
  {
   "cell_type": "markdown",
   "metadata": {},
   "source": [
    "The top 10 countries combined scores are grouped tightly together hovering around 8 out of 10.\n",
    "\n",
    "The bottom 10 countries combined scores show a little more variability ranging between 4 and 6 out of 10."
   ]
  },
  {
   "cell_type": "markdown",
   "metadata": {},
   "source": [
    "## Human Freedom Index Overview"
   ]
  },
  {
   "cell_type": "markdown",
   "metadata": {},
   "source": [
    "#### Happiness in relation to  personal and economic freedom\n",
    "\n",
    "How does personal freedom affect happiness?\n",
    "\n",
    "How does economic freedom affect happiness?"
   ]
  },
  {
   "cell_type": "code",
   "execution_count": 9,
   "metadata": {},
   "outputs": [],
   "source": [
    "# get personal and economic freedom scores by country from World Freedom Report\n",
    "pf_ef_score_by_country_data = \"\"\"\n",
    "    SELECT \n",
    "        countries AS 'Country', \n",
    "        pf_score AS 'Personal Freedom', \n",
    "        ef_score AS 'Economic Freedom' \n",
    "    FROM 'Human Freedom Index'\n",
    "\"\"\"\n",
    "\n",
    "pf_ef_score_by_country_raw = pd.read_sql(pf_ef_score_by_country_data, con=engine)\n",
    "\n",
    "# coombine the two dataframes\n",
    "reports_combined = pd.concat([pf_ef_score_by_country_raw, whr], sort=False)\n",
    "reports_grouped = reports_combined.groupby(\"Country\")[\"Personal Freedom\", \"Economic Freedom\", \"Happiness\"].mean()\n",
    "pf_ef_scores = reports_grouped.dropna()"
   ]
  },
  {
   "cell_type": "code",
   "execution_count": 10,
   "metadata": {},
   "outputs": [
    {
     "data": {
      "text/plain": [
       "<matplotlib.axes._subplots.AxesSubplot at 0x28ad9a571d0>"
      ]
     },
     "execution_count": 10,
     "metadata": {},
     "output_type": "execute_result"
    },
    {
     "data": {
      "text/plain": [
       "<matplotlib.axes._subplots.AxesSubplot at 0x28ad9a7e6d8>"
      ]
     },
     "execution_count": 10,
     "metadata": {},
     "output_type": "execute_result"
    },
    {
     "data": {
      "text/plain": [
       "Text(0.5,1,'Happiness and Personal Freedom')"
      ]
     },
     "execution_count": 10,
     "metadata": {},
     "output_type": "execute_result"
    },
    {
     "data": {
      "text/plain": [
       "Text(0.5,1,'Happiness and Economic Freedom')"
      ]
     },
     "execution_count": 10,
     "metadata": {},
     "output_type": "execute_result"
    },
    {
     "name": "stdout",
     "output_type": "stream",
     "text": [
      "Personal Freedom\n"
     ]
    },
    {
     "data": {
      "text/plain": [
       "LinregressResult(slope=0.4792994286254869, intercept=1.9771523039640249, rvalue=0.5904565197157343, pvalue=4.8011190014548e-14, stderr=0.05680729070605633)"
      ]
     },
     "execution_count": 10,
     "metadata": {},
     "output_type": "execute_result"
    },
    {
     "name": "stdout",
     "output_type": "stream",
     "text": [
      "Economic Freedom\n"
     ]
    },
    {
     "data": {
      "text/plain": [
       "LinregressResult(slope=0.7572594668852657, intercept=0.2776175122816644, rvalue=0.5769568558547652, pvalue=2.4067155502762765e-13, stderr=0.09295607741457271)"
      ]
     },
     "execution_count": 10,
     "metadata": {},
     "output_type": "execute_result"
    },
    {
     "data": {
      "image/png": "[encoded data removed]",
      "text/plain": [
       "<Figure size 1080x360 with 2 Axes>"
      ]
     },
     "metadata": {
      "needs_background": "light"
     },
     "output_type": "display_data"
    }
   ],
   "source": [
    "# regplot of happiness, personal freedom and economic freedom scores\n",
    "fig, (ax1, ax2) = plt.subplots(1, 2, figsize=(15, 5), sharey=True)\n",
    "sns.regplot(x=\"Personal Freedom\", y=\"Happiness\", data=pf_ef_scores, ax=ax1)\n",
    "sns.regplot(x=\"Economic Freedom\", y=\"Happiness\", data=pf_ef_scores, ax=ax2)\n",
    "points1 = ax1.scatter(pf_ef_scores[\"Personal Freedom\"], pf_ef_scores[\"Happiness\"], label=\"Happiness and Personal Freedom\")\n",
    "points2 = ax2.scatter(pf_ef_scores[\"Economic Freedom\"], pf_ef_scores[\"Happiness\"], c=\"darkorange\", label=\"Happiness and Economic Freedom\") # color property necessary since default is used in first plot\n",
    "ax1.set_title(\"Happiness and Personal Freedom\")\n",
    "ax2.set_title(\"Happiness and Economic Freedom\")\n",
    "\n",
    "x = pf_ef_scores[\"Personal Freedom\"]\n",
    "y = pf_ef_scores[\"Happiness\"]\n",
    "print(\"Personal Freedom\")\n",
    "linregress(x,y)\n",
    "\n",
    "print(\"Economic Freedom\")\n",
    "x = pf_ef_scores[\"Economic Freedom\"]\n",
    "y = pf_ef_scores[\"Happiness\"]\n",
    "linregress(x,y)"
   ]
  },
  {
   "cell_type": "markdown",
   "metadata": {},
   "source": [
    "__Personal Freedom:__  \n",
    "Slope = 0.48  \n",
    "Correlation Coefficient = 0.59  \n",
    "\n",
    "__Economic Freedom__:  \n",
    "Slope = 0.78  \n",
    "Correlation Coefficient = 0.58  \n",
    "\n",
    "Both categories show a moderate to strong positive linear relationship.  \n",
    "\n",
    "Economic freedom seems to be slightly more important than personal freedom though the overall range of each category is equal.  \n",
    "\n",
    "Economic freedoms include property rights, international trade regulations, and size of government.\n"
   ]
  },
  {
   "cell_type": "markdown",
   "metadata": {},
   "source": [
    "#### Personal Freedom Subcategories\n"
   ]
  },
  {
   "cell_type": "code",
   "execution_count": null,
   "metadata": {},
   "outputs": [],
   "source": [
    "# Each personal freedom top level category\n",
    "hfi_pf_top_raw = \"\"\"\n",
    "    SELECT \n",
    "        countries AS Country, \n",
    "        hf_score AS 'Freedom Score', \n",
    "        pf_score AS 'Personal Freedom', \n",
    "        pf_rol AS 'Rule of Law', \n",
    "        pf_ss AS 'Safety and Security', \n",
    "        pf_movement AS 'Freedom of Movement', \n",
    "        pf_religion AS 'Freedom of Religion', \n",
    "        pf_association AS 'Association, Assembly, and Civil Society', \n",
    "        pf_expression AS 'Expression and Information', \n",
    "        pf_identity AS 'Identity and Relationships' \n",
    "    FROM 'Human Freedom Index' \n",
    "    GROUP BY Country \n",
    "    ORDER BY ef_score DESC\n",
    "\"\"\"\n",
    "\n",
    "hfi_pf_top_data = pd.read_sql(hfi_pf_top_raw, con=engine)\n",
    "hfi_pf_top = hfi_pf_top_data.dropna()\n",
    "\n",
    "# coombine the two dataframes grouping by county and dropping null values\n",
    "hfi_pf_top_whr_combined = pd.concat([hfi_pf_top, whr], sort=True)\n",
    "hfi_pf_top_whr_grouped = hfi_pf_top_whr_combined.groupby(\"Country\")[\"Happiness\", \"Freedom Score\", \"Personal Freedom\", \"Rule of Law\", \"Safety and Security\", \"Freedom of Movement\", \"Freedom of Religion\", \"Association, Assembly, and Civil Society\", \"Expression and Information\", \"Identity and Relationships\"].mean()\n",
    "hfi_pf_top_whr_cleaned = hfi_pf_top_whr_grouped.dropna()\n",
    "hfi_pf_top_whr = hfi_pf_top_whr_cleaned.reset_index()\n",
    "\n",
    "# plot of happiness and personal freedom subtypes\n",
    "fig, axes = plt.subplots(nrows=4, ncols=2, figsize=(15, 20))\n",
    "fig.suptitle(\"Happiness and Personal Freedoms\")\n",
    "sns.regplot(x=\"Personal Freedom\", y=\"Happiness\", data=hfi_pf_top_whr, ax=axes[0,0])\n",
    "sns.regplot(x=\"Rule of Law\", y=\"Happiness\", data=hfi_pf_top_whr, ax=axes[0,1])\n",
    "sns.regplot(x=\"Safety and Security\", y=\"Happiness\", data=hfi_pf_top_whr, ax=axes[1,0])\n",
    "sns.regplot(x=\"Freedom of Movement\", y=\"Happiness\", data=hfi_pf_top_whr, ax=axes[1,1])\n",
    "sns.regplot(x=\"Freedom of Religion\", y=\"Happiness\", data=hfi_pf_top_whr, ax=axes[2,0])\n",
    "sns.regplot(x=\"Association, Assembly, and Civil Society\", y=\"Happiness\", data=hfi_pf_top_whr, ax=axes[2,1])\n",
    "sns.regplot(x=\"Expression and Information\", y=\"Happiness\", data=hfi_pf_top_whr, ax=axes[3,0])\n",
    "sns.regplot(x=\"Identity and Relationships\", y=\"Happiness\", data=hfi_pf_top_whr, ax=axes[3,1])\n",
    "\n",
    "plt.tight_layout()\n",
    "fig.subplots_adjust(top=0.95)\n"
   ]
  },
  {
   "cell_type": "code",
   "execution_count": null,
   "metadata": {},
   "outputs": [],
   "source": [
    "# slope and correlation coefficient of happiness and personal freedom\n",
    "print(\"Freedom\")\n",
    "x = hfi_pf_top_whr[\"Personal Freedom\"]\n",
    "y = hfi_pf_top_whr[\"Happiness\"]\n",
    "linregress(x,y)\n",
    "\n",
    "# slope and correlation coefficient of happiness and rule of law\n",
    "print(\"Rule of Law\")\n",
    "x = hfi_pf_top_whr[\"Rule of Law\"]\n",
    "y = hfi_pf_top_whr[\"Happiness\"]\n",
    "linregress(x,y)\n",
    "\n",
    "# slope and correlation coefficient of happiness and safety and security\n",
    "print(\"Safety & Security\")\n",
    "x = hfi_pf_top_whr[\"Safety and Security\"]\n",
    "y = hfi_pf_top_whr[\"Happiness\"]\n",
    "linregress(x,y)\n",
    "\n",
    "# slope and correlation coefficient of happiness and movement\n",
    "print(\"Freedom of Movement\")\n",
    "x = hfi_pf_top_whr[\"Freedom of Movement\"]\n",
    "y = hfi_pf_top_whr[\"Happiness\"]\n",
    "linregress(x,y)\n",
    "\n",
    "# slope and correlation coefficient of happiness and religion\n",
    "print(\"Freedom of Religion\")\n",
    "x = hfi_pf_top_whr[\"Freedom of Religion\"]\n",
    "y = hfi_pf_top_whr[\"Happiness\"]\n",
    "linregress(x,y)\n",
    "\n",
    "# slope and correlation coefficient of happiness and association, assembly, and civil society\n",
    "print(\"Assocaition, Assembly, & Civil Society\")\n",
    "x = hfi_pf_top_whr[\"Association, Assembly, and Civil Society\"]\n",
    "y = hfi_pf_top_whr[\"Happiness\"]\n",
    "linregress(x,y)\n",
    "\n",
    "# slope and correlation coefficient of happiness and expression and information\n",
    "print(\"Expression and Information\")\n",
    "x = hfi_pf_top_whr[\"Expression and Information\"]\n",
    "y = hfi_pf_top_whr[\"Happiness\"]\n",
    "linregress(x,y)\n",
    "\n",
    "# slope and correlation coefficient of happiness and identity and relationships\n",
    "print(\"Identity & Relationships\")\n",
    "x = hfi_pf_top_whr[\"Identity and Relationships\"]\n",
    "y = hfi_pf_top_whr[\"Happiness\"]\n",
    "\n",
    "linregress(x,y)"
   ]
  },
  {
   "cell_type": "markdown",
   "metadata": {},
   "source": [
    "#### Analysis:\n",
    "\n",
    "**Strong relationship**: Rule of Law (0.71)\n",
    "\n",
    "**Weak to moderate**: Saftey & Security (0.48), Movement (0.42), Association, Assembly, and Civil Society (0.38), Expression and Information (0.45), Identity and Relationships (0.46)\n",
    "\n",
    "**None to weak** Relgion (0.16)\n",
    "\n",
    "Rule of Law shows to highest correlation with happiness, while all other categories except Religion show a weak to moderate correlation to happiness. Rule of law includes personal protections, civil liberties, and freedom from \"coerion by others\"."
   ]
  },
  {
   "cell_type": "markdown",
   "metadata": {},
   "source": [
    "#### Economic Freedom Subcategories"
   ]
  },
  {
   "cell_type": "code",
   "execution_count": null,
   "metadata": {},
   "outputs": [],
   "source": [
    "# Each economic freedom top level category\n",
    "hfi_ef_top_raw = \"\"\"SELECT \n",
    "        countries AS Country, \n",
    "        hf_score AS 'Freedom Score', \n",
    "        ef_score AS 'Economic Freedom', \n",
    "        ef_government AS 'Government', \n",
    "        ef_legal AS 'Legal', \n",
    "        ef_money AS 'Money', \n",
    "        ef_trade AS 'Trade', \n",
    "        ef_regulation AS 'Regulation' \n",
    "    FROM 'Human Freedom Index' \n",
    "    GROUP BY Country \n",
    "    ORDER BY ef_score DESC\n",
    "\"\"\"\n",
    "\n",
    "hfi_ef_top_data = pd.read_sql(hfi_ef_top_raw, con=engine)\n",
    "hfi_ef_top = hfi_ef_top_data.dropna()\n",
    "\n",
    "# coombine the two dataframes grouping by county and dropping null values\n",
    "hfi_top_whr_combined = pd.concat([hfi_ef_top, whr], sort=True)\n",
    "hfi_top_whr_grouped = hfi_top_whr_combined.groupby(\"Country\")[\"Happiness\", \"Economic Freedom\", \"Government\", \"Legal\", \"Money\", \"Trade\", \"Regulation\"].mean()\n",
    "hfi_top_whr_cleaned = hfi_top_whr_grouped.dropna()\n",
    "hfi_top_whr = hfi_top_whr_cleaned.reset_index()\n",
    "\n",
    "# plot of happiness and personal freedom subtypes\n",
    "fig, axes = plt.subplots(nrows=3, ncols=2, figsize=(15, 20))\n",
    "fig.suptitle(\"Happiness and Economic Freedoms\")\n",
    "sns.regplot(x=\"Economic Freedom\", y=\"Happiness\", data=hfi_top_whr, ax=axes[0,0])\n",
    "sns.regplot(x=\"Government\", y=\"Happiness\", data=hfi_top_whr, ax=axes[0,1])\n",
    "sns.regplot(x=\"Legal\", y=\"Happiness\", data=hfi_top_whr, ax=axes[1,0])\n",
    "sns.regplot(x=\"Money\", y=\"Happiness\", data=hfi_top_whr, ax=axes[1,1])\n",
    "sns.regplot(x=\"Trade\", y=\"Happiness\", data=hfi_top_whr, ax=axes[2,0])\n",
    "sns.regplot(x=\"Regulation\", y=\"Happiness\", data=hfi_top_whr, ax=axes[2,1])\n",
    "\n",
    "plt.tight_layout()\n",
    "fig.subplots_adjust(top=0.95)\n"
   ]
  },
  {
   "cell_type": "code",
   "execution_count": null,
   "metadata": {},
   "outputs": [],
   "source": [
    "# slope and correlation coefficient of happiness and economic freedom\n",
    "print(\"Economic Freedom\")\n",
    "x = hfi_top_whr[\"Economic Freedom\"]\n",
    "y = hfi_top_whr[\"Happiness\"]\n",
    "linregress(x,y)\n",
    "\n",
    "print(\"Government\")\n",
    "x = hfi_top_whr[\"Government\"]\n",
    "y = hfi_top_whr[\"Happiness\"]\n",
    "linregress(x,y)\n",
    "\n",
    "print(\"Legal\")\n",
    "x = hfi_top_whr[\"Legal\"]\n",
    "y = hfi_top_whr[\"Happiness\"]\n",
    "linregress(x,y)\n",
    "\n",
    "print(\"Money\")\n",
    "x = hfi_top_whr[\"Money\"]\n",
    "y = hfi_top_whr[\"Happiness\"]\n",
    "linregress(x,y)\n",
    "\n",
    "print(\"Trade\")\n",
    "x = hfi_top_whr[\"Trade\"]\n",
    "y = hfi_top_whr[\"Happiness\"]\n",
    "linregress(x,y)\n",
    "\n",
    "print(\"Regulation\")\n",
    "x = hfi_top_whr[\"Regulation\"]\n",
    "y = hfi_top_whr[\"Happiness\"]\n",
    "linregress(x,y)"
   ]
  },
  {
   "cell_type": "markdown",
   "metadata": {},
   "source": [
    "#### Analysis:\n",
    "\n",
    "**Strong relationship**: Legal (0.67), Money (0.60), Trade (0.61)\n",
    "\n",
    "**Weak to moderate**: Regulation (0.38)\n",
    "\n",
    "**None to weak** Government (0.14)\n",
    "\n",
    "3 out of the 5 categories show a strong relationship to happiness mirroring the overall effect of economic freedoms on happiness.  Government (size) shows a negative but weak correlation with happiness showing that happiness increases with a decrease in government size.  \n",
    "\n",
    "Legal (System and Property Rights) include judical enforcement, integrity, and independence.\n",
    "\n",
    "Money is the integrity of the country's currency.\n",
    "\n",
    "Trade is freedom to trade internationally and proper regulations.\n"
   ]
  },
  {
   "cell_type": "markdown",
   "metadata": {},
   "source": [
    "### Happiness Subcategories\n",
    "\n",
    "* How is each category related to overall happiness and rank?\n",
    "* How does each correlate to the strongest freedom category, Rule of Law?"
   ]
  },
  {
   "cell_type": "code",
   "execution_count": null,
   "metadata": {},
   "outputs": [],
   "source": [
    "# get top level subcategories from World Happiness Report\n",
    "whr_subcategories_data = \"\"\"\n",
    "    SELECT \n",
    "        Country, \n",
    "        [Happiness.Score] AS 'Happiness', \n",
    "        [Economy..GDP.per.Capita.] AS 'Economy (GDP)', \n",
    "        Family, [Health..Life.Expectancy.] AS 'Health & Life Expectancy', \n",
    "        Freedom, \n",
    "        Generosity, \n",
    "        [Trust..Government.Corruption.] AS 'Trust Government/Corruption', \n",
    "        [Dystopia.Residual] AS 'Dystopia Residual' \n",
    "    FROM 'World Happiness Report' \n",
    "    GROUP BY Country\n",
    "\"\"\"\n",
    "\n",
    "# pull data from table and drop N/A values\n",
    "whr_subcategories_raw = pd.read_sql(whr_subcategories_data, con=engine)\n",
    "whr_subcategories = whr_subcategories_raw.dropna()"
   ]
  },
  {
   "cell_type": "code",
   "execution_count": null,
   "metadata": {},
   "outputs": [],
   "source": [
    "# plot of happiness and subtypes\n",
    "fig, axes = plt.subplots(nrows=4, ncols=2, figsize=(15, 20))\n",
    "fig.suptitle(\"Happiness and Categories of Happiness\")\n",
    "\n",
    "sns.regplot(x=\"Economy (GDP)\", y=\"Happiness\", data=whr_subcategories, ax=axes[0,0])\n",
    "sns.regplot(x=\"Family\", y=\"Happiness\", data=whr_subcategories, ax=axes[0,1])\n",
    "\n",
    "axes[0,0].set_ylabel(\"Happiness\")\n",
    "axes[0,0].set_xlabel(\"Economy (GDP)\")\n",
    "axes[0,1].set_ylabel(\"Happiness\")\n",
    "axes[0,1].set_xlabel(\"Family\")\n",
    "\n",
    "sns.regplot(x=\"Health & Life Expectancy\", y=\"Happiness\", data=whr_subcategories, ax=axes[1,0])\n",
    "sns.regplot(x=\"Freedom\", y=\"Happiness\", data=whr_subcategories, ax=axes[1,1])\n",
    "\n",
    "axes[1,0].set_ylabel(\"Happiness\")\n",
    "axes[1,0].set_xlabel(\"Health & Life Expectancy\")\n",
    "axes[1,1].set_ylabel(\"Happiness\")\n",
    "axes[1,1].set_xlabel(\"Freedom\")\n",
    "\n",
    "sns.regplot(x=\"Generosity\", y=\"Happiness\", data=whr_subcategories, ax=axes[2,0])\n",
    "sns.regplot(x=\"Trust Government/Corruption\", y=\"Happiness\", data=whr_subcategories, ax=axes[2,1])\n",
    "\n",
    "axes[2,0].set_ylabel(\"Happiness\")\n",
    "axes[2,0].set_xlabel(\"Generosity\")\n",
    "axes[2,1].set_xlabel(\"Trust Government/Corruption\")\n",
    "axes[2,1].set_ylabel(\"Happiness\")\n",
    "\n",
    "sns.regplot(x=\"Dystopia Residual\", y=\"Happiness\", data=whr_subcategories, ax=axes[3,0])\n",
    "\n",
    "axes[3,0].set_xlabel(\"Dystopia Residual\")\n",
    "axes[3,0].set_ylabel(\"Happiness\")\n",
    "axes[3,1].axis(\"off\") \n",
    "\n",
    "plt.tight_layout()\n",
    "fig.subplots_adjust(top=0.9)\n",
    "\n",
    "# slope and correlation coefficient of happiness and personal freedom\n",
    "print(\"Economy (GDP)\")\n",
    "x = whr_subcategories[\"Economy (GDP)\"]\n",
    "y = whr_subcategories[\"Happiness\"]\n",
    "linregress(x,y)\n",
    "\n",
    "print(\"Family\")\n",
    "x = whr_subcategories[\"Family\"]\n",
    "y = whr_subcategories[\"Happiness\"]\n",
    "linregress(x,y)\n",
    "\n",
    "print(\"Health & Life Expectancy\")\n",
    "x = whr_subcategories[\"Health & Life Expectancy\"]\n",
    "y = whr_subcategories[\"Happiness\"]\n",
    "linregress(x,y)\n",
    "\n",
    "print(\"Freedom\")\n",
    "x = whr_subcategories[\"Freedom\"]\n",
    "y = whr_subcategories[\"Happiness\"]\n",
    "linregress(x,y)\n",
    "\n",
    "print(\"Generosity\")\n",
    "x = whr_subcategories[\"Generosity\"]\n",
    "y = whr_subcategories[\"Happiness\"]\n",
    "linregress(x,y)\n",
    "\n",
    "print(\"Trust Government/Corruption\")\n",
    "x = whr_subcategories[\"Trust Government/Corruption\"]\n",
    "y = whr_subcategories[\"Happiness\"]\n",
    "linregress(x,y)\n",
    "\n",
    "print(\"Dystopia Residual\")\n",
    "x = whr_subcategories[\"Dystopia Residual\"]\n",
    "y = whr_subcategories[\"Happiness\"]\n",
    "linregress(x,y)"
   ]
  },
  {
   "cell_type": "markdown",
   "metadata": {},
   "source": [
    "#### Analysis:\n",
    "\n",
    "**Strong relationship**: Economy(GDP) (0.81), Family (0.75), Health & Life Expectancy (0.78)\n",
    "\n",
    "**Weak to moderate**: Freedom (0.57), Trust Government/Corruption (0.43), Dystopia Residual (0.48)\n",
    "\n",
    "**None to weak** Generosity (0.16)\n",
    "\n",
    "Happiness seems to be dominated by Economy, Family, and Health & Life Expectancy while the WHR's own freedom category is only moderately correlated with happiness."
   ]
  },
  {
   "cell_type": "markdown",
   "metadata": {},
   "source": [
    "Let's look at how the strongest personal freedom correlate (Rule of Law) is correlated with the happiness subcategories."
   ]
  },
  {
   "cell_type": "code",
   "execution_count": null,
   "metadata": {},
   "outputs": [],
   "source": [
    "# combine Rule of Law from HFI with Happiness \n",
    "\n",
    "# retrieve movement data from Human Freedom Index grouped by country and ordered by movement score\n",
    "hfi_rol_data = \"\"\"\n",
    "    SELECT \n",
    "        countries AS Country, \n",
    "        pf_rol AS 'Rule of Law' \n",
    "    FROM 'Human Freedom Index' \n",
    "    GROUP BY Country \n",
    "    ORDER BY pf_score DESC\n",
    "\"\"\"\n",
    "\n",
    "# pull data from table and drop N/A values\n",
    "hfi_rol_raw = pd.read_sql(hfi_rol_data, con=engine)\n",
    "hfi_rol_by_country = hfi_rol_raw.dropna()\n",
    "\n",
    "# combine the two dataframes grouping by county and dropping null values\n",
    "hfi_rol_whr_happiness_subcategories_combined = pd.concat([hfi_rol_by_country, whr_subcategories], sort=True)\n",
    "hfi_rol_whr_happiness_subcategories_grouped = hfi_rol_whr_happiness_subcategories_combined.groupby(\"Country\")[\"Rule of Law\",\"Happiness\", \"Economy (GDP)\", \"Family\", \"Health & Life Expectancy\", \"Freedom\", \"Generosity\", \"Trust Government/Corruption\", \"Dystopia Residual\"].mean()\n",
    "hfi_rol_whr_happiness_subcategories_cleaned = hfi_rol_whr_happiness_subcategories_grouped.dropna()\n",
    "hfi_rol_whr_happiness_subcategories = hfi_rol_whr_happiness_subcategories_cleaned.reset_index()"
   ]
  },
  {
   "cell_type": "code",
   "execution_count": null,
   "metadata": {},
   "outputs": [],
   "source": [
    "# plot of Rule of Law and Happiness categories\n",
    "fig, axes = plt.subplots(nrows=4, ncols=2, figsize=(15, 20))\n",
    "fig.suptitle(\"Rule of Law and Categories of Happiness\")\n",
    "\n",
    "sns.regplot(x=\"Economy (GDP)\", y=\"Rule of Law\", data=hfi_rol_whr_happiness_subcategories, ax=axes[0,0])\n",
    "sns.regplot(x=\"Family\", y=\"Rule of Law\", data=hfi_rol_whr_happiness_subcategories, ax=axes[0,1])\n",
    "\n",
    "axes[0,0].set_ylabel(\"Rule of Law\")\n",
    "axes[0,0].set_xlabel(\"Economy (GDP)\")\n",
    "axes[0,1].set_ylabel(\"Rule of Law\")\n",
    "axes[0,1].set_xlabel(\"Family\")\n",
    "\n",
    "sns.regplot(x=\"Health & Life Expectancy\", y=\"Rule of Law\", data=hfi_rol_whr_happiness_subcategories, ax=axes[1,0])\n",
    "sns.regplot(x=\"Freedom\", y=\"Rule of Law\", data=hfi_rol_whr_happiness_subcategories, ax=axes[1,1])\n",
    "\n",
    "axes[1,0].set_ylabel(\"Rule of Law\")\n",
    "axes[1,0].set_xlabel(\"Health & Life Expectancy\")\n",
    "axes[1,1].set_ylabel(\"Rule of Law\")\n",
    "axes[1,1].set_xlabel(\"Freedom\")\n",
    "\n",
    "sns.regplot(x=\"Generosity\", y=\"Rule of Law\", data=hfi_rol_whr_happiness_subcategories, ax=axes[2,0])\n",
    "sns.regplot(x=\"Trust Government/Corruption\", y=\"Rule of Law\", data=hfi_rol_whr_happiness_subcategories, ax=axes[2,1])\n",
    "\n",
    "axes[2,0].set_xlabel(\"Generosity\")\n",
    "axes[2,0].set_ylabel(\"Rule of Law\")\n",
    "axes[2,1].set_xlabel(\"Trust Government/Corruption\")\n",
    "axes[2,1].set_ylabel(\"Rule of Law\")\n",
    "\n",
    "sns.regplot(x=\"Dystopia Residual\", y=\"Happiness\", data=hfi_rol_whr_happiness_subcategories, ax=axes[3,0])\n",
    "\n",
    "axes[3,0].set_xlabel(\"Dystopia Residual\")\n",
    "axes[3,0].set_ylabel(\"Rule of Law\")\n",
    "axes[3,1].axis(\"off\")\n",
    "\n",
    "plt.tight_layout()\n",
    "fig.subplots_adjust(top=0.9)\n",
    "\n",
    "# slope and correlation coefficient of happiness subcategories and Rule of Law\n",
    "print(\"Economy (GDP)\")\n",
    "x = hfi_rol_whr_happiness_subcategories[\"Economy (GDP)\"]\n",
    "y = hfi_rol_whr_happiness_subcategories[\"Rule of Law\"]\n",
    "linregress(x,y)\n",
    "\n",
    "print(\"Family\")\n",
    "x = hfi_rol_whr_happiness_subcategories[\"Family\"]\n",
    "y = hfi_rol_whr_happiness_subcategories[\"Rule of Law\"]\n",
    "linregress(x,y)\n",
    "\n",
    "print(\"Health & Life Expectancy\")\n",
    "x = hfi_rol_whr_happiness_subcategories[\"Health & Life Expectancy\"]\n",
    "y = hfi_rol_whr_happiness_subcategories[\"Rule of Law\"]\n",
    "linregress(x,y)\n",
    "\n",
    "print(\"Freedom\")\n",
    "x = hfi_rol_whr_happiness_subcategories[\"Freedom\"]\n",
    "y = hfi_rol_whr_happiness_subcategories[\"Rule of Law\"]\n",
    "linregress(x,y)\n",
    "\n",
    "print(\"Generosity\")\n",
    "x = hfi_rol_whr_happiness_subcategories[\"Generosity\"]\n",
    "y = hfi_rol_whr_happiness_subcategories[\"Rule of Law\"]\n",
    "linregress(x,y)\n",
    "\n",
    "print(\"Trust Government/Corruption\")\n",
    "x = hfi_rol_whr_happiness_subcategories[\"Trust Government/Corruption\"]\n",
    "y = hfi_rol_whr_happiness_subcategories[\"Rule of Law\"]\n",
    "linregress(x,y)\n",
    "\n",
    "print(\"Dystopia Residual\")\n",
    "x = hfi_rol_whr_happiness_subcategories[\"Dystopia Residual\"]\n",
    "y = hfi_rol_whr_happiness_subcategories[\"Rule of Law\"]\n",
    "linregress(x,y)\n"
   ]
  },
  {
   "cell_type": "markdown",
   "metadata": {},
   "source": [
    "#### Analysis:\n",
    "\n",
    "**Strong relationship**: Economy (GDP) (0.75), Health & Life Expectancy (0.70)\n",
    "\n",
    "**Weak to moderate**: Family (0.59), Freedom (0.52), Trust Government/Corruption(0.58)\n",
    "\n",
    "**None to weak** Generosity (0.22), Dystopia Residual (0.02)\n",
    "\n",
    "Economoy and Heatlh & Life Expectancy has a strong correlation to Rule of Law which is similar to the overall correlation to happiness.\n",
    "\n",
    "Dystopia Residual has almost no correlation to Rule of Law."
   ]
  },
  {
   "cell_type": "markdown",
   "metadata": {},
   "source": [
    "### Happiness in relation to individual freedom of movement\n",
    "\n",
    "#### Happiness and Movement Freedom\n",
    "\n",
    "* How is happiness affected by movement freedom?"
   ]
  },
  {
   "cell_type": "code",
   "execution_count": null,
   "metadata": {
    "scrolled": true
   },
   "outputs": [],
   "source": [
    "# retrieve movement data from Human Freedom Index grouped by country and ordered by movement score\n",
    "hfi_movement_by_country_raw = \"\"\"\n",
    "    SELECT \n",
    "        countries AS 'Country', \n",
    "        pf_movement AS 'Freedom of Movement', \n",
    "        pf_movement_domestic AS 'Domestic Movement', \n",
    "        pf_movement_foreign AS 'Foreign Movement', \n",
    "        pf_movement_women AS 'Womens Movement' \n",
    "    FROM 'Human Freedom Index' \n",
    "    GROUP BY countries \n",
    "    ORDER BY pf_score DESC\n",
    "\"\"\"\n",
    "\n",
    "# pull data from table and drop N/A values\n",
    "hfi_movement_by_country_data = pd.read_sql(hfi_movement_by_country_raw, con=engine)\n",
    "hfi_movement_by_country = hfi_movement_by_country_data.dropna()\n",
    "\n",
    "# coombine the two dataframes grouping by county and dropping null values\n",
    "hfi_movement_whr_happiness_by_country_combined = pd.concat([hfi_movement_by_country, whr], sort=True)\n",
    "hfi_movement_whr_happiness_by_country_grouped = hfi_movement_whr_happiness_by_country_combined.groupby(\"Country\")[\"Happiness\", \"Freedom of Movement\", \"Domestic Movement\", \"Foreign Movement\", \"Womens Movement\"].mean()\n",
    "hfi_movement_whr_happiness_by_country = hfi_movement_whr_happiness_by_country_grouped.dropna()\n",
    "\n",
    "# scatter plot analysis with linear regression\n",
    "fig, ax = plt.subplots(figsize=(15, 5))\n",
    "sns.regplot(x=\"Freedom of Movement\", y=\"Happiness\", data=hfi_movement_whr_happiness_by_country, ax=ax)\n",
    "ax.set_title(\"Correlation of General Happiness and Movement Freedom\")\n",
    "\n",
    "x = hfi_movement_whr_happiness_by_country[\"Freedom of Movement\"]\n",
    "y = hfi_movement_whr_happiness_by_country[\"Happiness\"]\n",
    "linregress(x,y)"
   ]
  },
  {
   "cell_type": "markdown",
   "metadata": {},
   "source": [
    "Slope = 0.19   \n",
    "Correlation Coefficient = 0.40\n",
    "\n",
    "Movment freedom shows a moderate correlation but less than expected.\n",
    "\n",
    "Let's now look at the subcategories of movement freedom: domestic, foreign, and women's."
   ]
  },
  {
   "cell_type": "markdown",
   "metadata": {},
   "source": [
    "### Happiness and types of movement  \n",
    "\n",
    "* Subcategories: Domestic, foreign, and women's movement freedom"
   ]
  },
  {
   "cell_type": "code",
   "execution_count": null,
   "metadata": {
    "scrolled": true
   },
   "outputs": [],
   "source": [
    "# Correlation of happiness and all movement freedom types\n",
    "\n",
    "# plot of happiness freedom and personal freedom subtypes\n",
    "fig, axes = plt.subplots(nrows=2, ncols=2, figsize=(15, 10))\n",
    "fig.suptitle(\"Happiness and Freedom of Movement\")\n",
    "sns.regplot(x=\"Freedom of Movement\", y=\"Happiness\", data=hfi_movement_whr_happiness_by_country, ax=axes[0,0])\n",
    "sns.regplot(x=\"Domestic Movement\", y=\"Happiness\", data=hfi_movement_whr_happiness_by_country, ax=axes[0,1])\n",
    "sns.regplot(x=\"Foreign Movement\", y=\"Happiness\", data=hfi_movement_whr_happiness_by_country, ax=axes[1,0])\n",
    "sns.regplot(x=\"Womens Movement\", y=\"Happiness\", data=hfi_movement_whr_happiness_by_country, ax=axes[1,1])\n",
    "\n",
    "plt.tight_layout()\n",
    "fig.subplots_adjust(top=0.9)\n",
    "\n",
    "# slope and correlation coefficient of happiness and personal freedom\n",
    "x = hfi_movement_whr_happiness_by_country[\"Freedom of Movement\"]\n",
    "y = hfi_movement_whr_happiness_by_country[\"Happiness\"]\n",
    "linregress(x,y)\n",
    "\n",
    "x = hfi_movement_whr_happiness_by_country[\"Domestic Movement\"]\n",
    "y = hfi_movement_whr_happiness_by_country[\"Happiness\"]\n",
    "linregress(x,y)\n",
    "\n",
    "x = hfi_movement_whr_happiness_by_country[\"Foreign Movement\"]\n",
    "y = hfi_movement_whr_happiness_by_country[\"Happiness\"]\n",
    "linregress(x,y)\n",
    "\n",
    "x = hfi_movement_whr_happiness_by_country[\"Womens Movement\"]\n",
    "y = hfi_movement_whr_happiness_by_country[\"Happiness\"]\n",
    "linregress(x,y)"
   ]
  },
  {
   "cell_type": "markdown",
   "metadata": {},
   "source": [
    "#### Analysis:\n",
    "\n",
    "**Weak to moderate**:  Domestic Travel (0.40), Foreign Travel (0.30), Women's Movement (0.19) \n",
    "\n",
    "Domestic travel has the strongest correlation with happiness which seems to be a benefit for landlocked countries as international travel would be more restricted than in coastal countries."
   ]
  },
  {
   "cell_type": "markdown",
   "metadata": {},
   "source": [
    "#### Happiness, Movement Freedom, and Gender\n",
    "\n",
    "How is happiness affected by the movement freedom of each gender?\n",
    "\n",
    "We average each gender's movement freedom for all countries and compare to each other."
   ]
  },
  {
   "cell_type": "code",
   "execution_count": null,
   "metadata": {},
   "outputs": [],
   "source": [
    "# Comparison of general movement freedom and women's movement freedom\n",
    "hfi_movement_gender_whr_raw = hfi_movement_whr_happiness_by_country.groupby(\"Country\")[\"Happiness\", \"Freedom of Movement\", \"Womens Movement\"].mean()\n",
    "hfi_movement_gender_whr_dropped = hfi_movement_gender_whr_raw.dropna()\n",
    "hfi_movement_gender_whr_grouped = hfi_movement_gender_whr_dropped.reset_index().drop(columns=[\"Country\"])\n",
    "hfi_movement_gender_whr_grouped.columns = [\"Happiness\", \"Male\", \"Female\"]\n",
    "\n",
    "# avg movment freedom for each gender\n",
    "male_mean = hfi_movement_gender_whr_grouped[\"Male\"].mean()\n",
    "female_mean = hfi_movement_gender_whr_grouped[\"Female\"].mean()\n",
    "\n",
    "# combine average scores into data array and label\n",
    "combined_gender_mean = pd.DataFrame([male_mean, female_mean]).T \n",
    "combined_gender_mean.columns = [\"Male\", \"Female\"]\n",
    "combined_gender_mean.index = [\"Freedom\"]\n",
    "\n",
    "# plot\n",
    "fig, ax = plt.subplots(figsize=(10, 10))\n",
    "ax = sns.barplot(data=combined_gender_mean);\n",
    "ax.set_title(\"Freedom and Movement Freedom by Gender\")\n",
    "ax.set_ylabel(\"Freedom\")\n",
    "ax.set_ylim(5, 10)"
   ]
  },
  {
   "cell_type": "markdown",
   "metadata": {},
   "source": [
    "Countries with higher freedom of movement for women average higher happiness scores."
   ]
  },
  {
   "cell_type": "markdown",
   "metadata": {},
   "source": [
    "### Happiness and geographic isolation  \n",
    "* How is happiness affected by the geography of the country? (Coastal versus Landlocked)"
   ]
  },
  {
   "cell_type": "code",
   "execution_count": null,
   "metadata": {},
   "outputs": [],
   "source": [
    "# get list of landlocked countries\n",
    "landlocked_countries = pd.Series([\"Afghanistan\", \"Andorra\", \"Armenia\", \"Artsakh\", \"Austria\", \"Azerbaijan\", \"Belarus\", \"Bhutan\", \"Bolivia\", \"Botswana\", \"Burkina Faso\", \"Burundi\", \"Central African Republic\", \"Chad\", \"Czech Republic\", \"Ethiopia\", \"Hungary\",\"Kazakhstan\", \"Kosovo\", \"Kyrgyzstan\", \"Laos\", \"Lesotho\", \"Liechtenstein\", \"Luxembourg\", \"Macedonia\", \"Malawi\", \"Mali\", \"Moldova\", \"Mongolia\", \"Nepal\", \"Niger\", \"Paraguay\", \"Rwanda\", \"San Marino\" , \"Serbia\", \"Slovakia\", \"South Ossetia\", \"South Sudan\", \"Swaziland\", \"Switzerland\",\"Tajikistan\", \"Transnistria\", \"Turkmenistan\", \"Uganda\", \"Uzbekistan\",\"Vatican City\", \"West Bank\", \"Zambia\", \"Zimbabwe\"])\n"
   ]
  },
  {
   "cell_type": "code",
   "execution_count": null,
   "metadata": {},
   "outputs": [],
   "source": [
    "# create list of land-locked countries and coastal countries\n",
    "landlocked_happiness = hf_wh_scores_by_country_raw.loc[hf_wh_scores_by_country_raw[\"Country\"].isin(landlocked_countries)]\n",
    "coastal_happiness = hf_wh_scores_by_country_raw.loc[~hf_wh_scores_by_country_raw[\"Country\"].isin(landlocked_countries)]\n",
    "\n",
    "# combine dataframes\n",
    "combined_happiness_raw = pd.concat([landlocked_happiness, coastal_happiness])\n",
    "combined_happiness = combined_happiness_raw.drop(columns=[\"Combined Score\"])\n",
    "\n",
    "# mark countries as landlocked or coastal\n",
    "combined_happiness[\"Geography\"] = \"\"\n",
    "combined_happiness[\"Geography\"] = np.where(combined_happiness[\"Country\"].isin(landlocked_countries), \"Landlocked\", \"Coastal\")\n",
    "combined_happiness = combined_happiness.sort_values(by=\"Happiness\").drop(columns=[\"Country\"])\n",
    "\n",
    "fig, ax = plt.subplots(figsize=(10,10))\n",
    "sns.boxplot(x=\"Geography\", y=\"Happiness\", data=combined_happiness)\n",
    "ax.set_title(\"Happiness range in countries based on geography\")\n",
    "ax.set_ylim(0, 10)"
   ]
  },
  {
   "cell_type": "code",
   "execution_count": null,
   "metadata": {},
   "outputs": [],
   "source": [
    "# avg happiness in landlocked vs coastal countries\n",
    "landlocked_happiness_mean = landlocked_happiness[\"Happiness\"].mean()\n",
    "coastal_happiness_mean = coastal_happiness[\"Happiness\"].mean()\n",
    "\n",
    "# combine into data array and traverse rows to columns (single happiness row, typed columns)\n",
    "combined_happiness_mean = pd.DataFrame([landlocked_happiness_mean, coastal_happiness_mean]).T \n",
    "\n",
    "combined_happiness_mean.columns = [\"Landlocked\", \"Coastal\"]\n",
    "combined_happiness_mean.index = [\"Happiness\"]\n",
    "\n",
    "# plot\n",
    "fig, ax = plt.subplots(figsize=(10, 10))\n",
    "ax = sns.barplot(data=combined_happiness_mean);\n",
    "ax.set_title(\"Happiness in Landlocked vs Coastal Countries\")\n",
    "ax.set_ylim(0, 10)"
   ]
  },
  {
   "cell_type": "markdown",
   "metadata": {},
   "source": [
    "Happiness in coastal countries seems to average higher than landlocked countries although there is a lot of overlap."
   ]
  },
  {
   "cell_type": "code",
   "execution_count": null,
   "metadata": {},
   "outputs": [],
   "source": [
    "# Regplots of happiness and freedom for landlocked vs coastal countries\n",
    "fig, ax = plt.subplots(figsize=(15,10))\n",
    "sns.regplot(x=\"Freedom\", y=\"Happiness\", data=landlocked_happiness, label=\"Land-locked\")\n",
    "sns.regplot(x=\"Freedom\", y=\"Happiness\", data=coastal_happiness, label=\"Coastal\")\n",
    "ax.set_title(\"Correlation of Happiness and Freedom in Landlocked vs Coastal\")\n",
    "ax.legend()\n",
    "\n",
    "# slope and correlation coefficient of happiness and personal freedom\n",
    "x = landlocked_happiness[\"Freedom\"]\n",
    "y = landlocked_happiness[\"Happiness\"]\n",
    "linregress(x,y)\n",
    "\n",
    "x = coastal_happiness[\"Freedom\"]\n",
    "y = coastal_happiness[\"Happiness\"]\n",
    "linregress(x,y)"
   ]
  },
  {
   "cell_type": "markdown",
   "metadata": {},
   "source": [
    "There seems to be a larger difference in happiness between coastal and landlocked countries with low freedom scores.  However, at the top freedom levels, this effect seems to be non-existant."
   ]
  },
  {
   "cell_type": "markdown",
   "metadata": {},
   "source": [
    "#### Happiness and movement freedom in land-locked versus coastal countries"
   ]
  },
  {
   "cell_type": "code",
   "execution_count": null,
   "metadata": {},
   "outputs": [],
   "source": [
    "# reset index of dataframe from country list to index\n",
    "hfi_movement_whr_happiness_by_country_reset = hfi_movement_whr_happiness_by_country.reset_index()\n",
    "hfi_movement_whr_happiness_by_country_reset.rename(columns={'countries':'Country'}, inplace=True)\n",
    "\n",
    "# create list of land-locked countries and coastal countries\n",
    "landlocked_movement_happiness = hfi_movement_whr_happiness_by_country_reset.loc[hfi_movement_whr_happiness_by_country_reset[\"Country\"].isin(landlocked_countries)]\n",
    "coastal_movement_happiness = hfi_movement_whr_happiness_by_country_reset.loc[~hfi_movement_whr_happiness_by_country_reset[\"Country\"].isin(landlocked_countries)]\n",
    "\n",
    "fig, ax = plt.subplots(figsize=(15,10))\n",
    "sns.regplot(x=\"Freedom of Movement\", y=\"Happiness\", data=landlocked_movement_happiness, label=\"Landlocked\")\n",
    "sns.regplot(x=\"Freedom of Movement\", y=\"Happiness\", data=coastal_movement_happiness, label=\"Coastal\")\n",
    "ax.set_title(\"Correlation of Happiness and Freedom of Movement in Landlocked vs non-Landlocked countries\")\n",
    "ax.set_xlabel(\"Freedom of Movement\")\n",
    "ax.set_ylabel(\"Happiness\")\n",
    "ax.legend()\n",
    "\n",
    "# slope and correlation coefficient of happiness and personal freedom\n",
    "x = landlocked_movement_happiness[\"Freedom of Movement\"]\n",
    "y = landlocked_movement_happiness[\"Happiness\"]\n",
    "linregress(x,y)\n",
    "\n",
    "x = coastal_movement_happiness[\"Freedom of Movement\"]\n",
    "y = coastal_movement_happiness[\"Happiness\"]\n",
    "linregress(x,y)\n"
   ]
  },
  {
   "cell_type": "markdown",
   "metadata": {},
   "source": [
    "**Land-locked:**\n",
    "Correllation Coefficient: 0.45  \n",
    "**Coastal**\n",
    "Correllation Coefficient: 0.43\n",
    "\n",
    "There seems to be no noticable difference between coastal and landlocked countries in relation to movement freedom of individuals."
   ]
  },
  {
   "cell_type": "markdown",
   "metadata": {},
   "source": [
    "### Conclusions\n",
    "\n",
    "We started off with the assumption that happiness and freedom are positively correlated and this was confirmed early on.  \n",
    "\n",
    "Diving deeper into the data, we found that Rule of Law, Legal, Money, and Trade are the strongest correlates with overall happiness.\n",
    "\n",
    "Movement freedom does have a moderate effect on happiness although it is less than expected.\n",
    "\n",
    "Geographic isolation seems to have an effect when overall freedom is low but the effect seems to disappear in the top scoring countries."
   ]
  },
  {
   "cell_type": "code",
   "execution_count": null,
   "metadata": {},
   "outputs": [],
   "source": []
  }
 ],
 "metadata": {
  "kernelspec": {
   "display_name": "Python 3",
   "language": "python",
   "name": "python3"
  },
  "language_info": {
   "codemirror_mode": {
    "name": "ipython",
    "version": 3
   },
   "file_extension": ".py",
   "mimetype": "text/x-python",
   "name": "python",
   "nbconvert_exporter": "python",
   "pygments_lexer": "ipython3",
   "version": "3.7.0"
  }
 },
 "nbformat": 4,
 "nbformat_minor": 2
}
