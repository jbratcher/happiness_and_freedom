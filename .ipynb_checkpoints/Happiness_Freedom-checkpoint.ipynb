{
 "cells": [
  {
   "cell_type": "markdown",
   "metadata": {},
   "source": [
    "# Happiness and Freedom\n",
    "\n",
    "**A brief review of the World Happiness Report and Human Freedom Index in terms of how presence of freedoms affects happiness.**.  \n",
    "\n",
    "Analysis derived from data using the most recent World Happiness Report and Human Freedom Index.\n",
    "\n",
    "\"The secret to happiness is freedom... and the secret to freedom is courage.\" - Thucydides ([wikipedia](https://en.wikipedia.org/wiki/Thucydides))\n",
    "\n",
    "It seems obvious that freedom leads to happiness but how much and how do different kinds of freedoms contribute to the overall picture?\n",
    "\n",
    "##### General\n",
    "\n",
    "* Freedom is positively correlated with happiness.  A gut check.\n",
    "* How do the two main categories of freedom, personal and economic, affect happiness and how does it differ?\n",
    "* Examining the subcategories of personal freedom.\n",
    "\n",
    "#### Happiness in relation to individual freedom of movement\n",
    "\n",
    "* How does freedom of movement affect happiness?  Individual that can move freely should be more happy than those under more restrictions.\n",
    "* How does gender affect freedom of movement?  Does gender play a role in in freedom of movement.  How does this affect happiness?\n",
    "\n",
    "##### Happiness and relative geographic isolation\n",
    "\n",
    "* How does geographic isolation affect happiness?  Are people in land-locked countries less happy than those in coastal countries?\n",
    "* How does geographic isolation affect freedom of movement?  Are people in land-lock countries or coastal countries more free to move around?\n"
   ]
  },
  {
   "cell_type": "code",
   "execution_count": 1,
   "metadata": {},
   "outputs": [],
   "source": [
    "# imports\n",
    "import sqlite3\n",
    "import sqlalchemy as sa\n",
    "import matplotlib\n",
    "import matplotlib.pyplot as plt\n",
    "import seaborn as sns\n",
    "import numpy as np\n",
    "import pandas as pd\n",
    "import scipy\n",
    "from scipy.stats import linregress\n",
    "\n",
    "# create sqlite database and path\n",
    "from sqlalchemy import create_engine\n",
    "engine = create_engine('sqlite:///Happiness_Freedom.db')\n",
    "\n",
    "# set seaborn default theme\n",
    "sns.set_palette(\"muted\")\n",
    "\n",
    "# multiple outputs from single cell\n",
    "from IPython.core.interactiveshell import InteractiveShell\n",
    "InteractiveShell.ast_node_interactivity = \"all\""
   ]
  },
  {
   "cell_type": "code",
   "execution_count": 2,
   "metadata": {},
   "outputs": [
    {
     "name": "stdout",
     "output_type": "stream",
     "text": [
      "<class 'pandas.core.frame.DataFrame'>\n",
      "RangeIndex: 1458 entries, 0 to 1457\n",
      "Columns: 123 entries, year to hf_quartile\n",
      "dtypes: float64(119), int64(1), object(3)\n",
      "memory usage: 1.4+ MB\n",
      "<class 'pandas.core.frame.DataFrame'>\n",
      "RangeIndex: 155 entries, 0 to 154\n",
      "Data columns (total 12 columns):\n",
      "Country                          155 non-null object\n",
      "Happiness.Rank                   155 non-null int64\n",
      "Happiness.Score                  155 non-null float64\n",
      "Whisker.high                     155 non-null float64\n",
      "Whisker.low                      155 non-null float64\n",
      "Economy..GDP.per.Capita.         155 non-null float64\n",
      "Family                           155 non-null float64\n",
      "Health..Life.Expectancy.         155 non-null float64\n",
      "Freedom                          155 non-null float64\n",
      "Generosity                       155 non-null float64\n",
      "Trust..Government.Corruption.    155 non-null float64\n",
      "Dystopia.Residual                155 non-null float64\n",
      "dtypes: float64(10), int64(1), object(1)\n",
      "memory usage: 14.6+ KB\n"
     ]
    },
    {
     "data": {
      "text/plain": [
       "Index(['year', 'ISO_code', 'countries', 'region', 'pf_rol_procedural',\n",
       "       'pf_rol_civil', 'pf_rol_criminal', 'pf_rol', 'pf_ss_homicide',\n",
       "       'pf_ss_disappearances_disap', 'pf_ss_disappearances_violent',\n",
       "       'pf_ss_disappearances_organized', 'pf_ss_disappearances_fatalities',\n",
       "       'pf_ss_disappearances_injuries', 'pf_ss_disappearances',\n",
       "       'pf_ss_women_fgm', 'pf_ss_women_missing',\n",
       "       'pf_ss_women_inheritance_widows', 'pf_ss_women_inheritance_daughters',\n",
       "       'pf_ss_women_inheritance', 'pf_ss_women', 'pf_ss',\n",
       "       'pf_movement_domestic', 'pf_movement_foreign', 'pf_movement_women',\n",
       "       'pf_movement', 'pf_religion_estop_establish',\n",
       "       'pf_religion_estop_operate', 'pf_religion_estop',\n",
       "       'pf_religion_harassment', 'pf_religion_restrictions', 'pf_religion',\n",
       "       'pf_association_association', 'pf_association_assembly',\n",
       "       'pf_association_political_establish',\n",
       "       'pf_association_political_operate', 'pf_association_political',\n",
       "       'pf_association_prof_establish', 'pf_association_prof_operate',\n",
       "       'pf_association_prof', 'pf_association_sport_establish',\n",
       "       'pf_association_sport_operate', 'pf_association_sport',\n",
       "       'pf_association', 'pf_expression_killed', 'pf_expression_jailed',\n",
       "       'pf_expression_influence', 'pf_expression_control',\n",
       "       'pf_expression_cable', 'pf_expression_newspapers',\n",
       "       'pf_expression_internet', 'pf_expression', 'pf_identity_legal',\n",
       "       'pf_identity_parental_marriage', 'pf_identity_parental_divorce',\n",
       "       'pf_identity_parental', 'pf_identity_sex_male',\n",
       "       'pf_identity_sex_female', 'pf_identity_sex', 'pf_identity_divorce',\n",
       "       'pf_identity', 'pf_score', 'pf_rank', 'ef_government_consumption',\n",
       "       'ef_government_transfers', 'ef_government_enterprises',\n",
       "       'ef_government_tax_income', 'ef_government_tax_payroll',\n",
       "       'ef_government_tax', 'ef_government', 'ef_legal_judicial',\n",
       "       'ef_legal_courts', 'ef_legal_protection', 'ef_legal_military',\n",
       "       'ef_legal_integrity', 'ef_legal_enforcement', 'ef_legal_restrictions',\n",
       "       'ef_legal_police', 'ef_legal_crime', 'ef_legal_gender', 'ef_legal',\n",
       "       'ef_money_growth', 'ef_money_sd', 'ef_money_inflation',\n",
       "       'ef_money_currency', 'ef_money', 'ef_trade_tariffs_revenue',\n",
       "       'ef_trade_tariffs_mean', 'ef_trade_tariffs_sd', 'ef_trade_tariffs',\n",
       "       'ef_trade_regulatory_nontariff', 'ef_trade_regulatory_compliance',\n",
       "       'ef_trade_regulatory', 'ef_trade_black', 'ef_trade_movement_foreign',\n",
       "       'ef_trade_movement_capital', 'ef_trade_movement_visit',\n",
       "       'ef_trade_movement', 'ef_trade', 'ef_regulation_credit_ownership'],\n",
       "      dtype='object')"
      ]
     },
     "execution_count": 2,
     "metadata": {},
     "output_type": "execute_result"
    },
    {
     "data": {
      "text/plain": [
       "Index(['ef_regulation_credit_interest', 'ef_regulation_credit',\n",
       "       'ef_regulation_labor_minwage', 'ef_regulation_labor_firing',\n",
       "       'ef_regulation_labor_bargain', 'ef_regulation_labor_hours',\n",
       "       'ef_regulation_labor_dismissal', 'ef_regulation_labor_conscription',\n",
       "       'ef_regulation_labor', 'ef_regulation_business_adm',\n",
       "       'ef_regulation_business_bureaucracy', 'ef_regulation_business_start',\n",
       "       'ef_regulation_business_bribes', 'ef_regulation_business_licensing',\n",
       "       'ef_regulation_business_compliance', 'ef_regulation_business',\n",
       "       'ef_regulation', 'ef_score', 'ef_rank', 'hf_score', 'hf_rank',\n",
       "       'hf_quartile'],\n",
       "      dtype='object')"
      ]
     },
     "execution_count": 2,
     "metadata": {},
     "output_type": "execute_result"
    },
    {
     "data": {
      "text/plain": [
       "Index(['year', 'ISO_code', 'countries', 'region', 'pf_rol_procedural',\n",
       "       'pf_rol_civil', 'pf_rol_criminal', 'pf_rol', 'pf_ss_homicide',\n",
       "       'pf_ss_disappearances_disap',\n",
       "       ...\n",
       "       'ef_regulation_business_bribes', 'ef_regulation_business_licensing',\n",
       "       'ef_regulation_business_compliance', 'ef_regulation_business',\n",
       "       'ef_regulation', 'ef_score', 'ef_rank', 'hf_score', 'hf_rank',\n",
       "       'hf_quartile'],\n",
       "      dtype='object', length=123)"
      ]
     },
     "execution_count": 2,
     "metadata": {},
     "output_type": "execute_result"
    },
    {
     "data": {
      "text/plain": [
       "Index(['Country', 'Happiness.Rank', 'Happiness.Score', 'Whisker.high',\n",
       "       'Whisker.low', 'Economy..GDP.per.Capita.', 'Family',\n",
       "       'Health..Life.Expectancy.', 'Freedom', 'Generosity',\n",
       "       'Trust..Government.Corruption.', 'Dystopia.Residual'],\n",
       "      dtype='object')"
      ]
     },
     "execution_count": 2,
     "metadata": {},
     "output_type": "execute_result"
    }
   ],
   "source": [
    "# create dataframes for each report from csv\n",
    "hfi_file = pd.read_csv(\"hfi_cc_2018.csv\")\n",
    "hfi = pd.DataFrame(hfi_file)\n",
    "\n",
    "whr_file = pd.read_csv(\"whr_2017.csv\")\n",
    "whr = pd.DataFrame(whr_file)\n",
    "\n",
    "# create database and tables from dataframe\n",
    "hfi.to_sql(\"Human Freedom Index\", con=engine, if_exists=\"replace\")\n",
    "whr.to_sql(\"World Happiness Report\", con=engine, if_exists=\"replace\")\n",
    "\n",
    "hfidb = hf\n",
    "\n",
    "# view info for each dataframe\n",
    "hfi.info()\n",
    "whr.info()\n",
    "\n",
    "hfi.columns[:100]\n",
    "hfi.columns[101:]\n",
    "hfi.columns\n",
    "whr.columns"
   ]
  },
  {
   "cell_type": "markdown",
   "metadata": {},
   "source": [
    "### Happiness is directly correlated with freedom\n",
    "\n",
    "Let's start with a quick sanity check and make sure the happiness and freedom have a strong positive relationship."
   ]
  },
  {
   "cell_type": "code",
   "execution_count": 3,
   "metadata": {},
   "outputs": [
    {
     "data": {
      "text/html": [
       "<div>\n",
       "<style scoped>\n",
       "    .dataframe tbody tr th:only-of-type {\n",
       "        vertical-align: middle;\n",
       "    }\n",
       "\n",
       "    .dataframe tbody tr th {\n",
       "        vertical-align: top;\n",
       "    }\n",
       "\n",
       "    .dataframe thead th {\n",
       "        text-align: right;\n",
       "    }\n",
       "</style>\n",
       "<table border=\"1\" class=\"dataframe\">\n",
       "  <thead>\n",
       "    <tr style=\"text-align: right;\">\n",
       "      <th></th>\n",
       "      <th>hf_score</th>\n",
       "      <th>hp_score</th>\n",
       "    </tr>\n",
       "    <tr>\n",
       "      <th>countries</th>\n",
       "      <th></th>\n",
       "      <th></th>\n",
       "    </tr>\n",
       "  </thead>\n",
       "  <tbody>\n",
       "    <tr>\n",
       "      <th>Albania</th>\n",
       "      <td>7.522911</td>\n",
       "      <td>4.644</td>\n",
       "    </tr>\n",
       "    <tr>\n",
       "      <th>Algeria</th>\n",
       "      <td>5.140803</td>\n",
       "      <td>5.872</td>\n",
       "    </tr>\n",
       "    <tr>\n",
       "      <th>Angola</th>\n",
       "      <td>5.499577</td>\n",
       "      <td>3.795</td>\n",
       "    </tr>\n",
       "    <tr>\n",
       "      <th>Argentina</th>\n",
       "      <td>6.677056</td>\n",
       "      <td>6.599</td>\n",
       "    </tr>\n",
       "    <tr>\n",
       "      <th>Armenia</th>\n",
       "      <td>7.413269</td>\n",
       "      <td>4.376</td>\n",
       "    </tr>\n",
       "  </tbody>\n",
       "</table>\n",
       "</div>"
      ],
      "text/plain": [
       "           hf_score  hp_score\n",
       "countries                    \n",
       "Albania    7.522911     4.644\n",
       "Algeria    5.140803     5.872\n",
       "Angola     5.499577     3.795\n",
       "Argentina  6.677056     6.599\n",
       "Armenia    7.413269     4.376"
      ]
     },
     "execution_count": 3,
     "metadata": {},
     "output_type": "execute_result"
    }
   ],
   "source": [
    "# get overall freedom score by country from World Freedom Report\n",
    "hf_score_by_country = hfi[[\"countries\", \"hf_score\"]]\n",
    "\n",
    "# get overall happiness score by country from Happiness Index\n",
    "wh_score_by_country = whr[[\"Country\", \"Happiness.Score\"]]\n",
    "# rename \"Country\" column to \"countries\" to merge on conat with freedom index\n",
    "wh_score_by_country.columns = [\"countries\", \"hp_score\"]\n",
    "\n",
    "# coombine the two dataframes\n",
    "reports_combined = pd.concat([hf_score_by_country, wh_score_by_country], sort=False)\n",
    "reports_grouped = reports_combined.groupby(\"countries\")[\"hf_score\", \"hp_score\"].mean()\n",
    "hf_wh_scores = reports_grouped.dropna()\n",
    "\n",
    "# resultant dataframe is freedom and happiness scores by country\n",
    "hf_wh_scores.head(5)"
   ]
  },
  {
   "cell_type": "markdown",
   "metadata": {},
   "source": [
    "### How the top 10 countries compare in happiness to freedom"
   ]
  },
  {
   "cell_type": "code",
   "execution_count": 34,
   "metadata": {},
   "outputs": [
    {
     "data": {
      "text/html": [
       "<div>\n",
       "<style scoped>\n",
       "    .dataframe tbody tr th:only-of-type {\n",
       "        vertical-align: middle;\n",
       "    }\n",
       "\n",
       "    .dataframe tbody tr th {\n",
       "        vertical-align: top;\n",
       "    }\n",
       "\n",
       "    .dataframe thead th {\n",
       "        text-align: right;\n",
       "    }\n",
       "</style>\n",
       "<table border=\"1\" class=\"dataframe\">\n",
       "  <thead>\n",
       "    <tr style=\"text-align: right;\">\n",
       "      <th></th>\n",
       "      <th>countries</th>\n",
       "      <th>hf_score</th>\n",
       "      <th>hp_score</th>\n",
       "    </tr>\n",
       "  </thead>\n",
       "  <tbody>\n",
       "    <tr>\n",
       "      <th>93</th>\n",
       "      <td>Norway</td>\n",
       "      <td>8.527672</td>\n",
       "      <td>7.537</td>\n",
       "    </tr>\n",
       "    <tr>\n",
       "      <th>32</th>\n",
       "      <td>Denmark</td>\n",
       "      <td>8.589246</td>\n",
       "      <td>7.522</td>\n",
       "    </tr>\n",
       "    <tr>\n",
       "      <th>50</th>\n",
       "      <td>Iceland</td>\n",
       "      <td>8.122033</td>\n",
       "      <td>7.504</td>\n",
       "    </tr>\n",
       "    <tr>\n",
       "      <th>116</th>\n",
       "      <td>Switzerland</td>\n",
       "      <td>8.782947</td>\n",
       "      <td>7.494</td>\n",
       "    </tr>\n",
       "    <tr>\n",
       "      <th>38</th>\n",
       "      <td>Finland</td>\n",
       "      <td>8.606345</td>\n",
       "      <td>7.469</td>\n",
       "    </tr>\n",
       "    <tr>\n",
       "      <th>88</th>\n",
       "      <td>Netherlands</td>\n",
       "      <td>8.423338</td>\n",
       "      <td>7.377</td>\n",
       "    </tr>\n",
       "    <tr>\n",
       "      <th>24</th>\n",
       "      <td>Canada</td>\n",
       "      <td>8.619081</td>\n",
       "      <td>7.316</td>\n",
       "    </tr>\n",
       "    <tr>\n",
       "      <th>89</th>\n",
       "      <td>New Zealand</td>\n",
       "      <td>8.857553</td>\n",
       "      <td>7.314</td>\n",
       "    </tr>\n",
       "    <tr>\n",
       "      <th>5</th>\n",
       "      <td>Australia</td>\n",
       "      <td>8.613201</td>\n",
       "      <td>7.284</td>\n",
       "    </tr>\n",
       "    <tr>\n",
       "      <th>115</th>\n",
       "      <td>Sweden</td>\n",
       "      <td>8.445823</td>\n",
       "      <td>7.284</td>\n",
       "    </tr>\n",
       "  </tbody>\n",
       "</table>\n",
       "</div>"
      ],
      "text/plain": [
       "       countries  hf_score  hp_score\n",
       "93        Norway  8.527672     7.537\n",
       "32       Denmark  8.589246     7.522\n",
       "50       Iceland  8.122033     7.504\n",
       "116  Switzerland  8.782947     7.494\n",
       "38       Finland  8.606345     7.469\n",
       "88   Netherlands  8.423338     7.377\n",
       "24        Canada  8.619081     7.316\n",
       "89   New Zealand  8.857553     7.314\n",
       "5      Australia  8.613201     7.284\n",
       "115       Sweden  8.445823     7.284"
      ]
     },
     "execution_count": 34,
     "metadata": {},
     "output_type": "execute_result"
    },
    {
     "data": {
      "text/plain": [
       "<matplotlib.axes._subplots.AxesSubplot at 0x2055fd2f6d8>"
      ]
     },
     "execution_count": 34,
     "metadata": {},
     "output_type": "execute_result"
    },
    {
     "data": {
      "text/plain": [
       "Text(0.5,1,'Correlation of Happiness and Freedom')"
      ]
     },
     "execution_count": 34,
     "metadata": {},
     "output_type": "execute_result"
    },
    {
     "data": {
      "text/plain": [
       "Text(0.5,0,'Freedom')"
      ]
     },
     "execution_count": 34,
     "metadata": {},
     "output_type": "execute_result"
    },
    {
     "data": {
      "text/plain": [
       "Text(0,0.5,'Happiness')"
      ]
     },
     "execution_count": 34,
     "metadata": {},
     "output_type": "execute_result"
    },
    {
     "data": {
      "text/plain": [
       "(7, 10)"
      ]
     },
     "execution_count": 34,
     "metadata": {},
     "output_type": "execute_result"
    },
    {
     "data": {
      "image/png": "[encoded data removed]",
      "text/plain": [
       "<Figure size 1080x360 with 1 Axes>"
      ]
     },
     "metadata": {
      "needs_background": "light"
     },
     "output_type": "display_data"
    }
   ],
   "source": [
    "hf_wh_scores_reset = hf_wh_scores.reset_index()\n",
    "\n",
    "hf_wh_scores_by_country = hf_wh_scores_reset.sort_values(by=['hp_score'], ascending=False)\n",
    "hf_wh_scores_by_country.head(10)\n",
    "hf_wh_scores_by_country_fin = hf_wh_scores_by_country[:9]\n",
    "\n",
    "fig, ax = plt.subplots(figsize=(15, 5))\n",
    "sns.barplot(x=\"hf_score\", y=\"hp_score\", data=hf_wh_scores_by_country_fin)\n",
    "ax.set_title(\"Correlation of Happiness and Freedom\")\n",
    "ax.set_xlabel(\"Freedom\")\n",
    "ax.set_ylabel(\"Happiness\")\n",
    "ax.set_ylim(5,10)\n"
   ]
  },
  {
   "cell_type": "code",
   "execution_count": 4,
   "metadata": {},
   "outputs": [
    {
     "data": {
      "text/plain": [
       "<matplotlib.axes._subplots.AxesSubplot at 0x2055cbbd9e8>"
      ]
     },
     "execution_count": 4,
     "metadata": {},
     "output_type": "execute_result"
    },
    {
     "data": {
      "text/plain": [
       "Text(0.5,1,'Correlation of Happiness and Freedom')"
      ]
     },
     "execution_count": 4,
     "metadata": {},
     "output_type": "execute_result"
    },
    {
     "data": {
      "text/plain": [
       "Text(0.5,0,'Freedom')"
      ]
     },
     "execution_count": 4,
     "metadata": {},
     "output_type": "execute_result"
    },
    {
     "data": {
      "text/plain": [
       "Text(0,0.5,'Happiness')"
      ]
     },
     "execution_count": 4,
     "metadata": {},
     "output_type": "execute_result"
    },
    {
     "data": {
      "text/plain": [
       "<matplotlib.legend.Legend at 0x2055cb86860>"
      ]
     },
     "execution_count": 4,
     "metadata": {},
     "output_type": "execute_result"
    },
    {
     "data": {
      "text/plain": [
       "LinregressResult(slope=0.6867913461953111, intercept=0.6236133610477834, rvalue=0.6330361581269445, pvalue=1.7569182578216024e-16, stderr=0.07282491965464152)"
      ]
     },
     "execution_count": 4,
     "metadata": {},
     "output_type": "execute_result"
    },
    {
     "data": {
      "image/png": "[encoded data removed]",
      "text/plain": [
       "<Figure size 1080x360 with 1 Axes>"
      ]
     },
     "metadata": {
      "needs_background": "light"
     },
     "output_type": "display_data"
    }
   ],
   "source": [
    "fig, ax = plt.subplots(figsize=(15, 5))\n",
    "sns.regplot(x=\"hf_score\", y=\"hp_score\", data=hf_wh_scores)\n",
    "points = plt.scatter(hf_wh_scores[\"hf_score\"], hf_wh_scores[\"hp_score\"], label=\"Happiness + Freedom\")\n",
    "ax.set_title(\"Correlation of Happiness and Freedom\")\n",
    "ax.set_xlabel(\"Freedom\")\n",
    "ax.set_ylabel(\"Happiness\")\n",
    "ax.legend();\n",
    "\n",
    "x = hf_wh_scores[\"hf_score\"]\n",
    "y = hf_wh_scores[\"hp_score\"]\n",
    "linregress(x,y)"
   ]
  },
  {
   "cell_type": "markdown",
   "metadata": {},
   "source": [
    "As expected, reported happiness and freedom have a moderate positive correlation in a linear fashion.\n",
    "\n",
    "Slope = 0.69  \n",
    "Correlation Coefficient = 0.63"
   ]
  },
  {
   "cell_type": "code",
   "execution_count": 5,
   "metadata": {},
   "outputs": [
    {
     "data": {
      "text/plain": [
       "count    1378.000000\n",
       "mean        6.993444\n",
       "std         1.025811\n",
       "min         3.765827\n",
       "25%         6.336685\n",
       "50%         6.923840\n",
       "75%         7.894660\n",
       "max         9.126313\n",
       "Name: hf_score, dtype: float64"
      ]
     },
     "execution_count": 5,
     "metadata": {},
     "output_type": "execute_result"
    },
    {
     "data": {
      "text/plain": [
       "count    155.000000\n",
       "mean       5.354019\n",
       "std        1.131230\n",
       "min        2.693000\n",
       "25%        4.505500\n",
       "50%        5.279000\n",
       "75%        6.101500\n",
       "max        7.537000\n",
       "Name: hp_score, dtype: float64"
      ]
     },
     "execution_count": 5,
     "metadata": {},
     "output_type": "execute_result"
    }
   ],
   "source": [
    "hf_score_by_country.hf_score.describe()\n",
    "wh_score_by_country.hp_score.describe()"
   ]
  },
  {
   "cell_type": "markdown",
   "metadata": {},
   "source": [
    "### Happiness, Personal, and Economic Freedom\n",
    "\n",
    "How does personal freedom affect happiness?\n",
    "\n",
    "How does economic freedom affect happiness?"
   ]
  },
  {
   "cell_type": "code",
   "execution_count": 6,
   "metadata": {},
   "outputs": [
    {
     "data": {
      "text/html": [
       "<div>\n",
       "<style scoped>\n",
       "    .dataframe tbody tr th:only-of-type {\n",
       "        vertical-align: middle;\n",
       "    }\n",
       "\n",
       "    .dataframe tbody tr th {\n",
       "        vertical-align: top;\n",
       "    }\n",
       "\n",
       "    .dataframe thead th {\n",
       "        text-align: right;\n",
       "    }\n",
       "</style>\n",
       "<table border=\"1\" class=\"dataframe\">\n",
       "  <thead>\n",
       "    <tr style=\"text-align: right;\">\n",
       "      <th></th>\n",
       "      <th>pf_score</th>\n",
       "      <th>ef_score</th>\n",
       "      <th>hp_score</th>\n",
       "    </tr>\n",
       "    <tr>\n",
       "      <th>countries</th>\n",
       "      <th></th>\n",
       "      <th></th>\n",
       "      <th></th>\n",
       "    </tr>\n",
       "  </thead>\n",
       "  <tbody>\n",
       "    <tr>\n",
       "      <th>Albania</th>\n",
       "      <td>7.696934</td>\n",
       "      <td>7.348889</td>\n",
       "      <td>4.644</td>\n",
       "    </tr>\n",
       "    <tr>\n",
       "      <th>Algeria</th>\n",
       "      <td>5.249383</td>\n",
       "      <td>5.032222</td>\n",
       "      <td>5.872</td>\n",
       "    </tr>\n",
       "    <tr>\n",
       "      <th>Angola</th>\n",
       "      <td>5.856932</td>\n",
       "      <td>5.142222</td>\n",
       "      <td>3.795</td>\n",
       "    </tr>\n",
       "    <tr>\n",
       "      <th>Argentina</th>\n",
       "      <td>8.120779</td>\n",
       "      <td>5.233333</td>\n",
       "      <td>6.599</td>\n",
       "    </tr>\n",
       "    <tr>\n",
       "      <th>Armenia</th>\n",
       "      <td>7.192095</td>\n",
       "      <td>7.634444</td>\n",
       "      <td>4.376</td>\n",
       "    </tr>\n",
       "  </tbody>\n",
       "</table>\n",
       "</div>"
      ],
      "text/plain": [
       "           pf_score  ef_score  hp_score\n",
       "countries                              \n",
       "Albania    7.696934  7.348889     4.644\n",
       "Algeria    5.249383  5.032222     5.872\n",
       "Angola     5.856932  5.142222     3.795\n",
       "Argentina  8.120779  5.233333     6.599\n",
       "Armenia    7.192095  7.634444     4.376"
      ]
     },
     "execution_count": 6,
     "metadata": {},
     "output_type": "execute_result"
    }
   ],
   "source": [
    "# get personal and economic freedom scores by country from World Freedom Report\n",
    "pf_ef_score_by_country = hfi[[\"countries\", \"pf_score\", \"ef_score\"]]\n",
    "\n",
    "# coombine the two dataframes\n",
    "reports_combined = pd.concat([pf_ef_score_by_country, wh_score_by_country], sort=False)\n",
    "reports_grouped = reports_combined.groupby(\"countries\")[\"pf_score\", \"ef_score\", \"hp_score\"].mean()\n",
    "pf_ef_scores = reports_grouped.dropna()\n",
    "\n",
    "# cleaned dataframe\n",
    "pf_ef_scores.head(5)"
   ]
  },
  {
   "cell_type": "code",
   "execution_count": 7,
   "metadata": {},
   "outputs": [
    {
     "data": {
      "text/plain": [
       "<matplotlib.axes._subplots.AxesSubplot at 0x2055ca73390>"
      ]
     },
     "execution_count": 7,
     "metadata": {},
     "output_type": "execute_result"
    },
    {
     "data": {
      "text/plain": [
       "<matplotlib.axes._subplots.AxesSubplot at 0x2055ca956a0>"
      ]
     },
     "execution_count": 7,
     "metadata": {},
     "output_type": "execute_result"
    },
    {
     "data": {
      "text/plain": [
       "Text(0.5,1,'Happiness and Personal Freedom')"
      ]
     },
     "execution_count": 7,
     "metadata": {},
     "output_type": "execute_result"
    },
    {
     "data": {
      "text/plain": [
       "Text(0.5,0,'Peronal Freedom')"
      ]
     },
     "execution_count": 7,
     "metadata": {},
     "output_type": "execute_result"
    },
    {
     "data": {
      "text/plain": [
       "Text(0,0.5,'Happiness')"
      ]
     },
     "execution_count": 7,
     "metadata": {},
     "output_type": "execute_result"
    },
    {
     "data": {
      "text/plain": [
       "Text(0.5,1,'Happiness and Economic Freedom')"
      ]
     },
     "execution_count": 7,
     "metadata": {},
     "output_type": "execute_result"
    },
    {
     "data": {
      "text/plain": [
       "Text(0.5,0,'Economic Freedom')"
      ]
     },
     "execution_count": 7,
     "metadata": {},
     "output_type": "execute_result"
    },
    {
     "data": {
      "text/plain": [
       "Text(0,0.5,'Happiness')"
      ]
     },
     "execution_count": 7,
     "metadata": {},
     "output_type": "execute_result"
    },
    {
     "data": {
      "text/plain": [
       "LinregressResult(slope=0.4792994286254869, intercept=1.9771523039640249, rvalue=0.5904565197157343, pvalue=4.8011190014548e-14, stderr=0.05680729070605633)"
      ]
     },
     "execution_count": 7,
     "metadata": {},
     "output_type": "execute_result"
    },
    {
     "data": {
      "text/plain": [
       "LinregressResult(slope=0.7572594668852657, intercept=0.2776175122816644, rvalue=0.5769568558547652, pvalue=2.4067155502762765e-13, stderr=0.09295607741457271)"
      ]
     },
     "execution_count": 7,
     "metadata": {},
     "output_type": "execute_result"
    },
    {
     "data": {
      "image/png": "[encoded data removed]",
      "text/plain": [
       "<Figure size 1080x360 with 2 Axes>"
      ]
     },
     "metadata": {
      "needs_background": "light"
     },
     "output_type": "display_data"
    }
   ],
   "source": [
    "# regplot of happiness, personal freedom and economic freedom scores\n",
    "fig, (ax1, ax2) = plt.subplots(1, 2, figsize=(15, 5), sharey=True)\n",
    "sns.regplot(x=\"pf_score\", y=\"hp_score\", data=pf_ef_scores, ax=ax1)\n",
    "sns.regplot(x=\"ef_score\", y=\"hp_score\", data=pf_ef_scores, ax=ax2)\n",
    "points1 = ax1.scatter(pf_ef_scores[\"pf_score\"], pf_ef_scores[\"hp_score\"], label=\"Happiness and Personal Freedom\")\n",
    "points2 = ax2.scatter(pf_ef_scores[\"ef_score\"], pf_ef_scores[\"hp_score\"], c=\"darkorange\", label=\"Happiness and Economic Freedom\")\n",
    "ax1.set_title(\"Happiness and Personal Freedom\")\n",
    "ax1.set_xlabel(\"Peronal Freedom\")\n",
    "ax1.set_ylabel(\"Happiness\")\n",
    "ax2.set_title(\"Happiness and Economic Freedom\")\n",
    "ax2.set_xlabel(\"Economic Freedom\")\n",
    "ax2.set_ylabel(\"Happiness\")\n",
    "\n",
    "x = pf_ef_scores[\"pf_score\"]\n",
    "y = pf_ef_scores[\"hp_score\"]\n",
    "linregress(x,y)\n",
    "\n",
    "x = pf_ef_scores[\"ef_score\"]\n",
    "y = pf_ef_scores[\"hp_score\"]\n",
    "linregress(x,y)"
   ]
  },
  {
   "cell_type": "markdown",
   "metadata": {},
   "source": [
    "Both categories show a moderate to strong positive linear relationship\n",
    "\n",
    "__Personal Freedom:__  \n",
    "Slope = 0.48  \n",
    "Correlation Coefficient = 0.59  \n",
    "\n",
    "__Economic Freedom__:  \n",
    "Slope = 0.78  \n",
    "Correlation Coefficient = 0.58  \n"
   ]
  },
  {
   "cell_type": "markdown",
   "metadata": {},
   "source": [
    "Both personal and economic freedom have a moderate to strong influence on happiness.\n",
    "\n",
    "Personal Freedom:\n",
    "* Slope: 0.48\n",
    "* Correlation Coefficient: 0.59\n",
    "\n",
    "Economic Freedom:\n",
    "* Slope: 0.76\n",
    "* Correlation Coefficient: 0.58"
   ]
  },
  {
   "cell_type": "code",
   "execution_count": 8,
   "metadata": {},
   "outputs": [
    {
     "data": {
      "text/html": [
       "<div>\n",
       "<style scoped>\n",
       "    .dataframe tbody tr th:only-of-type {\n",
       "        vertical-align: middle;\n",
       "    }\n",
       "\n",
       "    .dataframe tbody tr th {\n",
       "        vertical-align: top;\n",
       "    }\n",
       "\n",
       "    .dataframe thead th {\n",
       "        text-align: right;\n",
       "    }\n",
       "</style>\n",
       "<table border=\"1\" class=\"dataframe\">\n",
       "  <thead>\n",
       "    <tr style=\"text-align: right;\">\n",
       "      <th></th>\n",
       "      <th>pf_score</th>\n",
       "      <th>ef_score</th>\n",
       "      <th>hp_score</th>\n",
       "    </tr>\n",
       "    <tr>\n",
       "      <th>countries</th>\n",
       "      <th></th>\n",
       "      <th></th>\n",
       "      <th></th>\n",
       "    </tr>\n",
       "  </thead>\n",
       "  <tbody>\n",
       "    <tr>\n",
       "      <th>Albania</th>\n",
       "      <td>7.696934</td>\n",
       "      <td>7.348889</td>\n",
       "      <td>4.644</td>\n",
       "    </tr>\n",
       "    <tr>\n",
       "      <th>Algeria</th>\n",
       "      <td>5.249383</td>\n",
       "      <td>5.032222</td>\n",
       "      <td>5.872</td>\n",
       "    </tr>\n",
       "    <tr>\n",
       "      <th>Angola</th>\n",
       "      <td>5.856932</td>\n",
       "      <td>5.142222</td>\n",
       "      <td>3.795</td>\n",
       "    </tr>\n",
       "  </tbody>\n",
       "</table>\n",
       "</div>"
      ],
      "text/plain": [
       "           pf_score  ef_score  hp_score\n",
       "countries                              \n",
       "Albania    7.696934  7.348889     4.644\n",
       "Algeria    5.249383  5.032222     5.872\n",
       "Angola     5.856932  5.142222     3.795"
      ]
     },
     "execution_count": 8,
     "metadata": {},
     "output_type": "execute_result"
    },
    {
     "data": {
      "text/html": [
       "<div>\n",
       "<style scoped>\n",
       "    .dataframe tbody tr th:only-of-type {\n",
       "        vertical-align: middle;\n",
       "    }\n",
       "\n",
       "    .dataframe tbody tr th {\n",
       "        vertical-align: top;\n",
       "    }\n",
       "\n",
       "    .dataframe thead th {\n",
       "        text-align: right;\n",
       "    }\n",
       "</style>\n",
       "<table border=\"1\" class=\"dataframe\">\n",
       "  <thead>\n",
       "    <tr style=\"text-align: right;\">\n",
       "      <th></th>\n",
       "      <th>pf_score</th>\n",
       "      <th>ef_score</th>\n",
       "      <th>hp_score</th>\n",
       "    </tr>\n",
       "  </thead>\n",
       "  <tbody>\n",
       "    <tr>\n",
       "      <th>count</th>\n",
       "      <td>135.000000</td>\n",
       "      <td>135.000000</td>\n",
       "      <td>135.000000</td>\n",
       "    </tr>\n",
       "    <tr>\n",
       "      <th>mean</th>\n",
       "      <td>7.156347</td>\n",
       "      <td>6.773857</td>\n",
       "      <td>5.407185</td>\n",
       "    </tr>\n",
       "    <tr>\n",
       "      <th>std</th>\n",
       "      <td>1.397562</td>\n",
       "      <td>0.864348</td>\n",
       "      <td>1.134462</td>\n",
       "    </tr>\n",
       "    <tr>\n",
       "      <th>min</th>\n",
       "      <td>3.116028</td>\n",
       "      <td>3.634444</td>\n",
       "      <td>2.905000</td>\n",
       "    </tr>\n",
       "    <tr>\n",
       "      <th>25%</th>\n",
       "      <td>6.197193</td>\n",
       "      <td>6.233333</td>\n",
       "      <td>4.540000</td>\n",
       "    </tr>\n",
       "    <tr>\n",
       "      <th>50%</th>\n",
       "      <td>7.160391</td>\n",
       "      <td>6.890000</td>\n",
       "      <td>5.311000</td>\n",
       "    </tr>\n",
       "    <tr>\n",
       "      <th>75%</th>\n",
       "      <td>8.400550</td>\n",
       "      <td>7.403889</td>\n",
       "      <td>6.350500</td>\n",
       "    </tr>\n",
       "    <tr>\n",
       "      <th>max</th>\n",
       "      <td>9.476455</td>\n",
       "      <td>8.778889</td>\n",
       "      <td>7.537000</td>\n",
       "    </tr>\n",
       "  </tbody>\n",
       "</table>\n",
       "</div>"
      ],
      "text/plain": [
       "         pf_score    ef_score    hp_score\n",
       "count  135.000000  135.000000  135.000000\n",
       "mean     7.156347    6.773857    5.407185\n",
       "std      1.397562    0.864348    1.134462\n",
       "min      3.116028    3.634444    2.905000\n",
       "25%      6.197193    6.233333    4.540000\n",
       "50%      7.160391    6.890000    5.311000\n",
       "75%      8.400550    7.403889    6.350500\n",
       "max      9.476455    8.778889    7.537000"
      ]
     },
     "execution_count": 8,
     "metadata": {},
     "output_type": "execute_result"
    }
   ],
   "source": [
    "pf_ef_scores.head(3)\n",
    "pf_ef_scores.describe()"
   ]
  },
  {
   "cell_type": "code",
   "execution_count": 9,
   "metadata": {},
   "outputs": [
    {
     "data": {
      "text/html": [
       "<div>\n",
       "<style scoped>\n",
       "    .dataframe tbody tr th:only-of-type {\n",
       "        vertical-align: middle;\n",
       "    }\n",
       "\n",
       "    .dataframe tbody tr th {\n",
       "        vertical-align: top;\n",
       "    }\n",
       "\n",
       "    .dataframe thead th {\n",
       "        text-align: right;\n",
       "    }\n",
       "</style>\n",
       "<table border=\"1\" class=\"dataframe\">\n",
       "  <thead>\n",
       "    <tr style=\"text-align: right;\">\n",
       "      <th></th>\n",
       "      <th>hf_score</th>\n",
       "      <th>hp_score</th>\n",
       "      <th>pf_association</th>\n",
       "      <th>pf_expression</th>\n",
       "      <th>pf_identity</th>\n",
       "      <th>pf_movement</th>\n",
       "      <th>pf_rank</th>\n",
       "      <th>pf_religion</th>\n",
       "      <th>pf_rol</th>\n",
       "      <th>pf_score</th>\n",
       "      <th>pf_ss</th>\n",
       "    </tr>\n",
       "    <tr>\n",
       "      <th>countries</th>\n",
       "      <th></th>\n",
       "      <th></th>\n",
       "      <th></th>\n",
       "      <th></th>\n",
       "      <th></th>\n",
       "      <th></th>\n",
       "      <th></th>\n",
       "      <th></th>\n",
       "      <th></th>\n",
       "      <th></th>\n",
       "      <th></th>\n",
       "    </tr>\n",
       "  </thead>\n",
       "  <tbody>\n",
       "    <tr>\n",
       "      <th>Albania</th>\n",
       "      <td>7.511432</td>\n",
       "      <td>4.644</td>\n",
       "      <td>9.597222</td>\n",
       "      <td>8.646825</td>\n",
       "      <td>8.194444</td>\n",
       "      <td>6.666667</td>\n",
       "      <td>57.000000</td>\n",
       "      <td>9.306358</td>\n",
       "      <td>4.885893</td>\n",
       "      <td>7.646198</td>\n",
       "      <td>8.734292</td>\n",
       "    </tr>\n",
       "    <tr>\n",
       "      <th>Algeria</th>\n",
       "      <td>5.140803</td>\n",
       "      <td>5.872</td>\n",
       "      <td>4.388889</td>\n",
       "      <td>7.187741</td>\n",
       "      <td>0.925926</td>\n",
       "      <td>4.629630</td>\n",
       "      <td>142.666667</td>\n",
       "      <td>4.893601</td>\n",
       "      <td>4.185818</td>\n",
       "      <td>5.249383</td>\n",
       "      <td>8.001402</td>\n",
       "    </tr>\n",
       "    <tr>\n",
       "      <th>Angola</th>\n",
       "      <td>5.499577</td>\n",
       "      <td>3.795</td>\n",
       "      <td>3.037037</td>\n",
       "      <td>6.874736</td>\n",
       "      <td>5.092593</td>\n",
       "      <td>4.074074</td>\n",
       "      <td>123.000000</td>\n",
       "      <td>7.635638</td>\n",
       "      <td>4.474387</td>\n",
       "      <td>5.856932</td>\n",
       "      <td>8.267712</td>\n",
       "    </tr>\n",
       "  </tbody>\n",
       "</table>\n",
       "</div>"
      ],
      "text/plain": [
       "           hf_score  hp_score  pf_association  pf_expression  pf_identity  \\\n",
       "countries                                                                   \n",
       "Albania    7.511432     4.644        9.597222       8.646825     8.194444   \n",
       "Algeria    5.140803     5.872        4.388889       7.187741     0.925926   \n",
       "Angola     5.499577     3.795        3.037037       6.874736     5.092593   \n",
       "\n",
       "           pf_movement     pf_rank  pf_religion    pf_rol  pf_score     pf_ss  \n",
       "countries                                                                      \n",
       "Albania       6.666667   57.000000     9.306358  4.885893  7.646198  8.734292  \n",
       "Algeria       4.629630  142.666667     4.893601  4.185818  5.249383  8.001402  \n",
       "Angola        4.074074  123.000000     7.635638  4.474387  5.856932  8.267712  "
      ]
     },
     "execution_count": 9,
     "metadata": {},
     "output_type": "execute_result"
    },
    {
     "data": {
      "text/plain": [
       "Text(0.5,0.98,'Happiness and Personal Freedoms')"
      ]
     },
     "execution_count": 9,
     "metadata": {},
     "output_type": "execute_result"
    },
    {
     "data": {
      "text/plain": [
       "<matplotlib.axes._subplots.AxesSubplot at 0x2055cbe7550>"
      ]
     },
     "execution_count": 9,
     "metadata": {},
     "output_type": "execute_result"
    },
    {
     "data": {
      "text/plain": [
       "<matplotlib.axes._subplots.AxesSubplot at 0x2055cbfe7f0>"
      ]
     },
     "execution_count": 9,
     "metadata": {},
     "output_type": "execute_result"
    },
    {
     "data": {
      "text/plain": [
       "Text(0.5,0,'Personal Freedom')"
      ]
     },
     "execution_count": 9,
     "metadata": {},
     "output_type": "execute_result"
    },
    {
     "data": {
      "text/plain": [
       "Text(0,0.5,'Happiness')"
      ]
     },
     "execution_count": 9,
     "metadata": {},
     "output_type": "execute_result"
    },
    {
     "data": {
      "text/plain": [
       "Text(0.5,0,'Rule of Law')"
      ]
     },
     "execution_count": 9,
     "metadata": {},
     "output_type": "execute_result"
    },
    {
     "data": {
      "text/plain": [
       "Text(0,0.5,'Happiness')"
      ]
     },
     "execution_count": 9,
     "metadata": {},
     "output_type": "execute_result"
    },
    {
     "data": {
      "text/plain": [
       "<matplotlib.axes._subplots.AxesSubplot at 0x2055cc25ac8>"
      ]
     },
     "execution_count": 9,
     "metadata": {},
     "output_type": "execute_result"
    },
    {
     "data": {
      "text/plain": [
       "<matplotlib.axes._subplots.AxesSubplot at 0x2055cc51da0>"
      ]
     },
     "execution_count": 9,
     "metadata": {},
     "output_type": "execute_result"
    },
    {
     "data": {
      "text/plain": [
       "Text(0.5,0,'Safety and Security')"
      ]
     },
     "execution_count": 9,
     "metadata": {},
     "output_type": "execute_result"
    },
    {
     "data": {
      "text/plain": [
       "Text(0,0.5,'Happiness')"
      ]
     },
     "execution_count": 9,
     "metadata": {},
     "output_type": "execute_result"
    },
    {
     "data": {
      "text/plain": [
       "Text(0.5,0,'Movement')"
      ]
     },
     "execution_count": 9,
     "metadata": {},
     "output_type": "execute_result"
    },
    {
     "data": {
      "text/plain": [
       "Text(0,0.5,'Happiness')"
      ]
     },
     "execution_count": 9,
     "metadata": {},
     "output_type": "execute_result"
    },
    {
     "data": {
      "text/plain": [
       "<matplotlib.axes._subplots.AxesSubplot at 0x2055cc820f0>"
      ]
     },
     "execution_count": 9,
     "metadata": {},
     "output_type": "execute_result"
    },
    {
     "data": {
      "text/plain": [
       "<matplotlib.axes._subplots.AxesSubplot at 0x2055ccab390>"
      ]
     },
     "execution_count": 9,
     "metadata": {},
     "output_type": "execute_result"
    },
    {
     "data": {
      "text/plain": [
       "Text(0.5,0,'Religion')"
      ]
     },
     "execution_count": 9,
     "metadata": {},
     "output_type": "execute_result"
    },
    {
     "data": {
      "text/plain": [
       "Text(0,0.5,'Happiness')"
      ]
     },
     "execution_count": 9,
     "metadata": {},
     "output_type": "execute_result"
    },
    {
     "data": {
      "text/plain": [
       "Text(0.5,0,'Association, Assembly, and Civil Society')"
      ]
     },
     "execution_count": 9,
     "metadata": {},
     "output_type": "execute_result"
    },
    {
     "data": {
      "text/plain": [
       "Text(0,0.5,'Happiness')"
      ]
     },
     "execution_count": 9,
     "metadata": {},
     "output_type": "execute_result"
    },
    {
     "data": {
      "text/plain": [
       "<matplotlib.axes._subplots.AxesSubplot at 0x2055ccd47b8>"
      ]
     },
     "execution_count": 9,
     "metadata": {},
     "output_type": "execute_result"
    },
    {
     "data": {
      "text/plain": [
       "<matplotlib.axes._subplots.AxesSubplot at 0x2055ccfde48>"
      ]
     },
     "execution_count": 9,
     "metadata": {},
     "output_type": "execute_result"
    },
    {
     "data": {
      "text/plain": [
       "Text(0.5,0,'Expression and Information')"
      ]
     },
     "execution_count": 9,
     "metadata": {},
     "output_type": "execute_result"
    },
    {
     "data": {
      "text/plain": [
       "Text(0,0.5,'Happiness')"
      ]
     },
     "execution_count": 9,
     "metadata": {},
     "output_type": "execute_result"
    },
    {
     "data": {
      "text/plain": [
       "Text(0.5,0,'Identity and Relationships')"
      ]
     },
     "execution_count": 9,
     "metadata": {},
     "output_type": "execute_result"
    },
    {
     "data": {
      "text/plain": [
       "Text(0,0.5,'Happiness')"
      ]
     },
     "execution_count": 9,
     "metadata": {},
     "output_type": "execute_result"
    },
    {
     "data": {
      "image/png": "[encoded data removed]",
      "text/plain": [
       "<Figure size 1080x1440 with 8 Axes>"
      ]
     },
     "metadata": {
      "needs_background": "light"
     },
     "output_type": "display_data"
    }
   ],
   "source": [
    "# Each personal freedom top level category\n",
    "hfiTopLevelRaw = hfi[['countries', 'hf_score', 'pf_rol', 'pf_ss', 'pf_movement', 'pf_religion', 'pf_association', 'pf_expression', 'pf_identity', 'pf_score', 'pf_rank']]\n",
    "hfiTopLevelCleaned = hfiTopLevelRaw.dropna()\n",
    "hfiTopLevel = hfiTopLevelCleaned.sort_values(by='pf_rank')\n",
    "\n",
    "# coombine the two dataframes grouping by county and dropping null values\n",
    "hp_pf_combined = pd.concat([hfiTopLevel, wh_score_by_country], sort=True)\n",
    "hp_pf_grouped = hp_pf_combined.groupby(\"countries\").mean()\n",
    "hp_pf = hp_pf_grouped.dropna()\n",
    "hp_pf.head(3)\n",
    "\n",
    "# plot of happiness and personal freedom subtypes\n",
    "fig, axes = plt.subplots(nrows=4, ncols=2, figsize=(15, 20))\n",
    "fig.suptitle(\"Happiness and Personal Freedoms\")\n",
    "\n",
    "sns.regplot(x=\"pf_score\", y=\"hp_score\", data=hp_pf, ax=axes[0,0])\n",
    "sns.regplot(x=\"pf_rol\", y=\"hp_score\", data=hp_pf, ax=axes[0,1])\n",
    "axes[0,0].set_xlabel(\"Personal Freedom\")\n",
    "axes[0,0].set_ylabel(\"Happiness\")\n",
    "axes[0,1].set_xlabel(\"Rule of Law\")\n",
    "axes[0,1].set_ylabel(\"Happiness\")\n",
    "\n",
    "sns.regplot(x=\"pf_ss\", y=\"hp_score\", data=hp_pf, ax=axes[1,0])\n",
    "sns.regplot(x=\"pf_movement\", y=\"hp_score\", data=hp_pf, ax=axes[1,1])\n",
    "axes[1,0].set_xlabel(\"Safety and Security\")\n",
    "axes[1,0].set_ylabel(\"Happiness\")\n",
    "axes[1,1].set_xlabel(\"Movement\")\n",
    "axes[1,1].set_ylabel(\"Happiness\")\n",
    "\n",
    "sns.regplot(x=\"pf_religion\", y=\"hp_score\", data=hp_pf, ax=axes[2,0])\n",
    "sns.regplot(x=\"pf_association\", y=\"hp_score\", data=hp_pf, ax=axes[2,1])\n",
    "axes[2,0].set_xlabel(\"Religion\")\n",
    "axes[2,0].set_ylabel(\"Happiness\")\n",
    "axes[2,1].set_xlabel(\"Association, Assembly, and Civil Society\")\n",
    "axes[2,1].set_ylabel(\"Happiness\")\n",
    "\n",
    "sns.regplot(x=\"pf_expression\", y=\"hp_score\", data=hp_pf, ax=axes[3,0])\n",
    "sns.regplot(x=\"pf_identity\", y=\"hp_score\", data=hp_pf, ax=axes[3,1])\n",
    "axes[3,0].set_xlabel(\"Expression and Information\")\n",
    "axes[3,0].set_ylabel(\"Happiness\")\n",
    "axes[3,1].set_xlabel(\"Identity and Relationships\")\n",
    "axes[3,1].set_ylabel(\"Happiness\")\n",
    "\n",
    "plt.tight_layout()\n",
    "fig.subplots_adjust(top=0.95)\n"
   ]
  },
  {
   "cell_type": "code",
   "execution_count": 10,
   "metadata": {},
   "outputs": [
    {
     "name": "stdout",
     "output_type": "stream",
     "text": [
      "Freedom\n"
     ]
    },
    {
     "data": {
      "text/plain": [
       "LinregressResult(slope=0.4777702078099344, intercept=2.025502250415107, rvalue=0.6040153962848803, pvalue=4.4258228174790305e-14, stderr=0.056160271690753764)"
      ]
     },
     "execution_count": 10,
     "metadata": {},
     "output_type": "execute_result"
    },
    {
     "name": "stdout",
     "output_type": "stream",
     "text": [
      "Rule of Law\n"
     ]
    },
    {
     "data": {
      "text/plain": [
       "LinregressResult(slope=0.5209979129866191, intercept=2.673713371293317, rvalue=0.7141489422965056, pvalue=2.990674396433896e-21, stderr=0.045494206338710354)"
      ]
     },
     "execution_count": 10,
     "metadata": {},
     "output_type": "execute_result"
    },
    {
     "name": "stdout",
     "output_type": "stream",
     "text": [
      "Saftey & Security\n"
     ]
    },
    {
     "data": {
      "text/plain": [
       "LinregressResult(slope=0.4080258604239287, intercept=2.0741299252078877, rvalue=0.47480012725507825, pvalue=1.4929626955929245e-08, stderr=0.06737836672643274)"
      ]
     },
     "execution_count": 10,
     "metadata": {},
     "output_type": "execute_result"
    },
    {
     "name": "stdout",
     "output_type": "stream",
     "text": [
      "Movement\n"
     ]
    },
    {
     "data": {
      "text/plain": [
       "LinregressResult(slope=0.17634965652883489, intercept=4.106094261023734, rvalue=0.4171563227037659, pvalue=9.65709798471237e-07, stderr=0.03422752050614893)"
      ]
     },
     "execution_count": 10,
     "metadata": {},
     "output_type": "execute_result"
    },
    {
     "name": "stdout",
     "output_type": "stream",
     "text": [
      "Religion\n"
     ]
    },
    {
     "data": {
      "text/plain": [
       "LinregressResult(slope=0.14964831068730947, intercept=4.281119791280521, rvalue=0.15955172053151812, pvalue=0.07202557542989964, stderr=0.08248701974809576)"
      ]
     },
     "execution_count": 10,
     "metadata": {},
     "output_type": "execute_result"
    },
    {
     "name": "stdout",
     "output_type": "stream",
     "text": [
      "Assocaition, Assembly, & Civil Society\n"
     ]
    },
    {
     "data": {
      "text/plain": [
       "LinregressResult(slope=0.1818249970047164, intercept=4.117945123473065, rvalue=0.3820964026005794, pvalue=8.563369744181416e-06, stderr=0.03917643360180846)"
      ]
     },
     "execution_count": 10,
     "metadata": {},
     "output_type": "execute_result"
    },
    {
     "name": "stdout",
     "output_type": "stream",
     "text": [
      "Expression and Information\n"
     ]
    },
    {
     "data": {
      "text/plain": [
       "LinregressResult(slope=0.3539864950937236, intercept=2.673699994740398, rvalue=0.4468126638142697, pvalue=1.2445335746662996e-07, stderr=0.06314198240634508)"
      ]
     },
     "execution_count": 10,
     "metadata": {},
     "output_type": "execute_result"
    },
    {
     "name": "stdout",
     "output_type": "stream",
     "text": [
      "Identity & Relationships\n"
     ]
    },
    {
     "data": {
      "text/plain": [
       "LinregressResult(slope=0.16300294165747645, intercept=4.26946316335665, rvalue=0.45745928863151136, pvalue=5.6800425635965134e-08, stderr=0.028227479562365345)"
      ]
     },
     "execution_count": 10,
     "metadata": {},
     "output_type": "execute_result"
    }
   ],
   "source": [
    "# slope and correlation coefficient of happiness and personal freedom\n",
    "print(\"Freedom\")\n",
    "x = hp_pf[\"pf_score\"]\n",
    "y = hp_pf[\"hp_score\"]\n",
    "linregress(x,y)\n",
    "\n",
    "# slope and correlation coefficient of happiness and rule of law\n",
    "print(\"Rule of Law\")\n",
    "x = hp_pf[\"pf_rol\"]\n",
    "y = hp_pf[\"hp_score\"]\n",
    "linregress(x,y)\n",
    "\n",
    "# slope and correlation coefficient of happiness and safety and security\n",
    "print(\"Saftey & Security\")\n",
    "x = hp_pf[\"pf_ss\"]\n",
    "y = hp_pf[\"hp_score\"]\n",
    "linregress(x,y)\n",
    "\n",
    "# slope and correlation coefficient of happiness and movement\n",
    "print(\"Movement\")\n",
    "x = hp_pf[\"pf_movement\"]\n",
    "y = hp_pf[\"hp_score\"]\n",
    "linregress(x,y)\n",
    "\n",
    "# slope and correlation coefficient of happiness and religion\n",
    "print(\"Religion\")\n",
    "x = hp_pf[\"pf_religion\"]\n",
    "y = hp_pf[\"hp_score\"]\n",
    "linregress(x,y)\n",
    "\n",
    "# slope and correlation coefficient of happiness and association, assembly, and civil society\n",
    "print(\"Assocaition, Assembly, & Civil Society\")\n",
    "x = hp_pf[\"pf_association\"]\n",
    "y = hp_pf[\"hp_score\"]\n",
    "linregress(x,y)\n",
    "\n",
    "# slope and correlation coefficient of happiness and expression and information\n",
    "print(\"Expression and Information\")\n",
    "x = hp_pf[\"pf_expression\"]\n",
    "y = hp_pf[\"hp_score\"]\n",
    "linregress(x,y)\n",
    "\n",
    "# slope and correlation coefficient of happiness and identity and relationships\n",
    "print(\"Identity & Relationships\")\n",
    "x = hp_pf[\"pf_identity\"]\n",
    "y = hp_pf[\"hp_score\"]\n",
    "\n",
    "linregress(x,y)"
   ]
  },
  {
   "cell_type": "markdown",
   "metadata": {},
   "source": [
    "#### Analysis:\n",
    "\n",
    "**Strong relationship**: Rule of Law (0.71)\n",
    "\n",
    "**Weak to moderate**: Saftey & Security (0.48), Movement (0.42), Association, Assembly, and Civil Society (0.38), Expression and Information (0.45), Identity and Relationships (0.46)\n",
    "\n",
    "**None to weak** Relgion (0.16)\n",
    "\n",
    "From the r values, Rule of Law shows to highest correlation with happiness, while all other categories except Religion show a weak to moderate correlation to happiness."
   ]
  },
  {
   "cell_type": "markdown",
   "metadata": {},
   "source": [
    "### Happiness and Movement Freedom"
   ]
  },
  {
   "cell_type": "code",
   "execution_count": 11,
   "metadata": {},
   "outputs": [
    {
     "data": {
      "text/html": [
       "<div>\n",
       "<style scoped>\n",
       "    .dataframe tbody tr th:only-of-type {\n",
       "        vertical-align: middle;\n",
       "    }\n",
       "\n",
       "    .dataframe tbody tr th {\n",
       "        vertical-align: top;\n",
       "    }\n",
       "\n",
       "    .dataframe thead th {\n",
       "        text-align: right;\n",
       "    }\n",
       "</style>\n",
       "<table border=\"1\" class=\"dataframe\">\n",
       "  <thead>\n",
       "    <tr style=\"text-align: right;\">\n",
       "      <th></th>\n",
       "      <th>hp_score</th>\n",
       "      <th>pf_movement</th>\n",
       "      <th>pf_movement_domestic</th>\n",
       "      <th>pf_movement_foreign</th>\n",
       "      <th>pf_movement_women</th>\n",
       "    </tr>\n",
       "    <tr>\n",
       "      <th>countries</th>\n",
       "      <th></th>\n",
       "      <th></th>\n",
       "      <th></th>\n",
       "      <th></th>\n",
       "      <th></th>\n",
       "    </tr>\n",
       "  </thead>\n",
       "  <tbody>\n",
       "    <tr>\n",
       "      <th>Albania</th>\n",
       "      <td>4.644</td>\n",
       "      <td>10.000000</td>\n",
       "      <td>10.0</td>\n",
       "      <td>10.0</td>\n",
       "      <td>10.0</td>\n",
       "    </tr>\n",
       "    <tr>\n",
       "      <th>Algeria</th>\n",
       "      <td>5.872</td>\n",
       "      <td>5.000000</td>\n",
       "      <td>5.0</td>\n",
       "      <td>5.0</td>\n",
       "      <td>5.0</td>\n",
       "    </tr>\n",
       "    <tr>\n",
       "      <th>Angola</th>\n",
       "      <td>3.795</td>\n",
       "      <td>3.333333</td>\n",
       "      <td>0.0</td>\n",
       "      <td>0.0</td>\n",
       "      <td>10.0</td>\n",
       "    </tr>\n",
       "  </tbody>\n",
       "</table>\n",
       "</div>"
      ],
      "text/plain": [
       "           hp_score  pf_movement  pf_movement_domestic  pf_movement_foreign  \\\n",
       "countries                                                                     \n",
       "Albania       4.644    10.000000                  10.0                 10.0   \n",
       "Algeria       5.872     5.000000                   5.0                  5.0   \n",
       "Angola        3.795     3.333333                   0.0                  0.0   \n",
       "\n",
       "           pf_movement_women  \n",
       "countries                     \n",
       "Albania                 10.0  \n",
       "Algeria                  5.0  \n",
       "Angola                  10.0  "
      ]
     },
     "execution_count": 11,
     "metadata": {},
     "output_type": "execute_result"
    },
    {
     "data": {
      "text/plain": [
       "<matplotlib.axes._subplots.AxesSubplot at 0x2055eb24d30>"
      ]
     },
     "execution_count": 11,
     "metadata": {},
     "output_type": "execute_result"
    },
    {
     "data": {
      "text/plain": [
       "Text(0.5,1,'Correlation of General Happiness and Movement Freedom')"
      ]
     },
     "execution_count": 11,
     "metadata": {},
     "output_type": "execute_result"
    },
    {
     "data": {
      "text/plain": [
       "Text(0.5,0,'Movement Freedom')"
      ]
     },
     "execution_count": 11,
     "metadata": {},
     "output_type": "execute_result"
    },
    {
     "data": {
      "text/plain": [
       "Text(0,0.5,'Happiness Score')"
      ]
     },
     "execution_count": 11,
     "metadata": {},
     "output_type": "execute_result"
    },
    {
     "data": {
      "text/plain": [
       "<matplotlib.legend.Legend at 0x2055eb1bf98>"
      ]
     },
     "execution_count": 11,
     "metadata": {},
     "output_type": "execute_result"
    },
    {
     "data": {
      "text/plain": [
       "LinregressResult(slope=0.19384737724068232, intercept=3.865210669228947, rvalue=0.40395224050215855, pvalue=3.948639184319359e-06, stderr=0.0400733806885717)"
      ]
     },
     "execution_count": 11,
     "metadata": {},
     "output_type": "execute_result"
    },
    {
     "data": {
      "image/png": "[encoded data removed]",
      "text/plain": [
       "<Figure size 1080x360 with 1 Axes>"
      ]
     },
     "metadata": {
      "needs_background": "light"
     },
     "output_type": "display_data"
    }
   ],
   "source": [
    "# Happiness and Movement Freedom\n",
    "\n",
    "# retrieve movement data from Human Freedom Index grouped by country and ordered by movement score\n",
    "hfi_movement_by_country_data = \"SELECT countries, pf_movement, pf_movement_domestic, pf_movement_foreign, pf_movement_women FROM 'Human Freedom Index' GROUP BY countries ORDER BY pf_score DESC\"\n",
    "hfi_movement_by_country_raw = pd.read_sql(hfi_movement_by_country_data, con=engine)\n",
    "hfi_movement_by_country = hfi_movement_by_country_raw.dropna()\n",
    "\n",
    "# retrieve happiness score data from World Happiness Report groupd by country and ordered by happiness score\n",
    "whr_happiness_by_country_data = \"SELECT Country as countries, `Happiness.Score` as hp_score FROM 'World Happiness Report' GROUP BY countries ORDER BY hp_score DESC\"\n",
    "whr_happiness_by_country_raw = pd.read_sql(whr_happiness_by_country_data, con=engine)\n",
    "whr_happiness_by_country = whr_happiness_by_country_raw.dropna()\n",
    "\n",
    "# coombine the two dataframes grouping by county and dropping null values\n",
    "hfi_movement_whr_happiness_by_country_combined = pd.concat([hfi_movement_by_country, whr_happiness_by_country], sort=True)\n",
    "hfi_movement_whr_happiness_by_country_grouped = hfi_movement_whr_happiness_by_country_combined.groupby(\"countries\")[\"hp_score\", \"pf_movement\", \"pf_movement_domestic\", \"pf_movement_foreign\", \"pf_movement_women\"].mean()\n",
    "hfi_movement_whr_happiness_by_country = hfi_movement_whr_happiness_by_country_grouped.dropna()\n",
    "hfi_movement_whr_happiness_by_country.head(3)\n",
    "\n",
    "# scatter plot analysis with linear regression\n",
    "fig, ax = plt.subplots(figsize=(15, 5))\n",
    "sns.regplot(x=\"pf_movement\", y=\"hp_score\", data=hfi_movement_whr_happiness_by_country)\n",
    "points = plt.scatter(hfi_movement_whr_happiness_by_country[\"pf_movement\"], hfi_movement_whr_happiness_by_country[\"hp_score\"], label=\"Happiness and Movement\")\n",
    "ax.set_title(\"Correlation of General Happiness and Movement Freedom\")\n",
    "ax.set_xlabel(\"Movement Freedom\")\n",
    "ax.set_ylabel(\"Happiness Score\")\n",
    "ax.legend()\n",
    "\n",
    "x = hfi_movement_whr_happiness_by_country[\"pf_movement\"]\n",
    "y = hfi_movement_whr_happiness_by_country[\"hp_score\"]\n",
    "linregress(x,y)"
   ]
  },
  {
   "cell_type": "markdown",
   "metadata": {},
   "source": [
    "Slope = 0.19   \n",
    "Correlation Coefficient = 0.40"
   ]
  },
  {
   "cell_type": "markdown",
   "metadata": {},
   "source": [
    "## Happiness and types of movment"
   ]
  },
  {
   "cell_type": "code",
   "execution_count": 12,
   "metadata": {
    "scrolled": true
   },
   "outputs": [
    {
     "data": {
      "text/html": [
       "<div>\n",
       "<style scoped>\n",
       "    .dataframe tbody tr th:only-of-type {\n",
       "        vertical-align: middle;\n",
       "    }\n",
       "\n",
       "    .dataframe tbody tr th {\n",
       "        vertical-align: top;\n",
       "    }\n",
       "\n",
       "    .dataframe thead th {\n",
       "        text-align: right;\n",
       "    }\n",
       "</style>\n",
       "<table border=\"1\" class=\"dataframe\">\n",
       "  <thead>\n",
       "    <tr style=\"text-align: right;\">\n",
       "      <th></th>\n",
       "      <th>hp_score</th>\n",
       "      <th>pf_movement</th>\n",
       "      <th>pf_movement_domestic</th>\n",
       "      <th>pf_movement_foreign</th>\n",
       "      <th>pf_movement_women</th>\n",
       "    </tr>\n",
       "    <tr>\n",
       "      <th>countries</th>\n",
       "      <th></th>\n",
       "      <th></th>\n",
       "      <th></th>\n",
       "      <th></th>\n",
       "      <th></th>\n",
       "    </tr>\n",
       "  </thead>\n",
       "  <tbody>\n",
       "    <tr>\n",
       "      <th>Albania</th>\n",
       "      <td>4.644</td>\n",
       "      <td>10.000000</td>\n",
       "      <td>10.0</td>\n",
       "      <td>10.0</td>\n",
       "      <td>10.0</td>\n",
       "    </tr>\n",
       "    <tr>\n",
       "      <th>Algeria</th>\n",
       "      <td>5.872</td>\n",
       "      <td>5.000000</td>\n",
       "      <td>5.0</td>\n",
       "      <td>5.0</td>\n",
       "      <td>5.0</td>\n",
       "    </tr>\n",
       "    <tr>\n",
       "      <th>Angola</th>\n",
       "      <td>3.795</td>\n",
       "      <td>3.333333</td>\n",
       "      <td>0.0</td>\n",
       "      <td>0.0</td>\n",
       "      <td>10.0</td>\n",
       "    </tr>\n",
       "  </tbody>\n",
       "</table>\n",
       "</div>"
      ],
      "text/plain": [
       "           hp_score  pf_movement  pf_movement_domestic  pf_movement_foreign  \\\n",
       "countries                                                                     \n",
       "Albania       4.644    10.000000                  10.0                 10.0   \n",
       "Algeria       5.872     5.000000                   5.0                  5.0   \n",
       "Angola        3.795     3.333333                   0.0                  0.0   \n",
       "\n",
       "           pf_movement_women  \n",
       "countries                     \n",
       "Albania                 10.0  \n",
       "Algeria                  5.0  \n",
       "Angola                  10.0  "
      ]
     },
     "execution_count": 12,
     "metadata": {},
     "output_type": "execute_result"
    },
    {
     "data": {
      "text/plain": [
       "Text(0.5,0.98,'Happiness and Freedom of Movement')"
      ]
     },
     "execution_count": 12,
     "metadata": {},
     "output_type": "execute_result"
    },
    {
     "data": {
      "text/plain": [
       "<matplotlib.axes._subplots.AxesSubplot at 0x2055e66bd30>"
      ]
     },
     "execution_count": 12,
     "metadata": {},
     "output_type": "execute_result"
    },
    {
     "data": {
      "text/plain": [
       "<matplotlib.axes._subplots.AxesSubplot at 0x2055e67a2b0>"
      ]
     },
     "execution_count": 12,
     "metadata": {},
     "output_type": "execute_result"
    },
    {
     "data": {
      "text/plain": [
       "Text(0.5,0,'Freedom of Movement')"
      ]
     },
     "execution_count": 12,
     "metadata": {},
     "output_type": "execute_result"
    },
    {
     "data": {
      "text/plain": [
       "Text(0,0.5,'Happiness')"
      ]
     },
     "execution_count": 12,
     "metadata": {},
     "output_type": "execute_result"
    },
    {
     "data": {
      "text/plain": [
       "Text(0.5,0,'Domestic Travel')"
      ]
     },
     "execution_count": 12,
     "metadata": {},
     "output_type": "execute_result"
    },
    {
     "data": {
      "text/plain": [
       "Text(0,0.5,'Happiness')"
      ]
     },
     "execution_count": 12,
     "metadata": {},
     "output_type": "execute_result"
    },
    {
     "data": {
      "text/plain": [
       "<matplotlib.axes._subplots.AxesSubplot at 0x2055e4d2908>"
      ]
     },
     "execution_count": 12,
     "metadata": {},
     "output_type": "execute_result"
    },
    {
     "data": {
      "text/plain": [
       "<matplotlib.axes._subplots.AxesSubplot at 0x2055e4f8f98>"
      ]
     },
     "execution_count": 12,
     "metadata": {},
     "output_type": "execute_result"
    },
    {
     "data": {
      "text/plain": [
       "Text(0.5,0,'Foreign Travel')"
      ]
     },
     "execution_count": 12,
     "metadata": {},
     "output_type": "execute_result"
    },
    {
     "data": {
      "text/plain": [
       "Text(0,0.5,'Happiness')"
      ]
     },
     "execution_count": 12,
     "metadata": {},
     "output_type": "execute_result"
    },
    {
     "data": {
      "text/plain": [
       "Text(0.5,0,\"Women's Movement\")"
      ]
     },
     "execution_count": 12,
     "metadata": {},
     "output_type": "execute_result"
    },
    {
     "data": {
      "text/plain": [
       "Text(0,0.5,'Happiness')"
      ]
     },
     "execution_count": 12,
     "metadata": {},
     "output_type": "execute_result"
    },
    {
     "data": {
      "text/plain": [
       "LinregressResult(slope=0.19384737724068232, intercept=3.865210669228947, rvalue=0.40395224050215855, pvalue=3.948639184319359e-06, stderr=0.0400733806885717)"
      ]
     },
     "execution_count": 12,
     "metadata": {},
     "output_type": "execute_result"
    },
    {
     "data": {
      "text/plain": [
       "LinregressResult(slope=0.12524635510928528, intercept=4.486462509188343, rvalue=0.3986688491682361, pvalue=5.41240705840397e-06, stderr=0.026301255055421024)"
      ]
     },
     "execution_count": 12,
     "metadata": {},
     "output_type": "execute_result"
    },
    {
     "data": {
      "text/plain": [
       "LinregressResult(slope=0.09322213476133365, intercept=4.733206502033217, rvalue=0.2967332753905574, pvalue=0.0009038423009149428, stderr=0.02738719365529842)"
      ]
     },
     "execution_count": 12,
     "metadata": {},
     "output_type": "execute_result"
    },
    {
     "data": {
      "text/plain": [
       "LinregressResult(slope=0.11382046038111927, intercept=4.411231037694739, rvalue=0.18839487581167114, pvalue=0.0376988147725481, stderr=0.05416433358800328)"
      ]
     },
     "execution_count": 12,
     "metadata": {},
     "output_type": "execute_result"
    },
    {
     "data": {
      "image/png": "[encoded data removed]",
      "text/plain": [
       "<Figure size 1080x720 with 4 Axes>"
      ]
     },
     "metadata": {
      "needs_background": "light"
     },
     "output_type": "display_data"
    }
   ],
   "source": [
    "# Correlation of happiness and all movement freedom types\n",
    "\n",
    "hfi_movement_whr_happiness_by_country.head(3)\n",
    "\n",
    "# plot of happiness freedom and personal freedom subtypes\n",
    "fig, axes = plt.subplots(nrows=2, ncols=2, figsize=(15, 10))\n",
    "fig.suptitle(\"Happiness and Freedom of Movement\")\n",
    "\n",
    "sns.regplot(x=\"pf_movement\", y=\"hp_score\", data=hfi_movement_whr_happiness_by_country, ax=axes[0,0])\n",
    "sns.regplot(x=\"pf_movement_domestic\", y=\"hp_score\", data=hfi_movement_whr_happiness_by_country, ax=axes[0,1])\n",
    "axes[0,0].set_xlabel(\"Freedom of Movement\")\n",
    "axes[0,0].set_ylabel(\"Happiness\")\n",
    "axes[0,1].set_xlabel(\"Domestic Travel\")\n",
    "axes[0,1].set_ylabel(\"Happiness\")\n",
    "\n",
    "sns.regplot(x=\"pf_movement_foreign\", y=\"hp_score\", data=hfi_movement_whr_happiness_by_country, ax=axes[1,0])\n",
    "sns.regplot(x=\"pf_movement_women\", y=\"hp_score\", data=hfi_movement_whr_happiness_by_country, ax=axes[1,1])\n",
    "axes[1,0].set_xlabel(\"Foreign Travel\")\n",
    "axes[1,0].set_ylabel(\"Happiness\")\n",
    "axes[1,1].set_xlabel(\"Women's Movement\")\n",
    "axes[1,1].set_ylabel(\"Happiness\")\n",
    "\n",
    "plt.tight_layout()\n",
    "fig.subplots_adjust(top=0.9)\n",
    "\n",
    "# slope and correlation coefficient of happiness and personal freedom\n",
    "x = hfi_movement_whr_happiness_by_country[\"pf_movement\"]\n",
    "y = hfi_movement_whr_happiness_by_country[\"hp_score\"]\n",
    "linregress(x,y)\n",
    "\n",
    "x = hfi_movement_whr_happiness_by_country[\"pf_movement_domestic\"]\n",
    "y = hfi_movement_whr_happiness_by_country[\"hp_score\"]\n",
    "linregress(x,y)\n",
    "\n",
    "x = hfi_movement_whr_happiness_by_country[\"pf_movement_foreign\"]\n",
    "y = hfi_movement_whr_happiness_by_country[\"hp_score\"]\n",
    "linregress(x,y)\n",
    "\n",
    "x = hfi_movement_whr_happiness_by_country[\"pf_movement_women\"]\n",
    "y = hfi_movement_whr_happiness_by_country[\"hp_score\"]\n",
    "linregress(x,y)"
   ]
  },
  {
   "cell_type": "markdown",
   "metadata": {},
   "source": [
    "### Analysis:\n",
    "\n",
    "**Weak to moderate**:  Domestic Travel (0.40), Foreign Trave (0.30), Women's Movement (0.19) \n",
    "\n",
    "Domestic travel has the strongest correlation with happiness which seems to be a benefit for isolated countries."
   ]
  },
  {
   "cell_type": "markdown",
   "metadata": {},
   "source": [
    "## Happiness and geographic isolation"
   ]
  },
  {
   "cell_type": "code",
   "execution_count": 13,
   "metadata": {},
   "outputs": [
    {
     "ename": "KeyError",
     "evalue": "'countries'",
     "output_type": "error",
     "traceback": [
      "\u001b[1;31m---------------------------------------------------------------------------\u001b[0m",
      "\u001b[1;31mKeyError\u001b[0m                                  Traceback (most recent call last)",
      "\u001b[1;32m~\\Anaconda3\\lib\\site-packages\\pandas\\core\\indexes\\base.py\u001b[0m in \u001b[0;36mget_loc\u001b[1;34m(self, key, method, tolerance)\u001b[0m\n\u001b[0;32m   3077\u001b[0m             \u001b[1;32mtry\u001b[0m\u001b[1;33m:\u001b[0m\u001b[1;33m\u001b[0m\u001b[0m\n\u001b[1;32m-> 3078\u001b[1;33m                 \u001b[1;32mreturn\u001b[0m \u001b[0mself\u001b[0m\u001b[1;33m.\u001b[0m\u001b[0m_engine\u001b[0m\u001b[1;33m.\u001b[0m\u001b[0mget_loc\u001b[0m\u001b[1;33m(\u001b[0m\u001b[0mkey\u001b[0m\u001b[1;33m)\u001b[0m\u001b[1;33m\u001b[0m\u001b[0m\n\u001b[0m\u001b[0;32m   3079\u001b[0m             \u001b[1;32mexcept\u001b[0m \u001b[0mKeyError\u001b[0m\u001b[1;33m:\u001b[0m\u001b[1;33m\u001b[0m\u001b[0m\n",
      "\u001b[1;32mpandas\\_libs\\index.pyx\u001b[0m in \u001b[0;36mpandas._libs.index.IndexEngine.get_loc\u001b[1;34m()\u001b[0m\n",
      "\u001b[1;32mpandas\\_libs\\index.pyx\u001b[0m in \u001b[0;36mpandas._libs.index.IndexEngine.get_loc\u001b[1;34m()\u001b[0m\n",
      "\u001b[1;32mpandas\\_libs\\hashtable_class_helper.pxi\u001b[0m in \u001b[0;36mpandas._libs.hashtable.PyObjectHashTable.get_item\u001b[1;34m()\u001b[0m\n",
      "\u001b[1;32mpandas\\_libs\\hashtable_class_helper.pxi\u001b[0m in \u001b[0;36mpandas._libs.hashtable.PyObjectHashTable.get_item\u001b[1;34m()\u001b[0m\n",
      "\u001b[1;31mKeyError\u001b[0m: 'countries'",
      "\nDuring handling of the above exception, another exception occurred:\n",
      "\u001b[1;31mKeyError\u001b[0m                                  Traceback (most recent call last)",
      "\u001b[1;32m<ipython-input-13-55453c08b0ed>\u001b[0m in \u001b[0;36m<module>\u001b[1;34m()\u001b[0m\n\u001b[0;32m      5\u001b[0m \u001b[1;31m# list non land locked countries\u001b[0m\u001b[1;33m\u001b[0m\u001b[1;33m\u001b[0m\u001b[0m\n\u001b[0;32m      6\u001b[0m \u001b[1;33m\u001b[0m\u001b[0m\n\u001b[1;32m----> 7\u001b[1;33m \u001b[0mllc_movement_happiness\u001b[0m \u001b[1;33m=\u001b[0m \u001b[0mhfi_movement_whr_happiness_by_country\u001b[0m\u001b[1;33m.\u001b[0m\u001b[0mloc\u001b[0m\u001b[1;33m[\u001b[0m\u001b[0mhfi_movement_whr_happiness_by_country\u001b[0m\u001b[1;33m[\u001b[0m\u001b[1;34m\"countries\"\u001b[0m\u001b[1;33m]\u001b[0m\u001b[1;33m.\u001b[0m\u001b[0misin\u001b[0m\u001b[1;33m(\u001b[0m\u001b[0mland_locked_countries\u001b[0m\u001b[1;33m)\u001b[0m\u001b[1;33m]\u001b[0m\u001b[1;33m\u001b[0m\u001b[0m\n\u001b[0m\u001b[0;32m      8\u001b[0m \u001b[0mnll_movement_happiness\u001b[0m \u001b[1;33m=\u001b[0m \u001b[0mhfi_movement_whr_happiness_by_country\u001b[0m\u001b[1;33m.\u001b[0m\u001b[0mloc\u001b[0m\u001b[1;33m[\u001b[0m\u001b[1;33m~\u001b[0m\u001b[0mhfi_movement_whr_happiness_by_country\u001b[0m\u001b[1;33m[\u001b[0m\u001b[1;34m\"countries\"\u001b[0m\u001b[1;33m]\u001b[0m\u001b[1;33m.\u001b[0m\u001b[0misin\u001b[0m\u001b[1;33m(\u001b[0m\u001b[0mland_locked_countries\u001b[0m\u001b[1;33m)\u001b[0m\u001b[1;33m]\u001b[0m\u001b[1;33m\u001b[0m\u001b[0m\n\u001b[0;32m      9\u001b[0m \u001b[1;33m\u001b[0m\u001b[0m\n",
      "\u001b[1;32m~\\Anaconda3\\lib\\site-packages\\pandas\\core\\frame.py\u001b[0m in \u001b[0;36m__getitem__\u001b[1;34m(self, key)\u001b[0m\n\u001b[0;32m   2686\u001b[0m             \u001b[1;32mreturn\u001b[0m \u001b[0mself\u001b[0m\u001b[1;33m.\u001b[0m\u001b[0m_getitem_multilevel\u001b[0m\u001b[1;33m(\u001b[0m\u001b[0mkey\u001b[0m\u001b[1;33m)\u001b[0m\u001b[1;33m\u001b[0m\u001b[0m\n\u001b[0;32m   2687\u001b[0m         \u001b[1;32melse\u001b[0m\u001b[1;33m:\u001b[0m\u001b[1;33m\u001b[0m\u001b[0m\n\u001b[1;32m-> 2688\u001b[1;33m             \u001b[1;32mreturn\u001b[0m \u001b[0mself\u001b[0m\u001b[1;33m.\u001b[0m\u001b[0m_getitem_column\u001b[0m\u001b[1;33m(\u001b[0m\u001b[0mkey\u001b[0m\u001b[1;33m)\u001b[0m\u001b[1;33m\u001b[0m\u001b[0m\n\u001b[0m\u001b[0;32m   2689\u001b[0m \u001b[1;33m\u001b[0m\u001b[0m\n\u001b[0;32m   2690\u001b[0m     \u001b[1;32mdef\u001b[0m \u001b[0m_getitem_column\u001b[0m\u001b[1;33m(\u001b[0m\u001b[0mself\u001b[0m\u001b[1;33m,\u001b[0m \u001b[0mkey\u001b[0m\u001b[1;33m)\u001b[0m\u001b[1;33m:\u001b[0m\u001b[1;33m\u001b[0m\u001b[0m\n",
      "\u001b[1;32m~\\Anaconda3\\lib\\site-packages\\pandas\\core\\frame.py\u001b[0m in \u001b[0;36m_getitem_column\u001b[1;34m(self, key)\u001b[0m\n\u001b[0;32m   2693\u001b[0m         \u001b[1;31m# get column\u001b[0m\u001b[1;33m\u001b[0m\u001b[1;33m\u001b[0m\u001b[0m\n\u001b[0;32m   2694\u001b[0m         \u001b[1;32mif\u001b[0m \u001b[0mself\u001b[0m\u001b[1;33m.\u001b[0m\u001b[0mcolumns\u001b[0m\u001b[1;33m.\u001b[0m\u001b[0mis_unique\u001b[0m\u001b[1;33m:\u001b[0m\u001b[1;33m\u001b[0m\u001b[0m\n\u001b[1;32m-> 2695\u001b[1;33m             \u001b[1;32mreturn\u001b[0m \u001b[0mself\u001b[0m\u001b[1;33m.\u001b[0m\u001b[0m_get_item_cache\u001b[0m\u001b[1;33m(\u001b[0m\u001b[0mkey\u001b[0m\u001b[1;33m)\u001b[0m\u001b[1;33m\u001b[0m\u001b[0m\n\u001b[0m\u001b[0;32m   2696\u001b[0m \u001b[1;33m\u001b[0m\u001b[0m\n\u001b[0;32m   2697\u001b[0m         \u001b[1;31m# duplicate columns & possible reduce dimensionality\u001b[0m\u001b[1;33m\u001b[0m\u001b[1;33m\u001b[0m\u001b[0m\n",
      "\u001b[1;32m~\\Anaconda3\\lib\\site-packages\\pandas\\core\\generic.py\u001b[0m in \u001b[0;36m_get_item_cache\u001b[1;34m(self, item)\u001b[0m\n\u001b[0;32m   2487\u001b[0m         \u001b[0mres\u001b[0m \u001b[1;33m=\u001b[0m \u001b[0mcache\u001b[0m\u001b[1;33m.\u001b[0m\u001b[0mget\u001b[0m\u001b[1;33m(\u001b[0m\u001b[0mitem\u001b[0m\u001b[1;33m)\u001b[0m\u001b[1;33m\u001b[0m\u001b[0m\n\u001b[0;32m   2488\u001b[0m         \u001b[1;32mif\u001b[0m \u001b[0mres\u001b[0m \u001b[1;32mis\u001b[0m \u001b[1;32mNone\u001b[0m\u001b[1;33m:\u001b[0m\u001b[1;33m\u001b[0m\u001b[0m\n\u001b[1;32m-> 2489\u001b[1;33m             \u001b[0mvalues\u001b[0m \u001b[1;33m=\u001b[0m \u001b[0mself\u001b[0m\u001b[1;33m.\u001b[0m\u001b[0m_data\u001b[0m\u001b[1;33m.\u001b[0m\u001b[0mget\u001b[0m\u001b[1;33m(\u001b[0m\u001b[0mitem\u001b[0m\u001b[1;33m)\u001b[0m\u001b[1;33m\u001b[0m\u001b[0m\n\u001b[0m\u001b[0;32m   2490\u001b[0m             \u001b[0mres\u001b[0m \u001b[1;33m=\u001b[0m \u001b[0mself\u001b[0m\u001b[1;33m.\u001b[0m\u001b[0m_box_item_values\u001b[0m\u001b[1;33m(\u001b[0m\u001b[0mitem\u001b[0m\u001b[1;33m,\u001b[0m \u001b[0mvalues\u001b[0m\u001b[1;33m)\u001b[0m\u001b[1;33m\u001b[0m\u001b[0m\n\u001b[0;32m   2491\u001b[0m             \u001b[0mcache\u001b[0m\u001b[1;33m[\u001b[0m\u001b[0mitem\u001b[0m\u001b[1;33m]\u001b[0m \u001b[1;33m=\u001b[0m \u001b[0mres\u001b[0m\u001b[1;33m\u001b[0m\u001b[0m\n",
      "\u001b[1;32m~\\Anaconda3\\lib\\site-packages\\pandas\\core\\internals.py\u001b[0m in \u001b[0;36mget\u001b[1;34m(self, item, fastpath)\u001b[0m\n\u001b[0;32m   4113\u001b[0m \u001b[1;33m\u001b[0m\u001b[0m\n\u001b[0;32m   4114\u001b[0m             \u001b[1;32mif\u001b[0m \u001b[1;32mnot\u001b[0m \u001b[0misna\u001b[0m\u001b[1;33m(\u001b[0m\u001b[0mitem\u001b[0m\u001b[1;33m)\u001b[0m\u001b[1;33m:\u001b[0m\u001b[1;33m\u001b[0m\u001b[0m\n\u001b[1;32m-> 4115\u001b[1;33m                 \u001b[0mloc\u001b[0m \u001b[1;33m=\u001b[0m \u001b[0mself\u001b[0m\u001b[1;33m.\u001b[0m\u001b[0mitems\u001b[0m\u001b[1;33m.\u001b[0m\u001b[0mget_loc\u001b[0m\u001b[1;33m(\u001b[0m\u001b[0mitem\u001b[0m\u001b[1;33m)\u001b[0m\u001b[1;33m\u001b[0m\u001b[0m\n\u001b[0m\u001b[0;32m   4116\u001b[0m             \u001b[1;32melse\u001b[0m\u001b[1;33m:\u001b[0m\u001b[1;33m\u001b[0m\u001b[0m\n\u001b[0;32m   4117\u001b[0m                 \u001b[0mindexer\u001b[0m \u001b[1;33m=\u001b[0m \u001b[0mnp\u001b[0m\u001b[1;33m.\u001b[0m\u001b[0marange\u001b[0m\u001b[1;33m(\u001b[0m\u001b[0mlen\u001b[0m\u001b[1;33m(\u001b[0m\u001b[0mself\u001b[0m\u001b[1;33m.\u001b[0m\u001b[0mitems\u001b[0m\u001b[1;33m)\u001b[0m\u001b[1;33m)\u001b[0m\u001b[1;33m[\u001b[0m\u001b[0misna\u001b[0m\u001b[1;33m(\u001b[0m\u001b[0mself\u001b[0m\u001b[1;33m.\u001b[0m\u001b[0mitems\u001b[0m\u001b[1;33m)\u001b[0m\u001b[1;33m]\u001b[0m\u001b[1;33m\u001b[0m\u001b[0m\n",
      "\u001b[1;32m~\\Anaconda3\\lib\\site-packages\\pandas\\core\\indexes\\base.py\u001b[0m in \u001b[0;36mget_loc\u001b[1;34m(self, key, method, tolerance)\u001b[0m\n\u001b[0;32m   3078\u001b[0m                 \u001b[1;32mreturn\u001b[0m \u001b[0mself\u001b[0m\u001b[1;33m.\u001b[0m\u001b[0m_engine\u001b[0m\u001b[1;33m.\u001b[0m\u001b[0mget_loc\u001b[0m\u001b[1;33m(\u001b[0m\u001b[0mkey\u001b[0m\u001b[1;33m)\u001b[0m\u001b[1;33m\u001b[0m\u001b[0m\n\u001b[0;32m   3079\u001b[0m             \u001b[1;32mexcept\u001b[0m \u001b[0mKeyError\u001b[0m\u001b[1;33m:\u001b[0m\u001b[1;33m\u001b[0m\u001b[0m\n\u001b[1;32m-> 3080\u001b[1;33m                 \u001b[1;32mreturn\u001b[0m \u001b[0mself\u001b[0m\u001b[1;33m.\u001b[0m\u001b[0m_engine\u001b[0m\u001b[1;33m.\u001b[0m\u001b[0mget_loc\u001b[0m\u001b[1;33m(\u001b[0m\u001b[0mself\u001b[0m\u001b[1;33m.\u001b[0m\u001b[0m_maybe_cast_indexer\u001b[0m\u001b[1;33m(\u001b[0m\u001b[0mkey\u001b[0m\u001b[1;33m)\u001b[0m\u001b[1;33m)\u001b[0m\u001b[1;33m\u001b[0m\u001b[0m\n\u001b[0m\u001b[0;32m   3081\u001b[0m \u001b[1;33m\u001b[0m\u001b[0m\n\u001b[0;32m   3082\u001b[0m         \u001b[0mindexer\u001b[0m \u001b[1;33m=\u001b[0m \u001b[0mself\u001b[0m\u001b[1;33m.\u001b[0m\u001b[0mget_indexer\u001b[0m\u001b[1;33m(\u001b[0m\u001b[1;33m[\u001b[0m\u001b[0mkey\u001b[0m\u001b[1;33m]\u001b[0m\u001b[1;33m,\u001b[0m \u001b[0mmethod\u001b[0m\u001b[1;33m=\u001b[0m\u001b[0mmethod\u001b[0m\u001b[1;33m,\u001b[0m \u001b[0mtolerance\u001b[0m\u001b[1;33m=\u001b[0m\u001b[0mtolerance\u001b[0m\u001b[1;33m)\u001b[0m\u001b[1;33m\u001b[0m\u001b[0m\n",
      "\u001b[1;32mpandas\\_libs\\index.pyx\u001b[0m in \u001b[0;36mpandas._libs.index.IndexEngine.get_loc\u001b[1;34m()\u001b[0m\n",
      "\u001b[1;32mpandas\\_libs\\index.pyx\u001b[0m in \u001b[0;36mpandas._libs.index.IndexEngine.get_loc\u001b[1;34m()\u001b[0m\n",
      "\u001b[1;32mpandas\\_libs\\hashtable_class_helper.pxi\u001b[0m in \u001b[0;36mpandas._libs.hashtable.PyObjectHashTable.get_item\u001b[1;34m()\u001b[0m\n",
      "\u001b[1;32mpandas\\_libs\\hashtable_class_helper.pxi\u001b[0m in \u001b[0;36mpandas._libs.hashtable.PyObjectHashTable.get_item\u001b[1;34m()\u001b[0m\n",
      "\u001b[1;31mKeyError\u001b[0m: 'countries'"
     ]
    }
   ],
   "source": [
    "# get list of land locked countries\n",
    "\n",
    "land_locked_countries = pd.Series([\"Afghanistan\", \"Andorra\", \"Armenia\", \"Artsakh\", \"Austria\", \"Azerbaijan\", \"Belarus\", \"Bhutan\", \"Bolivia\", \"Botswana\", \"Burkina Faso\", \"Burundi\", \"Central African Republic\", \"Chad\", \"Czech Republic\", \"Ethiopia\", \"Hungary\",\"Kazakhstan\", \"Kosovo\", \"Kyrgyzstan\", \"Laos\", \"Lesotho\", \"Liechtenstein\", \"Luxembourg\", \"Macedonia\", \"Malawi\", \"Mali\", \"Moldova\", \"Mongolia\", \"Nepal\", \"Niger\", \"Paraguay\", \"Rwanda\", \"San Marino\" , \"Serbia\", \"Slovakia\", \"South Ossetia\", \"South Sudan\", \"Swaziland\", \"Switzerland\",\"Tajikistan\", \"Transnistria\", \"Turkmenistan\", \"Uganda\", \"Uzbekistan\",\"Vatican City\", \"West Bank\", \"Zambia\", \"Zimbabwe\"])\n",
    "\n",
    "# list non land locked countries\n",
    "\n",
    "llc_movement_happiness = hfi_movement_whr_happiness_by_country.loc[hfi_movement_whr_happiness_by_country[\"countries\"].isin(land_locked_countries)]\n",
    "nll_movement_happiness = hfi_movement_whr_happiness_by_country.loc[~hfi_movement_whr_happiness_by_country[\"countries\"].isin(land_locked_countries)]\n",
    "\n",
    "fig, ax = plt.subplots(figsize=(15,10))\n",
    "sns.regplot(x=\"pf_movement\", y=\"hp_score\", data=llc_movement_happiness, color=\"darkorange\", label=\"Land-locked\")\n",
    "sns.regplot(x=\"pf_movement\", y=\"hp_score\", data=nll_movement_happiness, color=\"cornflowerblue\", label=\"Coastal\")\n",
    "ax.set_title(\"Freedom/Happiness in Landlocked vs non-Landlocked countries\")\n",
    "ax.set_xlabel(\"Freedom\")\n",
    "ax.set_ylabel(\"Happiness\")\n",
    "ax.legend()\n",
    "\n",
    "# slope and correlation coefficient of happiness and personal freedom\n",
    "x = llc_freedom_happiness[\"pf_movement\"]\n",
    "y = llc_freedom_happiness[\"hp_score\"]\n",
    "linregress(x,y)\n",
    "\n",
    "x = nll_freedom_happiness[\"pf_movement\"]\n",
    "y = nll_freedom_happiness[\"hp_score\"]\n",
    "linregress(x,y)\n"
   ]
  },
  {
   "cell_type": "markdown",
   "metadata": {},
   "source": [
    "**Land-locked:**\n",
    "Correllation Coefficient: 0.45  \n",
    "**Coastal**\n",
    "Correllation Coefficient: 0.43"
   ]
  },
  {
   "cell_type": "code",
   "execution_count": null,
   "metadata": {},
   "outputs": [],
   "source": [
    "# combine Rule of Law from HFI with Happiness \n",
    "\n",
    "# retrieve movement data from Human Freedom Index grouped by country and ordered by movement score\n",
    "hfi_rol_data = \"SELECT countries, pf_rol, pf_rol_procedural, pf_rol_civil, pf_rol_criminal FROM 'Human Freedom Index' GROUP BY countries ORDER BY pf_score DESC\"\n",
    "hfi_rol_raw = pd.read_sql(hfi_rol_data, con=engine)\n",
    "hfi_rol_by_country = hfi_rol_raw.dropna()\n",
    "\n",
    "hfi_rol_by_country.head(3)\n",
    "\n",
    "# coombine the two dataframes grouping by county and dropping null values\n",
    "hfi_rol_whr_happiness_by_country_combined = pd.concat([hfi_rol_by_country, whr_happiness_by_country], sort=True)\n",
    "hfi_rol_whr_happiness_by_country_grouped = hfi_rol_whr_happiness_by_country_combined.groupby(\"countries\")[\"hp_score\", \"pf_rol\", \"pf_rol_procedural\", \"pf_rol_civil\", \"pf_rol_criminal\"].mean()\n",
    "hfi_rol_whr_happiness_by_country_cleaned = hfi_rol_whr_happiness_by_country_grouped.dropna()\n",
    "hfi_rol_whr_happiness_by_country = hfi_rol_whr_happiness_by_country_cleaned.reset_index()\n",
    "\n",
    "hfi_rol_whr_happiness_by_country.head(3)\n",
    "\n",
    "# list non land locked countries\n",
    "\n",
    "llc_rol_happiness = hfi_rol_whr_happiness_by_country.loc[hfi_rol_whr_happiness_by_country[\"countries\"].isin(land_locked_countries)]\n",
    "nll_rol_happiness = hfi_rol_whr_happiness_by_country.loc[~hfi_rol_whr_happiness_by_country[\"countries\"].isin(land_locked_countries)]\n",
    "\n",
    "fig, ax = plt.subplots(figsize=(15,10))\n",
    "sns.regplot(x=\"pf_rol\", y=\"hp_score\", data=llc_rol_happiness, color=\"darkorange\", label=\"Land-locked\")\n",
    "sns.regplot(x=\"pf_rol\", y=\"hp_score\", data=nll_rol_happiness, color=\"cornflowerblue\", label=\"Coastal\")\n",
    "ax.set_title(\"Happiness and Rule of Law in Landlocked vs non-Landlocked countries\")\n",
    "ax.set_xlabel(\"Rule of Law\")\n",
    "ax.set_ylabel(\"Happiness\")\n",
    "ax.legend()\n",
    "\n",
    "# slope and correlation coefficient of happiness and personal freedom\n",
    "x = llc_rol_happiness[\"pf_rol\"]\n",
    "y = llc_rol_happiness[\"hp_score\"]\n",
    "linregress(x,y)\n",
    "\n",
    "x = nll_rol_happiness[\"pf_rol\"]\n",
    "y = nll_rol_happiness[\"hp_score\"]\n",
    "linregress(x,y)"
   ]
  },
  {
   "cell_type": "code",
   "execution_count": null,
   "metadata": {},
   "outputs": [],
   "source": []
  }
 ],
 "metadata": {
  "kernelspec": {
   "display_name": "Python 3",
   "language": "python",
   "name": "python3"
  },
  "language_info": {
   "codemirror_mode": {
    "name": "ipython",
    "version": 3
   },
   "file_extension": ".py",
   "mimetype": "text/x-python",
   "name": "python",
   "nbconvert_exporter": "python",
   "pygments_lexer": "ipython3",
   "version": "3.7.0"
  }
 },
 "nbformat": 4,
 "nbformat_minor": 2
}
