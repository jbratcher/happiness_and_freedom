{
 "cells": [
  {
   "cell_type": "markdown",
   "metadata": {},
   "source": [
    "# Happiness and Freedom of Movement\n",
    "\n",
    "## An examination of how happiness correlates to personal and economic freedom.\n",
    "\n",
    "##### Analysis derived from data using the most recent World Happiness Report and Human Freedom Index.\n",
    "\n",
    "\n",
    "\n",
    "### Statements to consider\n",
    "\n",
    "##### General\n",
    "\n",
    "* Freedom is positively correlated with Happiness.\n",
    "\n",
    "##### Personal freedom of movement with relation to geographic isolation\n",
    "\n",
    "* People in land-locked countries are less happy than others considering all other factors.\n",
    "\n",
    "##### Happiness with relation to religious and gender freedom (personal freedom of movement)\n",
    "\n",
    "* People in countries with reduced religious freedom and women's moveement are less happy than others.\n"
   ]
  },
  {
   "cell_type": "code",
   "execution_count": 1,
   "metadata": {},
   "outputs": [],
   "source": [
    "# imports\n",
    "\n",
    "import sqlite3\n",
    "import matplotlib.pyplot as plt\n",
    "import seaborn as sns\n",
    "import numpy as np\n",
    "import pandas as pd\n",
    "import sqlalchemy as sa\n",
    "\n",
    "# create sqlite database and path\n",
    "\n",
    "from sqlalchemy import create_engine\n",
    "engine = create_engine('sqlite:///Happiness_Freedom.db')\n",
    "\n",
    "# set seaborn default theme\n",
    "\n",
    "sns.set(color_codes=True)\n",
    "\n",
    "# multiple outputs from single cell\n",
    "\n",
    "from IPython.core.interactiveshell import InteractiveShell\n",
    "InteractiveShell.ast_node_interactivity = \"all\"\n"
   ]
  },
  {
   "cell_type": "code",
   "execution_count": 7,
   "metadata": {},
   "outputs": [],
   "source": [
    "# create dataframe from csv\n",
    "\n",
    "hfi_file = pd.read_csv(\"hfi_cc_2018.csv\")\n",
    "\n",
    "whr_file = pd.read_csv(\"whr_2017.csv\")\n",
    "\n",
    "hfi = pd.DataFrame(hfi_file)\n",
    "\n",
    "whr = pd.DataFrame(whr_file)\n",
    "\n",
    "# create database and tables from dataframe (database and table have been previously created using this code)\n",
    "\n",
    "# hfi.to_sql(\"Human Freedom Index\", con=engine)\n",
    "# whr.to_sql(\"World Happiness Report\", con=engine)"
   ]
  },
  {
   "cell_type": "code",
   "execution_count": 8,
   "metadata": {},
   "outputs": [
    {
     "name": "stdout",
     "output_type": "stream",
     "text": [
      "<class 'pandas.core.frame.DataFrame'>\n",
      "RangeIndex: 1458 entries, 0 to 1457\n",
      "Columns: 123 entries, year to hf_quartile\n",
      "dtypes: float64(119), int64(1), object(3)\n",
      "memory usage: 1.4+ MB\n"
     ]
    },
    {
     "data": {
      "text/html": [
       "<div>\n",
       "<style scoped>\n",
       "    .dataframe tbody tr th:only-of-type {\n",
       "        vertical-align: middle;\n",
       "    }\n",
       "\n",
       "    .dataframe tbody tr th {\n",
       "        vertical-align: top;\n",
       "    }\n",
       "\n",
       "    .dataframe thead th {\n",
       "        text-align: right;\n",
       "    }\n",
       "</style>\n",
       "<table border=\"1\" class=\"dataframe\">\n",
       "  <thead>\n",
       "    <tr style=\"text-align: right;\">\n",
       "      <th></th>\n",
       "      <th>year</th>\n",
       "      <th>ISO_code</th>\n",
       "      <th>countries</th>\n",
       "      <th>region</th>\n",
       "      <th>pf_rol_procedural</th>\n",
       "      <th>pf_rol_civil</th>\n",
       "      <th>pf_rol_criminal</th>\n",
       "      <th>pf_rol</th>\n",
       "      <th>pf_ss_homicide</th>\n",
       "      <th>pf_ss_disappearances_disap</th>\n",
       "      <th>...</th>\n",
       "      <th>ef_regulation_business_bribes</th>\n",
       "      <th>ef_regulation_business_licensing</th>\n",
       "      <th>ef_regulation_business_compliance</th>\n",
       "      <th>ef_regulation_business</th>\n",
       "      <th>ef_regulation</th>\n",
       "      <th>ef_score</th>\n",
       "      <th>ef_rank</th>\n",
       "      <th>hf_score</th>\n",
       "      <th>hf_rank</th>\n",
       "      <th>hf_quartile</th>\n",
       "    </tr>\n",
       "  </thead>\n",
       "  <tbody>\n",
       "    <tr>\n",
       "      <th>0</th>\n",
       "      <td>2016</td>\n",
       "      <td>ALB</td>\n",
       "      <td>Albania</td>\n",
       "      <td>Eastern Europe</td>\n",
       "      <td>6.661503</td>\n",
       "      <td>4.547244</td>\n",
       "      <td>4.666508</td>\n",
       "      <td>5.291752</td>\n",
       "      <td>8.920429</td>\n",
       "      <td>10.0</td>\n",
       "      <td>...</td>\n",
       "      <td>4.050196</td>\n",
       "      <td>7.324582</td>\n",
       "      <td>7.074366</td>\n",
       "      <td>6.705863</td>\n",
       "      <td>6.906901</td>\n",
       "      <td>7.54</td>\n",
       "      <td>34.0</td>\n",
       "      <td>7.568140</td>\n",
       "      <td>48.0</td>\n",
       "      <td>2.0</td>\n",
       "    </tr>\n",
       "    <tr>\n",
       "      <th>1</th>\n",
       "      <td>2016</td>\n",
       "      <td>DZA</td>\n",
       "      <td>Algeria</td>\n",
       "      <td>Middle East &amp; North Africa</td>\n",
       "      <td>NaN</td>\n",
       "      <td>NaN</td>\n",
       "      <td>NaN</td>\n",
       "      <td>3.819566</td>\n",
       "      <td>9.456254</td>\n",
       "      <td>10.0</td>\n",
       "      <td>...</td>\n",
       "      <td>3.765515</td>\n",
       "      <td>8.523503</td>\n",
       "      <td>7.029528</td>\n",
       "      <td>5.676956</td>\n",
       "      <td>5.268992</td>\n",
       "      <td>4.99</td>\n",
       "      <td>159.0</td>\n",
       "      <td>5.135886</td>\n",
       "      <td>155.0</td>\n",
       "      <td>4.0</td>\n",
       "    </tr>\n",
       "    <tr>\n",
       "      <th>2</th>\n",
       "      <td>2016</td>\n",
       "      <td>AGO</td>\n",
       "      <td>Angola</td>\n",
       "      <td>Sub-Saharan Africa</td>\n",
       "      <td>NaN</td>\n",
       "      <td>NaN</td>\n",
       "      <td>NaN</td>\n",
       "      <td>3.451814</td>\n",
       "      <td>8.060260</td>\n",
       "      <td>5.0</td>\n",
       "      <td>...</td>\n",
       "      <td>1.945540</td>\n",
       "      <td>8.096776</td>\n",
       "      <td>6.782923</td>\n",
       "      <td>4.930271</td>\n",
       "      <td>5.518500</td>\n",
       "      <td>5.17</td>\n",
       "      <td>155.0</td>\n",
       "      <td>5.640662</td>\n",
       "      <td>142.0</td>\n",
       "      <td>4.0</td>\n",
       "    </tr>\n",
       "  </tbody>\n",
       "</table>\n",
       "<p>3 rows × 123 columns</p>\n",
       "</div>"
      ],
      "text/plain": [
       "   year ISO_code countries                      region  pf_rol_procedural  \\\n",
       "0  2016      ALB   Albania              Eastern Europe           6.661503   \n",
       "1  2016      DZA   Algeria  Middle East & North Africa                NaN   \n",
       "2  2016      AGO    Angola          Sub-Saharan Africa                NaN   \n",
       "\n",
       "   pf_rol_civil  pf_rol_criminal    pf_rol  pf_ss_homicide  \\\n",
       "0      4.547244         4.666508  5.291752        8.920429   \n",
       "1           NaN              NaN  3.819566        9.456254   \n",
       "2           NaN              NaN  3.451814        8.060260   \n",
       "\n",
       "   pf_ss_disappearances_disap     ...       ef_regulation_business_bribes  \\\n",
       "0                        10.0     ...                            4.050196   \n",
       "1                        10.0     ...                            3.765515   \n",
       "2                         5.0     ...                            1.945540   \n",
       "\n",
       "   ef_regulation_business_licensing  ef_regulation_business_compliance  \\\n",
       "0                          7.324582                           7.074366   \n",
       "1                          8.523503                           7.029528   \n",
       "2                          8.096776                           6.782923   \n",
       "\n",
       "   ef_regulation_business  ef_regulation  ef_score  ef_rank  hf_score  \\\n",
       "0                6.705863       6.906901      7.54     34.0  7.568140   \n",
       "1                5.676956       5.268992      4.99    159.0  5.135886   \n",
       "2                4.930271       5.518500      5.17    155.0  5.640662   \n",
       "\n",
       "   hf_rank  hf_quartile  \n",
       "0     48.0          2.0  \n",
       "1    155.0          4.0  \n",
       "2    142.0          4.0  \n",
       "\n",
       "[3 rows x 123 columns]"
      ]
     },
     "execution_count": 8,
     "metadata": {},
     "output_type": "execute_result"
    }
   ],
   "source": [
    "# of Human Freedom Index dataframe info\n",
    "\n",
    "hfi.info()\n",
    "hfi.head(3)"
   ]
  },
  {
   "cell_type": "code",
   "execution_count": 10,
   "metadata": {},
   "outputs": [
    {
     "data": {
      "text/html": [
       "<div>\n",
       "<style scoped>\n",
       "    .dataframe tbody tr th:only-of-type {\n",
       "        vertical-align: middle;\n",
       "    }\n",
       "\n",
       "    .dataframe tbody tr th {\n",
       "        vertical-align: top;\n",
       "    }\n",
       "\n",
       "    .dataframe thead th {\n",
       "        text-align: right;\n",
       "    }\n",
       "</style>\n",
       "<table border=\"1\" class=\"dataframe\">\n",
       "  <thead>\n",
       "    <tr style=\"text-align: right;\">\n",
       "      <th></th>\n",
       "      <th>countries</th>\n",
       "      <th>hf_score</th>\n",
       "    </tr>\n",
       "  </thead>\n",
       "  <tbody>\n",
       "    <tr>\n",
       "      <th>0</th>\n",
       "      <td>Albania</td>\n",
       "      <td>7.568140</td>\n",
       "    </tr>\n",
       "    <tr>\n",
       "      <th>1</th>\n",
       "      <td>Algeria</td>\n",
       "      <td>5.135886</td>\n",
       "    </tr>\n",
       "    <tr>\n",
       "      <th>2</th>\n",
       "      <td>Angola</td>\n",
       "      <td>5.640662</td>\n",
       "    </tr>\n",
       "  </tbody>\n",
       "</table>\n",
       "</div>"
      ],
      "text/plain": [
       "  countries  hf_score\n",
       "0   Albania  7.568140\n",
       "1   Algeria  5.135886\n",
       "2    Angola  5.640662"
      ]
     },
     "execution_count": 10,
     "metadata": {},
     "output_type": "execute_result"
    },
    {
     "data": {
      "text/html": [
       "<div>\n",
       "<style scoped>\n",
       "    .dataframe tbody tr th:only-of-type {\n",
       "        vertical-align: middle;\n",
       "    }\n",
       "\n",
       "    .dataframe tbody tr th {\n",
       "        vertical-align: top;\n",
       "    }\n",
       "\n",
       "    .dataframe thead th {\n",
       "        text-align: right;\n",
       "    }\n",
       "</style>\n",
       "<table border=\"1\" class=\"dataframe\">\n",
       "  <thead>\n",
       "    <tr style=\"text-align: right;\">\n",
       "      <th></th>\n",
       "      <th>countries</th>\n",
       "      <th>hp_score</th>\n",
       "    </tr>\n",
       "  </thead>\n",
       "  <tbody>\n",
       "    <tr>\n",
       "      <th>0</th>\n",
       "      <td>Norway</td>\n",
       "      <td>7.537</td>\n",
       "    </tr>\n",
       "    <tr>\n",
       "      <th>1</th>\n",
       "      <td>Denmark</td>\n",
       "      <td>7.522</td>\n",
       "    </tr>\n",
       "    <tr>\n",
       "      <th>2</th>\n",
       "      <td>Iceland</td>\n",
       "      <td>7.504</td>\n",
       "    </tr>\n",
       "  </tbody>\n",
       "</table>\n",
       "</div>"
      ],
      "text/plain": [
       "  countries  hp_score\n",
       "0    Norway     7.537\n",
       "1   Denmark     7.522\n",
       "2   Iceland     7.504"
      ]
     },
     "execution_count": 10,
     "metadata": {},
     "output_type": "execute_result"
    },
    {
     "data": {
      "text/html": [
       "<div>\n",
       "<style scoped>\n",
       "    .dataframe tbody tr th:only-of-type {\n",
       "        vertical-align: middle;\n",
       "    }\n",
       "\n",
       "    .dataframe tbody tr th {\n",
       "        vertical-align: top;\n",
       "    }\n",
       "\n",
       "    .dataframe thead th {\n",
       "        text-align: right;\n",
       "    }\n",
       "</style>\n",
       "<table border=\"1\" class=\"dataframe\">\n",
       "  <thead>\n",
       "    <tr style=\"text-align: right;\">\n",
       "      <th></th>\n",
       "      <th>countries</th>\n",
       "      <th>hf_score</th>\n",
       "      <th>hp_score</th>\n",
       "    </tr>\n",
       "  </thead>\n",
       "  <tbody>\n",
       "    <tr>\n",
       "      <th>0</th>\n",
       "      <td>Albania</td>\n",
       "      <td>7.568140</td>\n",
       "      <td>NaN</td>\n",
       "    </tr>\n",
       "    <tr>\n",
       "      <th>1</th>\n",
       "      <td>Algeria</td>\n",
       "      <td>5.135886</td>\n",
       "      <td>NaN</td>\n",
       "    </tr>\n",
       "    <tr>\n",
       "      <th>2</th>\n",
       "      <td>Angola</td>\n",
       "      <td>5.640662</td>\n",
       "      <td>NaN</td>\n",
       "    </tr>\n",
       "  </tbody>\n",
       "</table>\n",
       "</div>"
      ],
      "text/plain": [
       "  countries  hf_score  hp_score\n",
       "0   Albania  7.568140       NaN\n",
       "1   Algeria  5.135886       NaN\n",
       "2    Angola  5.640662       NaN"
      ]
     },
     "execution_count": 10,
     "metadata": {},
     "output_type": "execute_result"
    },
    {
     "data": {
      "text/html": [
       "<div>\n",
       "<style scoped>\n",
       "    .dataframe tbody tr th:only-of-type {\n",
       "        vertical-align: middle;\n",
       "    }\n",
       "\n",
       "    .dataframe tbody tr th {\n",
       "        vertical-align: top;\n",
       "    }\n",
       "\n",
       "    .dataframe thead th {\n",
       "        text-align: right;\n",
       "    }\n",
       "</style>\n",
       "<table border=\"1\" class=\"dataframe\">\n",
       "  <thead>\n",
       "    <tr style=\"text-align: right;\">\n",
       "      <th></th>\n",
       "      <th>hf_score</th>\n",
       "      <th>hp_score</th>\n",
       "    </tr>\n",
       "    <tr>\n",
       "      <th>countries</th>\n",
       "      <th></th>\n",
       "      <th></th>\n",
       "    </tr>\n",
       "  </thead>\n",
       "  <tbody>\n",
       "    <tr>\n",
       "      <th>Afghanistan</th>\n",
       "      <td>NaN</td>\n",
       "      <td>3.794</td>\n",
       "    </tr>\n",
       "    <tr>\n",
       "      <th>Albania</th>\n",
       "      <td>7.522911</td>\n",
       "      <td>4.644</td>\n",
       "    </tr>\n",
       "    <tr>\n",
       "      <th>Algeria</th>\n",
       "      <td>5.140803</td>\n",
       "      <td>5.872</td>\n",
       "    </tr>\n",
       "  </tbody>\n",
       "</table>\n",
       "</div>"
      ],
      "text/plain": [
       "             hf_score  hp_score\n",
       "countries                      \n",
       "Afghanistan       NaN     3.794\n",
       "Albania      7.522911     4.644\n",
       "Algeria      5.140803     5.872"
      ]
     },
     "execution_count": 10,
     "metadata": {},
     "output_type": "execute_result"
    },
    {
     "data": {
      "text/html": [
       "<div>\n",
       "<style scoped>\n",
       "    .dataframe tbody tr th:only-of-type {\n",
       "        vertical-align: middle;\n",
       "    }\n",
       "\n",
       "    .dataframe tbody tr th {\n",
       "        vertical-align: top;\n",
       "    }\n",
       "\n",
       "    .dataframe thead th {\n",
       "        text-align: right;\n",
       "    }\n",
       "</style>\n",
       "<table border=\"1\" class=\"dataframe\">\n",
       "  <thead>\n",
       "    <tr style=\"text-align: right;\">\n",
       "      <th></th>\n",
       "      <th>hf_score</th>\n",
       "      <th>hp_score</th>\n",
       "    </tr>\n",
       "    <tr>\n",
       "      <th>countries</th>\n",
       "      <th></th>\n",
       "      <th></th>\n",
       "    </tr>\n",
       "  </thead>\n",
       "  <tbody>\n",
       "    <tr>\n",
       "      <th>Albania</th>\n",
       "      <td>7.522911</td>\n",
       "      <td>4.644</td>\n",
       "    </tr>\n",
       "    <tr>\n",
       "      <th>Algeria</th>\n",
       "      <td>5.140803</td>\n",
       "      <td>5.872</td>\n",
       "    </tr>\n",
       "    <tr>\n",
       "      <th>Angola</th>\n",
       "      <td>5.499577</td>\n",
       "      <td>3.795</td>\n",
       "    </tr>\n",
       "  </tbody>\n",
       "</table>\n",
       "</div>"
      ],
      "text/plain": [
       "           hf_score  hp_score\n",
       "countries                    \n",
       "Albania    7.522911     4.644\n",
       "Algeria    5.140803     5.872\n",
       "Angola     5.499577     3.795"
      ]
     },
     "execution_count": 10,
     "metadata": {},
     "output_type": "execute_result"
    }
   ],
   "source": [
    "### Happiness is directly correlated with freedom\n",
    "\n",
    "# get overall freedom score by country from World Freedom Report\n",
    "\n",
    "hf_score_by_country = hfi[[\"countries\", \"hf_score\"]]\n",
    "\n",
    "hf_score_by_country.head(3)\n",
    "\n",
    "# get overall happiness score by country from Happiness Index\n",
    "\n",
    "wh_score_by_country = whr[[\"Country\", \"Happiness.Score\"]]\n",
    "\n",
    "# set \"Country\" column to \"countries\" to merge on conat with freedom index\n",
    "\n",
    "wh_score_by_country.columns = [\"countries\", \"hp_score\"]\n",
    "\n",
    "wh_score_by_country.head(3)\n",
    "\n",
    "# coombine the two dataframes\n",
    "\n",
    "reports_combined = pd.concat([hf_score_by_country, wh_score_by_country], sort=True)\n",
    "\n",
    "reports_combined.head(3)\n",
    "\n",
    "reports_grouped = reports_combined.groupby(\"countries\")[\"hf_score\", \"hp_score\"].mean()\n",
    "\n",
    "reports_grouped.head(3)\n",
    "\n",
    "hf_wh_scores = reports_grouped.dropna()\n",
    "\n",
    "hf_wh_scores.head(3)"
   ]
  },
  {
   "cell_type": "code",
   "execution_count": 11,
   "metadata": {},
   "outputs": [
    {
     "name": "stdout",
     "output_type": "stream",
     "text": [
      "<class 'pandas.core.frame.DataFrame'>\n",
      "Index: 135 entries, Albania to Zimbabwe\n",
      "Data columns (total 2 columns):\n",
      "hf_score    135 non-null float64\n",
      "hp_score    135 non-null float64\n",
      "dtypes: float64(2)\n",
      "memory usage: 3.2+ KB\n"
     ]
    },
    {
     "data": {
      "text/html": [
       "<div>\n",
       "<style scoped>\n",
       "    .dataframe tbody tr th:only-of-type {\n",
       "        vertical-align: middle;\n",
       "    }\n",
       "\n",
       "    .dataframe tbody tr th {\n",
       "        vertical-align: top;\n",
       "    }\n",
       "\n",
       "    .dataframe thead th {\n",
       "        text-align: right;\n",
       "    }\n",
       "</style>\n",
       "<table border=\"1\" class=\"dataframe\">\n",
       "  <thead>\n",
       "    <tr style=\"text-align: right;\">\n",
       "      <th></th>\n",
       "      <th>hf_score</th>\n",
       "      <th>hp_score</th>\n",
       "    </tr>\n",
       "    <tr>\n",
       "      <th>countries</th>\n",
       "      <th></th>\n",
       "      <th></th>\n",
       "    </tr>\n",
       "  </thead>\n",
       "  <tbody>\n",
       "    <tr>\n",
       "      <th>Albania</th>\n",
       "      <td>7.522911</td>\n",
       "      <td>4.644</td>\n",
       "    </tr>\n",
       "    <tr>\n",
       "      <th>Algeria</th>\n",
       "      <td>5.140803</td>\n",
       "      <td>5.872</td>\n",
       "    </tr>\n",
       "    <tr>\n",
       "      <th>Angola</th>\n",
       "      <td>5.499577</td>\n",
       "      <td>3.795</td>\n",
       "    </tr>\n",
       "  </tbody>\n",
       "</table>\n",
       "</div>"
      ],
      "text/plain": [
       "           hf_score  hp_score\n",
       "countries                    \n",
       "Albania    7.522911     4.644\n",
       "Algeria    5.140803     5.872\n",
       "Angola     5.499577     3.795"
      ]
     },
     "execution_count": 11,
     "metadata": {},
     "output_type": "execute_result"
    },
    {
     "data": {
      "text/plain": [
       "<matplotlib.axes._subplots.AxesSubplot at 0x1ded397ac88>"
      ]
     },
     "execution_count": 11,
     "metadata": {},
     "output_type": "execute_result"
    },
    {
     "data": {
      "image/png": "[encoded data removed]",
      "text/plain": [
       "<Figure size 432x288 with 1 Axes>"
      ]
     },
     "metadata": {
      "needs_background": "light"
     },
     "output_type": "display_data"
    }
   ],
   "source": [
    "hf_wh_scores.info()\n",
    "hf_wh_scores.head(3)\n",
    "\n",
    "hf_wh_scores.plot()"
   ]
  },
  {
   "cell_type": "code",
   "execution_count": 16,
   "metadata": {},
   "outputs": [
    {
     "name": "stderr",
     "output_type": "stream",
     "text": [
      "C:\\Users\\jerem\\Anaconda3\\lib\\site-packages\\scipy\\stats\\stats.py:1713: FutureWarning: Using a non-tuple sequence for multidimensional indexing is deprecated; use `arr[tuple(seq)]` instead of `arr[seq]`. In the future this will be interpreted as an array index, `arr[np.array(seq)]`, which will result either in an error or a different result.\n",
      "  return np.add.reduce(sorted[indexer] * weights, axis=axis) / sumval\n"
     ]
    },
    {
     "data": {
      "text/plain": [
       "<matplotlib.axes._subplots.AxesSubplot at 0x1ded3ff0470>"
      ]
     },
     "execution_count": 16,
     "metadata": {},
     "output_type": "execute_result"
    },
    {
     "data": {
      "text/plain": [
       "Text(0.5,1,'Correlation of Happiness and Freedom')"
      ]
     },
     "execution_count": 16,
     "metadata": {},
     "output_type": "execute_result"
    },
    {
     "data": {
      "text/plain": [
       "Text(0.5,0,'Happiness')"
      ]
     },
     "execution_count": 16,
     "metadata": {},
     "output_type": "execute_result"
    },
    {
     "data": {
      "text/plain": [
       "Text(0,0.5,'Freedom')"
      ]
     },
     "execution_count": 16,
     "metadata": {},
     "output_type": "execute_result"
    },
    {
     "data": {
      "image/png": "[encoded data removed]",
      "text/plain": [
       "<Figure size 1080x360 with 1 Axes>"
      ]
     },
     "metadata": {
      "needs_background": "light"
     },
     "output_type": "display_data"
    }
   ],
   "source": [
    "fig, ax = plt.subplots(figsize=(15, 5))\n",
    "sns.regplot(x=\"hp_score\", y=\"hf_score\", data=hf_wh_scores)\n",
    "ax.set_title(\"Correlation of Happiness and Freedom\")\n",
    "ax.set_xlabel(\"Happiness\")\n",
    "ax.set_ylabel(\"Freedom\")\n",
    "\n"
   ]
  },
  {
   "cell_type": "code",
   "execution_count": 57,
   "metadata": {},
   "outputs": [
    {
     "name": "stderr",
     "output_type": "stream",
     "text": [
      "C:\\Users\\jerem\\Anaconda3\\lib\\site-packages\\scipy\\stats\\stats.py:1713: FutureWarning: Using a non-tuple sequence for multidimensional indexing is deprecated; use `arr[tuple(seq)]` instead of `arr[seq]`. In the future this will be interpreted as an array index, `arr[np.array(seq)]`, which will result either in an error or a different result.\n",
      "  return np.add.reduce(sorted[indexer] * weights, axis=axis) / sumval\n"
     ]
    },
    {
     "data": {
      "text/plain": [
       "<matplotlib.axes._subplots.AxesSubplot at 0x1ded5cc4128>"
      ]
     },
     "execution_count": 57,
     "metadata": {},
     "output_type": "execute_result"
    },
    {
     "data": {
      "text/plain": [
       "Text(0.5,1,'Correlation of General Freedom and Movement Freedom')"
      ]
     },
     "execution_count": 57,
     "metadata": {},
     "output_type": "execute_result"
    },
    {
     "data": {
      "text/plain": [
       "Text(0.5,0,'Movement Freedom')"
      ]
     },
     "execution_count": 57,
     "metadata": {},
     "output_type": "execute_result"
    },
    {
     "data": {
      "text/plain": [
       "Text(0,0.5,'General Freedom')"
      ]
     },
     "execution_count": 57,
     "metadata": {},
     "output_type": "execute_result"
    },
    {
     "data": {
      "image/png": "[encoded data removed]",
      "text/plain": [
       "<Figure size 1080x360 with 1 Axes>"
      ]
     },
     "metadata": {
      "needs_background": "light"
     },
     "output_type": "display_data"
    }
   ],
   "source": [
    "# General Freedom and Freedom of Movement\n",
    "\n",
    "# retrieve movement and freedom data from Human Freedom Index grouped by country and ordered by freedom score\n",
    "\n",
    "hfi_movement_and_freedom_data = \"SELECT hf_score, pf_movement FROM 'Human Freedom Index' GROUP BY countries ORDER BY pf_score DESC\"\n",
    "hfi_movement_and_freedom_raw = pd.read_sql(hfi_movement_and_freedom_data, con=engine)\n",
    "hfi_movement_and_freedom = hfi_movement_and_freedom_raw.dropna()\n",
    "\n",
    "# scatter plot analysis with linear regression\n",
    "\n",
    "fig, ax = plt.subplots(figsize=(15, 5))\n",
    "sns.regplot(x=\"pf_movement\", y=\"hf_score\", data=hfi_movement_and_freedom)\n",
    "ax.set_title(\"Correlation of General Freedom and Movement Freedom\")\n",
    "ax.set_xlabel(\"Movement Freedom\")\n",
    "ax.set_ylabel(\"General Freedom\")\n"
   ]
  },
  {
   "cell_type": "code",
   "execution_count": 56,
   "metadata": {},
   "outputs": [
    {
     "data": {
      "text/html": [
       "<div>\n",
       "<style scoped>\n",
       "    .dataframe tbody tr th:only-of-type {\n",
       "        vertical-align: middle;\n",
       "    }\n",
       "\n",
       "    .dataframe tbody tr th {\n",
       "        vertical-align: top;\n",
       "    }\n",
       "\n",
       "    .dataframe thead th {\n",
       "        text-align: right;\n",
       "    }\n",
       "</style>\n",
       "<table border=\"1\" class=\"dataframe\">\n",
       "  <thead>\n",
       "    <tr style=\"text-align: right;\">\n",
       "      <th></th>\n",
       "      <th>pf_movement</th>\n",
       "      <th>hp_score</th>\n",
       "    </tr>\n",
       "    <tr>\n",
       "      <th>countries</th>\n",
       "      <th></th>\n",
       "      <th></th>\n",
       "    </tr>\n",
       "  </thead>\n",
       "  <tbody>\n",
       "    <tr>\n",
       "      <th>Albania</th>\n",
       "      <td>10.000000</td>\n",
       "      <td>4.644</td>\n",
       "    </tr>\n",
       "    <tr>\n",
       "      <th>Algeria</th>\n",
       "      <td>5.000000</td>\n",
       "      <td>5.872</td>\n",
       "    </tr>\n",
       "    <tr>\n",
       "      <th>Angola</th>\n",
       "      <td>3.333333</td>\n",
       "      <td>3.795</td>\n",
       "    </tr>\n",
       "  </tbody>\n",
       "</table>\n",
       "</div>"
      ],
      "text/plain": [
       "           pf_movement  hp_score\n",
       "countries                       \n",
       "Albania      10.000000     4.644\n",
       "Algeria       5.000000     5.872\n",
       "Angola        3.333333     3.795"
      ]
     },
     "execution_count": 56,
     "metadata": {},
     "output_type": "execute_result"
    },
    {
     "name": "stderr",
     "output_type": "stream",
     "text": [
      "C:\\Users\\jerem\\Anaconda3\\lib\\site-packages\\scipy\\stats\\stats.py:1713: FutureWarning: Using a non-tuple sequence for multidimensional indexing is deprecated; use `arr[tuple(seq)]` instead of `arr[seq]`. In the future this will be interpreted as an array index, `arr[np.array(seq)]`, which will result either in an error or a different result.\n",
      "  return np.add.reduce(sorted[indexer] * weights, axis=axis) / sumval\n"
     ]
    },
    {
     "data": {
      "text/plain": [
       "<matplotlib.axes._subplots.AxesSubplot at 0x1ded54572e8>"
      ]
     },
     "execution_count": 56,
     "metadata": {},
     "output_type": "execute_result"
    },
    {
     "data": {
      "text/plain": [
       "Text(0.5,1,'Correlation of General Happiness and Movement Freedom')"
      ]
     },
     "execution_count": 56,
     "metadata": {},
     "output_type": "execute_result"
    },
    {
     "data": {
      "text/plain": [
       "Text(0.5,0,'Movement Freedom')"
      ]
     },
     "execution_count": 56,
     "metadata": {},
     "output_type": "execute_result"
    },
    {
     "data": {
      "text/plain": [
       "Text(0,0.5,'General Happiness')"
      ]
     },
     "execution_count": 56,
     "metadata": {},
     "output_type": "execute_result"
    },
    {
     "data": {
      "image/png": "[encoded data removed]",
      "text/plain": [
       "<Figure size 1080x360 with 1 Axes>"
      ]
     },
     "metadata": {
      "needs_background": "light"
     },
     "output_type": "display_data"
    }
   ],
   "source": [
    "# Happiness and Movement Freedom\n",
    "\n",
    "# retrieve movement data from Human Freedom Index grouped by country and ordered by movement score\n",
    "\n",
    "hfi_movement_by_country_data = \"SELECT countries, pf_movement FROM 'Human Freedom Index' GROUP BY countries ORDER BY pf_score DESC\"\n",
    "hfi_movement_by_country_raw = pd.read_sql(hfi_movement_by_country_data, con=engine)\n",
    "hfi_movement_by_country = hfi_movement_by_country_raw.dropna()\n",
    "\n",
    "# retrieve happiness score data from World Happiness Report groupd by country and ordered by happiness score\n",
    "\n",
    "whr_happiness_by_country_data = \"SELECT Country as countries, `Happiness.Score` as hp_score FROM 'World Happiness Report' GROUP BY countries ORDER BY hp_score DESC\"\n",
    "whr_happiness_by_country_raw = pd.read_sql(whr_happiness_by_country_data, con=engine)\n",
    "whr_happiness_by_country = whr_happiness_by_country_raw.dropna()\n",
    "\n",
    "# coombine the two dataframes grouping by county and dropping null values\n",
    "\n",
    "hfi_movement_whr_happiness_by_country_combined = pd.concat([hfi_movement_by_country, whr_happiness_by_country], sort=True)\n",
    "hfi_movement_whr_happiness_by_country_grouped = hfi_movement_whr_happiness_by_country_combined.groupby(\"countries\")[\"pf_movement\", \"hp_score\"].mean()\n",
    "hfi_movement_whr_happiness_by_country = hfi_movement_whr_happiness_by_country_grouped.dropna()\n",
    "hfi_movement_whr_happiness_by_country.head(3)\n",
    "\n",
    "# scatter plot analysis with linear regression\n",
    "\n",
    "fig, ax = plt.subplots(figsize=(15, 5))\n",
    "sns.regplot(x=\"pf_movement\", y=\"hp_score\", data=hfi_movement_whr_happiness_by_country)\n",
    "ax.set_title(\"Correlation of General Happiness and Movement Freedom\")\n",
    "ax.set_xlabel(\"Movement Freedom\")\n",
    "ax.set_ylabel(\"General Happiness\")\n",
    "\n"
   ]
  },
  {
   "cell_type": "code",
   "execution_count": 64,
   "metadata": {},
   "outputs": [
    {
     "data": {
      "text/html": [
       "<div>\n",
       "<style scoped>\n",
       "    .dataframe tbody tr th:only-of-type {\n",
       "        vertical-align: middle;\n",
       "    }\n",
       "\n",
       "    .dataframe tbody tr th {\n",
       "        vertical-align: top;\n",
       "    }\n",
       "\n",
       "    .dataframe thead th {\n",
       "        text-align: right;\n",
       "    }\n",
       "</style>\n",
       "<table border=\"1\" class=\"dataframe\">\n",
       "  <thead>\n",
       "    <tr style=\"text-align: right;\">\n",
       "      <th></th>\n",
       "      <th>countries</th>\n",
       "      <th>hf_score</th>\n",
       "      <th>ef_score</th>\n",
       "      <th>pf_score</th>\n",
       "    </tr>\n",
       "  </thead>\n",
       "  <tbody>\n",
       "    <tr>\n",
       "      <th>0</th>\n",
       "      <td>Norway</td>\n",
       "      <td>8.592142</td>\n",
       "      <td>7.63</td>\n",
       "      <td>9.554284</td>\n",
       "    </tr>\n",
       "    <tr>\n",
       "      <th>1</th>\n",
       "      <td>Sweden</td>\n",
       "      <td>8.452347</td>\n",
       "      <td>7.40</td>\n",
       "      <td>9.504694</td>\n",
       "    </tr>\n",
       "    <tr>\n",
       "      <th>2</th>\n",
       "      <td>Finland</td>\n",
       "      <td>8.653871</td>\n",
       "      <td>7.81</td>\n",
       "      <td>9.497741</td>\n",
       "    </tr>\n",
       "  </tbody>\n",
       "</table>\n",
       "</div>"
      ],
      "text/plain": [
       "  countries  hf_score  ef_score  pf_score\n",
       "0    Norway  8.592142      7.63  9.554284\n",
       "1    Sweden  8.452347      7.40  9.504694\n",
       "2   Finland  8.653871      7.81  9.497741"
      ]
     },
     "execution_count": 64,
     "metadata": {},
     "output_type": "execute_result"
    },
    {
     "name": "stderr",
     "output_type": "stream",
     "text": [
      "C:\\Users\\jerem\\Anaconda3\\lib\\site-packages\\scipy\\stats\\stats.py:1713: FutureWarning: Using a non-tuple sequence for multidimensional indexing is deprecated; use `arr[tuple(seq)]` instead of `arr[seq]`. In the future this will be interpreted as an array index, `arr[np.array(seq)]`, which will result either in an error or a different result.\n",
      "  return np.add.reduce(sorted[indexer] * weights, axis=axis) / sumval\n"
     ]
    },
    {
     "data": {
      "text/plain": [
       "<matplotlib.axes._subplots.AxesSubplot at 0x1ded5408438>"
      ]
     },
     "execution_count": 64,
     "metadata": {},
     "output_type": "execute_result"
    },
    {
     "data": {
      "text/plain": [
       "<matplotlib.colorbar.Colorbar at 0x1ded4211eb8>"
      ]
     },
     "execution_count": 64,
     "metadata": {},
     "output_type": "execute_result"
    },
    {
     "data": {
      "text/plain": [
       "Text(0.5,1,'Correlation of General Freedom and Economic Freedom')"
      ]
     },
     "execution_count": 64,
     "metadata": {},
     "output_type": "execute_result"
    },
    {
     "data": {
      "text/plain": [
       "Text(0.5,0,'General Freedom')"
      ]
     },
     "execution_count": 64,
     "metadata": {},
     "output_type": "execute_result"
    },
    {
     "data": {
      "text/plain": [
       "Text(0,0.5,'Economic Freedom')"
      ]
     },
     "execution_count": 64,
     "metadata": {},
     "output_type": "execute_result"
    },
    {
     "data": {
      "image/png": "[encoded data removed]",
      "text/plain": [
       "<Figure size 1080x360 with 2 Axes>"
      ]
     },
     "metadata": {
      "needs_background": "light"
     },
     "output_type": "display_data"
    }
   ],
   "source": [
    "# Human Freedom and Economic Freedom\n",
    "\n",
    "# colored by human freedom quartile (higher being lower value quartile)\n",
    "# hfi.plot(kind=\"scatter\", x=\"hf_score\", y=\"ef_score\", c=\"hf_quartile\", cmap=\"viridis\")\n",
    "\n",
    "# retrieve movement data from Human Freedom Index grouped by country and ordered by movement score\n",
    "\n",
    "hfi_freedom_and_economy_data = \"SELECT countries, hf_score, ef_score, pf_score FROM 'Human Freedom Index' GROUP BY countries ORDER BY pf_score DESC\"\n",
    "hfi_freedom_and_economy_raw = pd.read_sql(hfi_freedom_and_economy_data, con=engine)\n",
    "hfi_freedom_and_economy = hfi_freedom_and_economy_raw.dropna()\n",
    "\n",
    "hfi_freedom_and_economy.head(3)\n",
    "\n",
    "# scatter plot analysis with linear regression\n",
    "\n",
    "fig, ax = plt.subplots(figsize=(15, 5))\n",
    "sns.regplot(x=\"hf_score\", y=\"ef_score\", data=hfi_freedom_and_economy)\n",
    "points = plt.scatter(hfi_freedom_and_economy[\"hf_score\"], hfi_freedom_and_economy[\"ef_score\"], c=hfi_freedom_and_economy[\"pf_score\"], s=75, cmap=\"viridis\")\n",
    "plt.colorbar(points)\n",
    "ax.set_title(\"Correlation of General Freedom and Economic Freedom\")\n",
    "ax.set_xlabel(\"General Freedom\")\n",
    "ax.set_ylabel(\"Economic Freedom\")"
   ]
  },
  {
   "cell_type": "code",
   "execution_count": null,
   "metadata": {},
   "outputs": [],
   "source": [
    "# inidividual examination of human freedom and economic freedome colored by personal freedome of movement\n",
    "\n",
    "scatterPlot(plotName=\"hf_ef_pf\", x_axis=hfi[\"hf_score\"], x_label=\"Freedom Score\", y_axis=hfi[\"ef_score\"], y_label=\"Economic Freedom\", c_label=\"Movement Freedom\", c_value=hfi[\"pf_movement\"], cmap_value=\"viridis\")"
   ]
  },
  {
   "cell_type": "code",
   "execution_count": null,
   "metadata": {},
   "outputs": [],
   "source": [
    "# examination as above but colored by women's personal freedome of movement (similar correlation)\n",
    "\n",
    "scatterPlot(plotName=\"hf_ef_pf_w\", x_axis=hfi[\"hf_score\"], x_label=\"Freedom Score\", y_axis=hfi[\"ef_score\"], y_label=\"Economic Freedom\", c_label=\"Movement Freedom\", c_value=hfi[\"pf_movement_women\"], cmap_value=\"viridis\")\n"
   ]
  },
  {
   "cell_type": "code",
   "execution_count": null,
   "metadata": {},
   "outputs": [],
   "source": [
    "# bar chart of movement and overall freedom scores for Albania\n",
    "\n",
    "albania = hfi.head(1).groupby(\"countries\")[\"hf_score\", \"pf_movement\", \"pf_movement_women\"]\n",
    "\n",
    "albania.describe()\n",
    "\n",
    "albania.plot(kind=\"bar\", xlim=(0,10), ylim=(0,10))"
   ]
  },
  {
   "cell_type": "code",
   "execution_count": null,
   "metadata": {},
   "outputs": [],
   "source": [
    "# visualize correlation between movement freedom and overall freedom colored by women's personal freedom of movmeent\n",
    "\n",
    "scatterPlot(plotName=\"hf_movement_all\", x_axis=hfi[\"pf_movement\"], x_label=\"Movement Freedom\", y_axis=hfi[\"hf_score\"], y_label=\"Freedom Score\", c_label=\"Movement Women\", c_value=hfi[\"pf_movement_women\"], cmap_value=\"viridis\")\n",
    "\n",
    "# visualize correlation between womens' movement freedom and overall freedom\n",
    "\n",
    "# hfi.plot(kind=\"scatter\", x=\"pf_movement_women\", y=\"hf_score\", c=\"pf_movement\", cmap=\"viridis\")\n",
    "\n",
    "scatterPlot(plotName=\"pf_movement_all\", x_axis=hfi[\"pf_movement_women\"], x_label=\"Women Movement\", y_axis=hfi[\"hf_score\"], y_label=\"Freedom Score\", c_label=\"Movement Freedom\", c_value=hfi[\"pf_movement\"], cmap_value=\"viridis\")\n"
   ]
  },
  {
   "cell_type": "code",
   "execution_count": null,
   "metadata": {},
   "outputs": [],
   "source": [
    "# get list of land locked countries\n",
    "\n",
    "land_locked_countries = pd.Series([\"Afghanistan\", \"Andorra\", \"Armenia\", \"Artsakh\", \"Austria\", \"Azerbaijan\", \"Belarus\", \"Bhutan\", \"Bolivia\", \"Botswana\", \"Burkina Faso\", \"Burundi\", \"Central African Republic\", \"Chad\", \"Czech Republic\", \"Ethiopia\", \"Hungary\",\"Kazakhstan\", \"Kosovo\", \"Kyrgyzstan\", \"Laos\", \"Lesotho\", \"Liechtenstein\", \"Luxembourg\", \"Macedonia\", \"Malawi\", \"Mali\", \"Moldova\", \"Mongolia\", \"Nepal\", \"Niger\", \"Paraguay\", \"Rwanda\", \"San Marino\" , \"Serbia\", \"Slovakia\", \"South Ossetia\", \"South Sudan\", \"Swaziland\", \"Switzerland\",\"Tajikistan\", \"Transnistria\", \"Turkmenistan\", \"Uganda\", \"Uzbekistan\",\"Vatican City\", \"West Bank\", \"Zambia\", \"Zimbabwe\"])\n",
    "land_locked_countries.head()"
   ]
  },
  {
   "cell_type": "code",
   "execution_count": null,
   "metadata": {},
   "outputs": [],
   "source": [
    "# list non land locked countries\n",
    "\n",
    "nll_happiness = hfi.loc[~hfi[\"countries\"].isin(land_locked_countries)]\n",
    "\n",
    "nll_rank = nll_happiness.groupby(\"countries\")[\"pf_movement\"]"
   ]
  },
  {
   "cell_type": "code",
   "execution_count": null,
   "metadata": {},
   "outputs": [],
   "source": [
    "# select only land locked countries from dataframe (ref: https://stackoverflow.com/questions/17071871/select-rows-from-a-dataframe-based-on-values-in-a-column-in-pandas)\n",
    "\n",
    "llh = hfi.loc[hfi['countries'].isin(land_locked_countries)]\n",
    "\n",
    "# land_locked_happiness.describe()\n",
    "\n",
    "# list land locked countries by movement freedom rank\n",
    "\n",
    "llc_rank = land_locked_happiness.groupby(\"countries\")[[\"pf_movement\"]].mean()\n",
    "\n",
    "# llc_rank.sort_values(\"pf_movement\", ascending=False)\n",
    "\n",
    "# llh.plot(kind=\"scatter\", x=\"pf_movement\", y=\"pf_movement_women\", c=\"hf_score\", cmap=\"viridis\")\n",
    "\n",
    "scatterPlot(plotName=\"land_locked\", x_axis=llh[\"pf_movement\"], x_label=\"Movement Freedom\", y_axis=llh[\"pf_movement_women\"], y_label=\"Women Freedom\", c_label=\"Freedom Score\", c_value=llh[\"hf_score\"], cmap_value=\"viridis\")\n"
   ]
  },
  {
   "cell_type": "code",
   "execution_count": null,
   "metadata": {},
   "outputs": [],
   "source": [
    "land_locked_happiness.hist(column=\"pf_rol\")"
   ]
  },
  {
   "cell_type": "code",
   "execution_count": null,
   "metadata": {},
   "outputs": [],
   "source": [
    "# llh.plot(x=\"pf_rol\", y=\"hf_score\", kind=\"scatter\", c=\"ef_score\", cmap=\"viridis\")\n",
    "\n",
    "scatterPlot(plotName=\"land_locked\", x_axis=llh[\"pf_rol\"], x_label=\"pf_rol\", y_axis=llh[\"hf_score\"], y_label=\"Freedom Score\", c_label=\"Economic Score\", c_value=llh[\"ef_score\"], cmap_value=\"viridis\")\n"
   ]
  },
  {
   "cell_type": "code",
   "execution_count": null,
   "metadata": {},
   "outputs": [],
   "source": []
  }
 ],
 "metadata": {
  "kernelspec": {
   "display_name": "Python 3",
   "language": "python",
   "name": "python3"
  },
  "language_info": {
   "codemirror_mode": {
    "name": "ipython",
    "version": 3
   },
   "file_extension": ".py",
   "mimetype": "text/x-python",
   "name": "python",
   "nbconvert_exporter": "python",
   "pygments_lexer": "ipython3",
   "version": "3.7.0"
  }
 },
 "nbformat": 4,
 "nbformat_minor": 2
}
